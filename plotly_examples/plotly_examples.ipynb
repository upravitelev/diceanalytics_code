{
 "cells": [
  {
   "cell_type": "markdown",
   "id": "c5716add-d2a9-4786-895b-ecb6c227c071",
   "metadata": {
    "tags": []
   },
   "source": [
    "# Setup"
   ]
  },
  {
   "cell_type": "code",
   "execution_count": null,
   "id": "fe24c2f2-fc83-4a9d-af0e-a57519230419",
   "metadata": {},
   "outputs": [
    {
     "name": "stdout",
     "output_type": "stream",
     "text": [
      "[sudo] password for konhis: "
     ]
    }
   ],
   "source": [
    "! apt install pipx"
   ]
  },
  {
   "cell_type": "code",
   "execution_count": null,
   "id": "216a7804-173c-44d7-a8e3-b9c59dad99e5",
   "metadata": {},
   "outputs": [],
   "source": []
  },
  {
   "cell_type": "code",
   "execution_count": 1,
   "id": "5f24c031-5cc8-4dd0-ba5d-a655683e7760",
   "metadata": {},
   "outputs": [],
   "source": [
    "# !jupyter nbextension install --user --py widgetsnbextension\n",
    "# !jupyter nbextension enable widgetsnbextension --user --py"
   ]
  },
  {
   "cell_type": "code",
   "execution_count": 2,
   "id": "dc4179d5-5771-4bde-bf0e-a17fa593efc7",
   "metadata": {},
   "outputs": [
    {
     "name": "stdout",
     "output_type": "stream",
     "text": [
      "usage: jupyter [-h] [--version] [--config-dir] [--data-dir] [--runtime-dir]\n",
      "               [--paths] [--json] [--debug]\n",
      "               [subcommand]\n",
      "\n",
      "Jupyter: Interactive Computing\n",
      "\n",
      "positional arguments:\n",
      "  subcommand     the subcommand to launch\n",
      "\n",
      "options:\n",
      "  -h, --help     show this help message and exit\n",
      "  --version      show the versions of core jupyter packages and exit\n",
      "  --config-dir   show Jupyter config dir\n",
      "  --data-dir     show Jupyter data dir\n",
      "  --runtime-dir  show Jupyter runtime dir\n",
      "  --paths        show all Jupyter paths. Add --json for machine-readable\n",
      "                 format.\n",
      "  --json         output paths as machine-readable json\n",
      "  --debug        output debug information about paths\n",
      "\n",
      "Available subcommands: dejavu events execute kernel kernelspec lab\n",
      "labextension labhub migrate nbconvert run server troubleshoot trust\n",
      "\n",
      "Jupyter command `jupyter-nbextension` not found.\n"
     ]
    }
   ],
   "source": [
    "!jupyter nbextension enable widgetsnbextension --user --py"
   ]
  },
  {
   "cell_type": "code",
   "execution_count": 1,
   "id": "55449348-82c8-40ce-879f-90b2edf0e6d4",
   "metadata": {},
   "outputs": [
    {
     "name": "stdout",
     "output_type": "stream",
     "text": [
      "\u001b[1;31merror\u001b[0m: \u001b[1mexternally-managed-environment\u001b[0m\n",
      "\n",
      "\u001b[31m×\u001b[0m This environment is externally managed\n",
      "\u001b[31m╰─>\u001b[0m To install Python packages system-wide, try apt install\n",
      "\u001b[31m   \u001b[0m python3-xyz, where xyz is the package you are trying to\n",
      "\u001b[31m   \u001b[0m install.\n",
      "\u001b[31m   \u001b[0m \n",
      "\u001b[31m   \u001b[0m If you wish to install a non-Debian-packaged Python package,\n",
      "\u001b[31m   \u001b[0m create a virtual environment using python3 -m venv path/to/venv.\n",
      "\u001b[31m   \u001b[0m Then use path/to/venv/bin/python and path/to/venv/bin/pip. Make\n",
      "\u001b[31m   \u001b[0m sure you have python3-full installed.\n",
      "\u001b[31m   \u001b[0m \n",
      "\u001b[31m   \u001b[0m If you wish to install a non-Debian packaged Python application,\n",
      "\u001b[31m   \u001b[0m it may be easiest to use pipx install xyz, which will manage a\n",
      "\u001b[31m   \u001b[0m virtual environment for you. Make sure you have pipx installed.\n",
      "\u001b[31m   \u001b[0m \n",
      "\u001b[31m   \u001b[0m See /usr/share/doc/python3.11/README.venv for more information.\n",
      "\n",
      "\u001b[1;35mnote\u001b[0m: If you believe this is a mistake, please contact your Python installation or OS distribution provider. You can override this, at the risk of breaking your Python installation or OS, by passing --break-system-packages.\n",
      "\u001b[1;36mhint\u001b[0m: See PEP 668 for the detailed specification.\n"
     ]
    }
   ],
   "source": [
    "!pip install jupyter-nbextension"
   ]
  },
  {
   "cell_type": "code",
   "execution_count": 23,
   "id": "3c8461a3-d9ef-4077-ac0e-aa058199cd8a",
   "metadata": {},
   "outputs": [],
   "source": [
    "# !~/Documents/Jupyter_notebooks/venv/bin/python -m pip install ipywidgets\n",
    "# !~/Documents/Jupyter_notebooks/venv/bin/python -m pip install jupyter_contrib_nbextensions\n",
    "# !~/Documents/Jupyter_notebooks/venv/bin/python -m jupyter contrib nbextension install --sys-prefix\n",
    "# !~/Documents/Jupyter_notebooks/venv/bin/python -m pip install jupyter_nbextensions_configurator\n",
    "# !~/Documents/Jupyter_notebooks/venv/bin/python -m jupyter nbextensions_configurator enable \n",
    "\n",
    "# !~/Documents/Jupyter_notebooks/venv/bin/python -m pip install nbclassic"
   ]
  },
  {
   "cell_type": "code",
   "execution_count": 21,
   "id": "c09b18a9-6806-45db-b3fb-5ea4c96e4643",
   "metadata": {},
   "outputs": [
    {
     "name": "stdout",
     "output_type": "stream",
     "text": [
      "usage: jupyter [-h] [--version] [--config-dir] [--data-dir] [--runtime-dir]\n",
      "               [--paths] [--json] [--debug]\n",
      "               [subcommand]\n",
      "\n",
      "Jupyter: Interactive Computing\n",
      "\n",
      "positional arguments:\n",
      "  subcommand     the subcommand to launch\n",
      "\n",
      "options:\n",
      "  -h, --help     show this help message and exit\n",
      "  --version      show the versions of core jupyter packages and exit\n",
      "  --config-dir   show Jupyter config dir\n",
      "  --data-dir     show Jupyter data dir\n",
      "  --runtime-dir  show Jupyter runtime dir\n",
      "  --paths        show all Jupyter paths. Add --json for machine-readable\n",
      "                 format.\n",
      "  --json         output paths as machine-readable json\n",
      "  --debug        output debug information about paths\n",
      "\n",
      "Available subcommands: dejavu events execute kernel kernelspec lab\n",
      "labextension labhub migrate nbconvert run server troubleshoot trust\n",
      "\n",
      "Jupyter command `jupyter-nbextension` not found.\n"
     ]
    }
   ],
   "source": [
    "!jupyter nbextension enable --py --sys-prefix widgetsnbextension"
   ]
  },
  {
   "cell_type": "code",
   "execution_count": 25,
   "id": "5ec8ac51-529c-40dd-9e4f-dfb5158ae27b",
   "metadata": {},
   "outputs": [
    {
     "name": "stdout",
     "output_type": "stream",
     "text": [
      "Requirement already satisfied: jupyterlab in /home/konhis/Documents/Jupyter_notebooks/venv/lib/python3.11/site-packages (4.2.4)\n",
      "Requirement already satisfied: async-lru>=1.0.0 in /home/konhis/Documents/Jupyter_notebooks/venv/lib/python3.11/site-packages (from jupyterlab) (2.0.4)\n",
      "Requirement already satisfied: httpx>=0.25.0 in /home/konhis/Documents/Jupyter_notebooks/venv/lib/python3.11/site-packages (from jupyterlab) (0.27.0)\n",
      "Requirement already satisfied: ipykernel>=6.5.0 in /home/konhis/Documents/Jupyter_notebooks/venv/lib/python3.11/site-packages (from jupyterlab) (6.29.5)\n",
      "Requirement already satisfied: jinja2>=3.0.3 in /home/konhis/Documents/Jupyter_notebooks/venv/lib/python3.11/site-packages (from jupyterlab) (3.1.4)\n",
      "Requirement already satisfied: jupyter-core in /home/konhis/Documents/Jupyter_notebooks/venv/lib/python3.11/site-packages (from jupyterlab) (5.7.2)\n",
      "Requirement already satisfied: jupyter-lsp>=2.0.0 in /home/konhis/Documents/Jupyter_notebooks/venv/lib/python3.11/site-packages (from jupyterlab) (2.2.5)\n",
      "Requirement already satisfied: jupyter-server<3,>=2.4.0 in /home/konhis/Documents/Jupyter_notebooks/venv/lib/python3.11/site-packages (from jupyterlab) (2.14.2)\n",
      "Requirement already satisfied: jupyterlab-server<3,>=2.27.1 in /home/konhis/Documents/Jupyter_notebooks/venv/lib/python3.11/site-packages (from jupyterlab) (2.27.3)\n",
      "Requirement already satisfied: notebook-shim>=0.2 in /home/konhis/Documents/Jupyter_notebooks/venv/lib/python3.11/site-packages (from jupyterlab) (0.2.4)\n",
      "Requirement already satisfied: packaging in /home/konhis/Documents/Jupyter_notebooks/venv/lib/python3.11/site-packages (from jupyterlab) (24.1)\n",
      "Requirement already satisfied: setuptools>=40.1.0 in /home/konhis/Documents/Jupyter_notebooks/venv/lib/python3.11/site-packages (from jupyterlab) (68.1.2)\n",
      "Requirement already satisfied: tornado>=6.2.0 in /home/konhis/Documents/Jupyter_notebooks/venv/lib/python3.11/site-packages (from jupyterlab) (6.4.1)\n",
      "Requirement already satisfied: traitlets in /home/konhis/Documents/Jupyter_notebooks/venv/lib/python3.11/site-packages (from jupyterlab) (5.14.3)\n",
      "Requirement already satisfied: anyio in /home/konhis/Documents/Jupyter_notebooks/venv/lib/python3.11/site-packages (from httpx>=0.25.0->jupyterlab) (4.4.0)\n",
      "Requirement already satisfied: certifi in /home/konhis/Documents/Jupyter_notebooks/venv/lib/python3.11/site-packages (from httpx>=0.25.0->jupyterlab) (2024.7.4)\n",
      "Requirement already satisfied: httpcore==1.* in /home/konhis/Documents/Jupyter_notebooks/venv/lib/python3.11/site-packages (from httpx>=0.25.0->jupyterlab) (1.0.5)\n",
      "Requirement already satisfied: idna in /home/konhis/Documents/Jupyter_notebooks/venv/lib/python3.11/site-packages (from httpx>=0.25.0->jupyterlab) (3.7)\n",
      "Requirement already satisfied: sniffio in /home/konhis/Documents/Jupyter_notebooks/venv/lib/python3.11/site-packages (from httpx>=0.25.0->jupyterlab) (1.3.1)\n",
      "Requirement already satisfied: h11<0.15,>=0.13 in /home/konhis/Documents/Jupyter_notebooks/venv/lib/python3.11/site-packages (from httpcore==1.*->httpx>=0.25.0->jupyterlab) (0.14.0)\n",
      "Requirement already satisfied: comm>=0.1.1 in /home/konhis/Documents/Jupyter_notebooks/venv/lib/python3.11/site-packages (from ipykernel>=6.5.0->jupyterlab) (0.2.2)\n",
      "Requirement already satisfied: debugpy>=1.6.5 in /home/konhis/Documents/Jupyter_notebooks/venv/lib/python3.11/site-packages (from ipykernel>=6.5.0->jupyterlab) (1.8.5)\n",
      "Requirement already satisfied: ipython>=7.23.1 in /home/konhis/Documents/Jupyter_notebooks/venv/lib/python3.11/site-packages (from ipykernel>=6.5.0->jupyterlab) (8.26.0)\n",
      "Requirement already satisfied: jupyter-client>=6.1.12 in /home/konhis/Documents/Jupyter_notebooks/venv/lib/python3.11/site-packages (from ipykernel>=6.5.0->jupyterlab) (8.6.2)\n",
      "Requirement already satisfied: matplotlib-inline>=0.1 in /home/konhis/Documents/Jupyter_notebooks/venv/lib/python3.11/site-packages (from ipykernel>=6.5.0->jupyterlab) (0.1.7)\n",
      "Requirement already satisfied: nest-asyncio in /home/konhis/Documents/Jupyter_notebooks/venv/lib/python3.11/site-packages (from ipykernel>=6.5.0->jupyterlab) (1.6.0)\n",
      "Requirement already satisfied: psutil in /home/konhis/Documents/Jupyter_notebooks/venv/lib/python3.11/site-packages (from ipykernel>=6.5.0->jupyterlab) (6.0.0)\n",
      "Requirement already satisfied: pyzmq>=24 in /home/konhis/Documents/Jupyter_notebooks/venv/lib/python3.11/site-packages (from ipykernel>=6.5.0->jupyterlab) (26.1.0)\n",
      "Requirement already satisfied: MarkupSafe>=2.0 in /home/konhis/Documents/Jupyter_notebooks/venv/lib/python3.11/site-packages (from jinja2>=3.0.3->jupyterlab) (2.1.5)\n",
      "Requirement already satisfied: platformdirs>=2.5 in /home/konhis/Documents/Jupyter_notebooks/venv/lib/python3.11/site-packages (from jupyter-core->jupyterlab) (4.2.2)\n",
      "Requirement already satisfied: argon2-cffi>=21.1 in /home/konhis/Documents/Jupyter_notebooks/venv/lib/python3.11/site-packages (from jupyter-server<3,>=2.4.0->jupyterlab) (23.1.0)\n",
      "Requirement already satisfied: jupyter-events>=0.9.0 in /home/konhis/Documents/Jupyter_notebooks/venv/lib/python3.11/site-packages (from jupyter-server<3,>=2.4.0->jupyterlab) (0.10.0)\n",
      "Requirement already satisfied: jupyter-server-terminals>=0.4.4 in /home/konhis/Documents/Jupyter_notebooks/venv/lib/python3.11/site-packages (from jupyter-server<3,>=2.4.0->jupyterlab) (0.5.3)\n",
      "Requirement already satisfied: nbconvert>=6.4.4 in /home/konhis/Documents/Jupyter_notebooks/venv/lib/python3.11/site-packages (from jupyter-server<3,>=2.4.0->jupyterlab) (7.16.4)\n",
      "Requirement already satisfied: nbformat>=5.3.0 in /home/konhis/Documents/Jupyter_notebooks/venv/lib/python3.11/site-packages (from jupyter-server<3,>=2.4.0->jupyterlab) (5.10.4)\n",
      "Requirement already satisfied: overrides>=5.0 in /home/konhis/Documents/Jupyter_notebooks/venv/lib/python3.11/site-packages (from jupyter-server<3,>=2.4.0->jupyterlab) (7.7.0)\n",
      "Requirement already satisfied: prometheus-client>=0.9 in /home/konhis/Documents/Jupyter_notebooks/venv/lib/python3.11/site-packages (from jupyter-server<3,>=2.4.0->jupyterlab) (0.20.0)\n",
      "Requirement already satisfied: send2trash>=1.8.2 in /home/konhis/Documents/Jupyter_notebooks/venv/lib/python3.11/site-packages (from jupyter-server<3,>=2.4.0->jupyterlab) (1.8.3)\n",
      "Requirement already satisfied: terminado>=0.8.3 in /home/konhis/Documents/Jupyter_notebooks/venv/lib/python3.11/site-packages (from jupyter-server<3,>=2.4.0->jupyterlab) (0.18.1)\n",
      "Requirement already satisfied: websocket-client>=1.7 in /home/konhis/Documents/Jupyter_notebooks/venv/lib/python3.11/site-packages (from jupyter-server<3,>=2.4.0->jupyterlab) (1.8.0)\n",
      "Requirement already satisfied: babel>=2.10 in /home/konhis/Documents/Jupyter_notebooks/venv/lib/python3.11/site-packages (from jupyterlab-server<3,>=2.27.1->jupyterlab) (2.16.0)\n",
      "Requirement already satisfied: json5>=0.9.0 in /home/konhis/Documents/Jupyter_notebooks/venv/lib/python3.11/site-packages (from jupyterlab-server<3,>=2.27.1->jupyterlab) (0.9.25)\n",
      "Requirement already satisfied: jsonschema>=4.18.0 in /home/konhis/Documents/Jupyter_notebooks/venv/lib/python3.11/site-packages (from jupyterlab-server<3,>=2.27.1->jupyterlab) (4.23.0)\n",
      "Requirement already satisfied: requests>=2.31 in /home/konhis/Documents/Jupyter_notebooks/venv/lib/python3.11/site-packages (from jupyterlab-server<3,>=2.27.1->jupyterlab) (2.32.3)\n",
      "Requirement already satisfied: argon2-cffi-bindings in /home/konhis/Documents/Jupyter_notebooks/venv/lib/python3.11/site-packages (from argon2-cffi>=21.1->jupyter-server<3,>=2.4.0->jupyterlab) (21.2.0)\n",
      "Requirement already satisfied: decorator in /home/konhis/Documents/Jupyter_notebooks/venv/lib/python3.11/site-packages (from ipython>=7.23.1->ipykernel>=6.5.0->jupyterlab) (5.1.1)\n",
      "Requirement already satisfied: jedi>=0.16 in /home/konhis/Documents/Jupyter_notebooks/venv/lib/python3.11/site-packages (from ipython>=7.23.1->ipykernel>=6.5.0->jupyterlab) (0.19.1)\n",
      "Requirement already satisfied: prompt-toolkit<3.1.0,>=3.0.41 in /home/konhis/Documents/Jupyter_notebooks/venv/lib/python3.11/site-packages (from ipython>=7.23.1->ipykernel>=6.5.0->jupyterlab) (3.0.47)\n",
      "Requirement already satisfied: pygments>=2.4.0 in /home/konhis/Documents/Jupyter_notebooks/venv/lib/python3.11/site-packages (from ipython>=7.23.1->ipykernel>=6.5.0->jupyterlab) (2.18.0)\n",
      "Requirement already satisfied: stack-data in /home/konhis/Documents/Jupyter_notebooks/venv/lib/python3.11/site-packages (from ipython>=7.23.1->ipykernel>=6.5.0->jupyterlab) (0.6.3)\n",
      "Requirement already satisfied: typing-extensions>=4.6 in /home/konhis/Documents/Jupyter_notebooks/venv/lib/python3.11/site-packages (from ipython>=7.23.1->ipykernel>=6.5.0->jupyterlab) (4.12.2)\n",
      "Requirement already satisfied: pexpect>4.3 in /home/konhis/Documents/Jupyter_notebooks/venv/lib/python3.11/site-packages (from ipython>=7.23.1->ipykernel>=6.5.0->jupyterlab) (4.9.0)\n",
      "Requirement already satisfied: attrs>=22.2.0 in /home/konhis/Documents/Jupyter_notebooks/venv/lib/python3.11/site-packages (from jsonschema>=4.18.0->jupyterlab-server<3,>=2.27.1->jupyterlab) (24.2.0)\n",
      "Requirement already satisfied: jsonschema-specifications>=2023.03.6 in /home/konhis/Documents/Jupyter_notebooks/venv/lib/python3.11/site-packages (from jsonschema>=4.18.0->jupyterlab-server<3,>=2.27.1->jupyterlab) (2023.12.1)\n",
      "Requirement already satisfied: referencing>=0.28.4 in /home/konhis/Documents/Jupyter_notebooks/venv/lib/python3.11/site-packages (from jsonschema>=4.18.0->jupyterlab-server<3,>=2.27.1->jupyterlab) (0.35.1)\n",
      "Requirement already satisfied: rpds-py>=0.7.1 in /home/konhis/Documents/Jupyter_notebooks/venv/lib/python3.11/site-packages (from jsonschema>=4.18.0->jupyterlab-server<3,>=2.27.1->jupyterlab) (0.20.0)\n",
      "Requirement already satisfied: python-dateutil>=2.8.2 in /home/konhis/Documents/Jupyter_notebooks/venv/lib/python3.11/site-packages (from jupyter-client>=6.1.12->ipykernel>=6.5.0->jupyterlab) (2.9.0.post0)\n",
      "Requirement already satisfied: python-json-logger>=2.0.4 in /home/konhis/Documents/Jupyter_notebooks/venv/lib/python3.11/site-packages (from jupyter-events>=0.9.0->jupyter-server<3,>=2.4.0->jupyterlab) (2.0.7)\n",
      "Requirement already satisfied: pyyaml>=5.3 in /home/konhis/Documents/Jupyter_notebooks/venv/lib/python3.11/site-packages (from jupyter-events>=0.9.0->jupyter-server<3,>=2.4.0->jupyterlab) (6.0.2)\n",
      "Requirement already satisfied: rfc3339-validator in /home/konhis/Documents/Jupyter_notebooks/venv/lib/python3.11/site-packages (from jupyter-events>=0.9.0->jupyter-server<3,>=2.4.0->jupyterlab) (0.1.4)\n",
      "Requirement already satisfied: rfc3986-validator>=0.1.1 in /home/konhis/Documents/Jupyter_notebooks/venv/lib/python3.11/site-packages (from jupyter-events>=0.9.0->jupyter-server<3,>=2.4.0->jupyterlab) (0.1.1)\n",
      "Requirement already satisfied: beautifulsoup4 in /home/konhis/Documents/Jupyter_notebooks/venv/lib/python3.11/site-packages (from nbconvert>=6.4.4->jupyter-server<3,>=2.4.0->jupyterlab) (4.12.3)\n",
      "Requirement already satisfied: bleach!=5.0.0 in /home/konhis/Documents/Jupyter_notebooks/venv/lib/python3.11/site-packages (from nbconvert>=6.4.4->jupyter-server<3,>=2.4.0->jupyterlab) (6.1.0)\n",
      "Requirement already satisfied: defusedxml in /home/konhis/Documents/Jupyter_notebooks/venv/lib/python3.11/site-packages (from nbconvert>=6.4.4->jupyter-server<3,>=2.4.0->jupyterlab) (0.7.1)\n",
      "Requirement already satisfied: jupyterlab-pygments in /home/konhis/Documents/Jupyter_notebooks/venv/lib/python3.11/site-packages (from nbconvert>=6.4.4->jupyter-server<3,>=2.4.0->jupyterlab) (0.3.0)\n",
      "Requirement already satisfied: mistune<4,>=2.0.3 in /home/konhis/Documents/Jupyter_notebooks/venv/lib/python3.11/site-packages (from nbconvert>=6.4.4->jupyter-server<3,>=2.4.0->jupyterlab) (3.0.2)\n",
      "Requirement already satisfied: nbclient>=0.5.0 in /home/konhis/Documents/Jupyter_notebooks/venv/lib/python3.11/site-packages (from nbconvert>=6.4.4->jupyter-server<3,>=2.4.0->jupyterlab) (0.10.0)\n",
      "Requirement already satisfied: pandocfilters>=1.4.1 in /home/konhis/Documents/Jupyter_notebooks/venv/lib/python3.11/site-packages (from nbconvert>=6.4.4->jupyter-server<3,>=2.4.0->jupyterlab) (1.5.1)\n",
      "Requirement already satisfied: tinycss2 in /home/konhis/Documents/Jupyter_notebooks/venv/lib/python3.11/site-packages (from nbconvert>=6.4.4->jupyter-server<3,>=2.4.0->jupyterlab) (1.3.0)\n",
      "Requirement already satisfied: fastjsonschema>=2.15 in /home/konhis/Documents/Jupyter_notebooks/venv/lib/python3.11/site-packages (from nbformat>=5.3.0->jupyter-server<3,>=2.4.0->jupyterlab) (2.20.0)\n",
      "Requirement already satisfied: charset-normalizer<4,>=2 in /home/konhis/Documents/Jupyter_notebooks/venv/lib/python3.11/site-packages (from requests>=2.31->jupyterlab-server<3,>=2.27.1->jupyterlab) (3.3.2)\n",
      "Requirement already satisfied: urllib3<3,>=1.21.1 in /home/konhis/Documents/Jupyter_notebooks/venv/lib/python3.11/site-packages (from requests>=2.31->jupyterlab-server<3,>=2.27.1->jupyterlab) (2.2.2)\n",
      "Requirement already satisfied: ptyprocess in /home/konhis/Documents/Jupyter_notebooks/venv/lib/python3.11/site-packages (from terminado>=0.8.3->jupyter-server<3,>=2.4.0->jupyterlab) (0.7.0)\n",
      "Requirement already satisfied: six>=1.9.0 in /home/konhis/Documents/Jupyter_notebooks/venv/lib/python3.11/site-packages (from bleach!=5.0.0->nbconvert>=6.4.4->jupyter-server<3,>=2.4.0->jupyterlab) (1.16.0)\n",
      "Requirement already satisfied: webencodings in /home/konhis/Documents/Jupyter_notebooks/venv/lib/python3.11/site-packages (from bleach!=5.0.0->nbconvert>=6.4.4->jupyter-server<3,>=2.4.0->jupyterlab) (0.5.1)\n",
      "Requirement already satisfied: parso<0.9.0,>=0.8.3 in /home/konhis/Documents/Jupyter_notebooks/venv/lib/python3.11/site-packages (from jedi>=0.16->ipython>=7.23.1->ipykernel>=6.5.0->jupyterlab) (0.8.4)\n",
      "Requirement already satisfied: fqdn in /home/konhis/Documents/Jupyter_notebooks/venv/lib/python3.11/site-packages (from jsonschema>=4.18.0->jupyterlab-server<3,>=2.27.1->jupyterlab) (1.5.1)\n",
      "Requirement already satisfied: isoduration in /home/konhis/Documents/Jupyter_notebooks/venv/lib/python3.11/site-packages (from jsonschema>=4.18.0->jupyterlab-server<3,>=2.27.1->jupyterlab) (20.11.0)\n",
      "Requirement already satisfied: jsonpointer>1.13 in /home/konhis/Documents/Jupyter_notebooks/venv/lib/python3.11/site-packages (from jsonschema>=4.18.0->jupyterlab-server<3,>=2.27.1->jupyterlab) (3.0.0)\n",
      "Requirement already satisfied: uri-template in /home/konhis/Documents/Jupyter_notebooks/venv/lib/python3.11/site-packages (from jsonschema>=4.18.0->jupyterlab-server<3,>=2.27.1->jupyterlab) (1.3.0)\n",
      "Requirement already satisfied: webcolors>=24.6.0 in /home/konhis/Documents/Jupyter_notebooks/venv/lib/python3.11/site-packages (from jsonschema>=4.18.0->jupyterlab-server<3,>=2.27.1->jupyterlab) (24.8.0)\n",
      "Requirement already satisfied: wcwidth in /home/konhis/Documents/Jupyter_notebooks/venv/lib/python3.11/site-packages (from prompt-toolkit<3.1.0,>=3.0.41->ipython>=7.23.1->ipykernel>=6.5.0->jupyterlab) (0.2.13)\n",
      "Requirement already satisfied: cffi>=1.0.1 in /home/konhis/Documents/Jupyter_notebooks/venv/lib/python3.11/site-packages (from argon2-cffi-bindings->argon2-cffi>=21.1->jupyter-server<3,>=2.4.0->jupyterlab) (1.17.0)\n",
      "Requirement already satisfied: soupsieve>1.2 in /home/konhis/Documents/Jupyter_notebooks/venv/lib/python3.11/site-packages (from beautifulsoup4->nbconvert>=6.4.4->jupyter-server<3,>=2.4.0->jupyterlab) (2.6)\n",
      "Requirement already satisfied: executing>=1.2.0 in /home/konhis/Documents/Jupyter_notebooks/venv/lib/python3.11/site-packages (from stack-data->ipython>=7.23.1->ipykernel>=6.5.0->jupyterlab) (2.0.1)\n",
      "Requirement already satisfied: asttokens>=2.1.0 in /home/konhis/Documents/Jupyter_notebooks/venv/lib/python3.11/site-packages (from stack-data->ipython>=7.23.1->ipykernel>=6.5.0->jupyterlab) (2.4.1)\n",
      "Requirement already satisfied: pure-eval in /home/konhis/Documents/Jupyter_notebooks/venv/lib/python3.11/site-packages (from stack-data->ipython>=7.23.1->ipykernel>=6.5.0->jupyterlab) (0.2.3)\n",
      "Requirement already satisfied: pycparser in /home/konhis/Documents/Jupyter_notebooks/venv/lib/python3.11/site-packages (from cffi>=1.0.1->argon2-cffi-bindings->argon2-cffi>=21.1->jupyter-server<3,>=2.4.0->jupyterlab) (2.22)\n",
      "Requirement already satisfied: arrow>=0.15.0 in /home/konhis/Documents/Jupyter_notebooks/venv/lib/python3.11/site-packages (from isoduration->jsonschema>=4.18.0->jupyterlab-server<3,>=2.27.1->jupyterlab) (1.3.0)\n",
      "Requirement already satisfied: types-python-dateutil>=2.8.10 in /home/konhis/Documents/Jupyter_notebooks/venv/lib/python3.11/site-packages (from arrow>=0.15.0->isoduration->jsonschema>=4.18.0->jupyterlab-server<3,>=2.27.1->jupyterlab) (2.9.0.20240316)\n"
     ]
    }
   ],
   "source": [
    "!~/Documents/Jupyter_notebooks/venv/bin/python -m pip install jupyterlab"
   ]
  },
  {
   "cell_type": "code",
   "execution_count": null,
   "id": "5a86b237-633b-4dcc-85e6-a592a4d4b10e",
   "metadata": {},
   "outputs": [],
   "source": []
  },
  {
   "cell_type": "code",
   "execution_count": 24,
   "id": "c0b6581d-8916-43a3-b97e-73d5d7a6a135",
   "metadata": {},
   "outputs": [
    {
     "name": "stdout",
     "output_type": "stream",
     "text": [
      "/bin/bash: line 1: node: command not found\n"
     ]
    }
   ],
   "source": [
    "!node -v"
   ]
  },
  {
   "cell_type": "code",
   "execution_count": null,
   "id": "68201667-d176-4aab-b8e1-1e5fa3395710",
   "metadata": {},
   "outputs": [],
   "source": []
  },
  {
   "cell_type": "code",
   "execution_count": 2,
   "id": "031b901a-795f-4033-bb34-781e63377bc1",
   "metadata": {},
   "outputs": [],
   "source": [
    "import pandas as pd\n",
    "import plotly\n",
    "from plotly.subplots import make_subplots\n",
    "import plotly.io as pio\n",
    "import plotly_express as px\n",
    "\n",
    "import ipywidgets as widgets\n",
    "\n",
    "pd.set_option(\"display.max_columns\", None)\n",
    "pio.templates.default = \"none\""
   ]
  },
  {
   "cell_type": "markdown",
   "id": "eddd3b37-5830-436f-a103-fe7f907b15a0",
   "metadata": {},
   "source": [
    "# Import"
   ]
  },
  {
   "cell_type": "code",
   "execution_count": 3,
   "id": "f0bb4e78-7b5d-4801-a65c-f07329dbba9b",
   "metadata": {},
   "outputs": [],
   "source": [
    "payments_daily = pd.read_csv('payments_daily.csv')"
   ]
  },
  {
   "cell_type": "code",
   "execution_count": 4,
   "id": "79669a61-cde1-41d8-accb-7717882fd4bc",
   "metadata": {},
   "outputs": [],
   "source": [
    "payments_offers = pd.read_csv('payments_platforms.csv')"
   ]
  },
  {
   "cell_type": "markdown",
   "id": "95f891e5-1588-49cb-8632-39e3e8acaa18",
   "metadata": {},
   "source": [
    "# Graphs"
   ]
  },
  {
   "cell_type": "code",
   "execution_count": 5,
   "id": "0a0158c8-515f-40de-8512-1d3b7657ed4f",
   "metadata": {},
   "outputs": [
    {
     "data": {
      "text/html": [
       "        <script type=\"text/javascript\">\n",
       "        window.PlotlyConfig = {MathJaxConfig: 'local'};\n",
       "        if (window.MathJax && window.MathJax.Hub && window.MathJax.Hub.Config) {window.MathJax.Hub.Config({SVG: {font: \"STIX-Web\"}});}\n",
       "        if (typeof require !== 'undefined') {\n",
       "        require.undef(\"plotly\");\n",
       "        requirejs.config({\n",
       "            paths: {\n",
       "                'plotly': ['https://cdn.plot.ly/plotly-2.34.0.min']\n",
       "            }\n",
       "        });\n",
       "        require(['plotly'], function(Plotly) {\n",
       "            window._Plotly = Plotly;\n",
       "        });\n",
       "        }\n",
       "        </script>\n",
       "        "
      ]
     },
     "metadata": {},
     "output_type": "display_data"
    }
   ],
   "source": [
    "import pandas as pd\n",
    "import numpy as np\n",
    "import datetime as dt\n",
    "# from pix_data_source import PixourceFactory\n",
    "import warnings\n",
    "import plotly\n",
    "from plotly import graph_objs as go\n",
    "from plotly.offline import download_plotlyjs, init_notebook_mode, plot, iplot\n",
    "from plotly.subplots import make_subplots\n",
    "import plotly.io as pio\n",
    "import plotly_express as px\n",
    "import itertools\n",
    "\n",
    "import ipywidgets as widgets\n",
    "\n",
    "warnings.filterwarnings(\"ignore\")\n",
    "pd.set_option(\"display.max_columns\", None)\n",
    "init_notebook_mode(connected=True)\n",
    "pio.templates.default = \"none\""
   ]
  },
  {
   "cell_type": "code",
   "execution_count": 6,
   "id": "b2529f28-2e23-496b-b6c1-cc8dc3ffc89f",
   "metadata": {},
   "outputs": [
    {
     "data": {
      "text/html": [
       "        <script type=\"text/javascript\">\n",
       "        window.PlotlyConfig = {MathJaxConfig: 'local'};\n",
       "        if (window.MathJax && window.MathJax.Hub && window.MathJax.Hub.Config) {window.MathJax.Hub.Config({SVG: {font: \"STIX-Web\"}});}\n",
       "        if (typeof require !== 'undefined') {\n",
       "        require.undef(\"plotly\");\n",
       "        requirejs.config({\n",
       "            paths: {\n",
       "                'plotly': ['https://cdn.plot.ly/plotly-2.34.0.min']\n",
       "            }\n",
       "        });\n",
       "        require(['plotly'], function(Plotly) {\n",
       "            window._Plotly = Plotly;\n",
       "        });\n",
       "        }\n",
       "        </script>\n",
       "        "
      ]
     },
     "metadata": {},
     "output_type": "display_data"
    }
   ],
   "source": [
    "from plotly.offline import download_plotlyjs, init_notebook_mode, plot, iplot\n",
    "init_notebook_mode(connected=True)"
   ]
  },
  {
   "cell_type": "markdown",
   "id": "18d46afa-dba0-495b-83d9-c5695d48b24f",
   "metadata": {},
   "source": [
    "## ipywidgets"
   ]
  },
  {
   "cell_type": "code",
   "execution_count": 7,
   "id": "646ed06c-cdbd-4310-9952-fcbdc8e5d6d1",
   "metadata": {},
   "outputs": [
    {
     "data": {
      "text/html": [
       "<div>\n",
       "<style scoped>\n",
       "    .dataframe tbody tr th:only-of-type {\n",
       "        vertical-align: middle;\n",
       "    }\n",
       "\n",
       "    .dataframe tbody tr th {\n",
       "        vertical-align: top;\n",
       "    }\n",
       "\n",
       "    .dataframe thead th {\n",
       "        text-align: right;\n",
       "    }\n",
       "</style>\n",
       "<table border=\"1\" class=\"dataframe\">\n",
       "  <thead>\n",
       "    <tr style=\"text-align: right;\">\n",
       "      <th></th>\n",
       "      <th>pay_dt</th>\n",
       "      <th>platform</th>\n",
       "      <th>n_payers</th>\n",
       "      <th>revenue</th>\n",
       "    </tr>\n",
       "  </thead>\n",
       "  <tbody>\n",
       "    <tr>\n",
       "      <th>0</th>\n",
       "      <td>2024-06-01</td>\n",
       "      <td>Android</td>\n",
       "      <td>207</td>\n",
       "      <td>2412.851552</td>\n",
       "    </tr>\n",
       "    <tr>\n",
       "      <th>1</th>\n",
       "      <td>2024-06-01</td>\n",
       "      <td>iOS</td>\n",
       "      <td>270</td>\n",
       "      <td>3518.863426</td>\n",
       "    </tr>\n",
       "    <tr>\n",
       "      <th>2</th>\n",
       "      <td>2024-06-02</td>\n",
       "      <td>Android</td>\n",
       "      <td>169</td>\n",
       "      <td>1565.913212</td>\n",
       "    </tr>\n",
       "    <tr>\n",
       "      <th>3</th>\n",
       "      <td>2024-06-02</td>\n",
       "      <td>iOS</td>\n",
       "      <td>222</td>\n",
       "      <td>3125.658226</td>\n",
       "    </tr>\n",
       "    <tr>\n",
       "      <th>4</th>\n",
       "      <td>2024-06-03</td>\n",
       "      <td>Android</td>\n",
       "      <td>152</td>\n",
       "      <td>1321.584599</td>\n",
       "    </tr>\n",
       "  </tbody>\n",
       "</table>\n",
       "</div>"
      ],
      "text/plain": [
       "       pay_dt platform  n_payers      revenue\n",
       "0  2024-06-01  Android       207  2412.851552\n",
       "1  2024-06-01      iOS       270  3518.863426\n",
       "2  2024-06-02  Android       169  1565.913212\n",
       "3  2024-06-02      iOS       222  3125.658226\n",
       "4  2024-06-03  Android       152  1321.584599"
      ]
     },
     "execution_count": 7,
     "metadata": {},
     "output_type": "execute_result"
    }
   ],
   "source": [
    "payments_daily.head()"
   ]
  },
  {
   "cell_type": "code",
   "execution_count": 8,
   "id": "c3bc99d2-be4d-426b-b29e-67725ac5ff18",
   "metadata": {},
   "outputs": [
    {
     "data": {
      "application/vnd.plotly.v1+json": {
       "config": {
        "plotlyServerURL": "https://plot.ly"
       },
       "data": [
        {
         "hovertemplate": "platform=Android<br>pay_dt=%{x}<br>revenue=%{y}<extra></extra>",
         "legendgroup": "Android",
         "line": {
          "color": "#1F77B4",
          "dash": "solid"
         },
         "marker": {
          "symbol": "circle"
         },
         "mode": "lines",
         "name": "Android",
         "orientation": "v",
         "showlegend": true,
         "type": "scatter",
         "x": [
          "2024-06-01",
          "2024-06-02",
          "2024-06-03",
          "2024-06-04",
          "2024-06-05",
          "2024-06-06",
          "2024-06-07",
          "2024-06-08",
          "2024-06-09",
          "2024-06-10",
          "2024-06-11",
          "2024-06-12",
          "2024-06-13",
          "2024-06-14",
          "2024-06-15",
          "2024-06-16",
          "2024-06-17",
          "2024-06-18",
          "2024-06-19",
          "2024-06-20",
          "2024-06-21",
          "2024-06-22",
          "2024-06-23",
          "2024-06-24",
          "2024-06-25",
          "2024-06-26",
          "2024-06-27",
          "2024-06-28",
          "2024-06-29",
          "2024-06-30",
          "2024-07-01",
          "2024-07-02",
          "2024-07-03",
          "2024-07-04",
          "2024-07-05",
          "2024-07-06",
          "2024-07-07",
          "2024-07-08",
          "2024-07-09",
          "2024-07-10",
          "2024-07-11",
          "2024-07-12",
          "2024-07-13",
          "2024-07-14",
          "2024-07-15",
          "2024-07-16",
          "2024-07-17",
          "2024-07-18",
          "2024-07-19",
          "2024-07-20",
          "2024-07-21",
          "2024-07-22",
          "2024-07-23",
          "2024-07-24",
          "2024-07-25",
          "2024-07-26",
          "2024-07-27",
          "2024-07-28",
          "2024-07-29",
          "2024-07-30",
          "2024-07-31",
          "2024-08-01"
         ],
         "xaxis": "x",
         "y": [
          2412.8515523999977,
          1565.9132122000003,
          1321.5845994999995,
          1409.720945399999,
          1775.0852519000002,
          1574.3565505000006,
          1741.4467440000014,
          1915.359792099999,
          1091.4883210000007,
          1099.1057227000003,
          1173.7271036999991,
          1304.5817636000004,
          1554.3225070999997,
          1305.8162470999996,
          1603.641463500001,
          1351.4269536999996,
          1431.8157688999993,
          2164.3001247000016,
          1760.5938635000011,
          1867.4574366999989,
          1604.372643300001,
          1399.5194992999986,
          1472.2616711000005,
          2579.4856942999995,
          3137.193056600003,
          1690.3233410000005,
          1481.3675955000006,
          1494.5804770000009,
          1488.4906497,
          1625.4687143999995,
          2542.593071700001,
          2237.5337422,
          2365.6632804000037,
          2361.127891400002,
          1277.4651861999992,
          1573.8512686,
          1357.8410090999996,
          1455.2573879000004,
          1442.4867092000006,
          1634.5317661000004,
          1241.7313183,
          1082.9526341000003,
          1679.583856000001,
          1504.238413099999,
          1984.0207234,
          1395.0544628000014,
          1636.8682880000022,
          1519.5026802,
          1731.5772732,
          1381.1786346999993,
          1526.8362143999982,
          1574.5667121,
          1463.539412399999,
          1552.7050214000014,
          2087.2963361000006,
          1150.5926514,
          1435.7746490000009,
          1550.3367422999993,
          1706.9218441000005,
          2009.446407400001,
          2102.0734257000004,
          2231.446648900001
         ],
         "yaxis": "y"
        },
        {
         "hovertemplate": "platform=iOS<br>pay_dt=%{x}<br>revenue=%{y}<extra></extra>",
         "legendgroup": "iOS",
         "line": {
          "color": "#FF7F0E",
          "dash": "solid"
         },
         "marker": {
          "symbol": "circle"
         },
         "mode": "lines",
         "name": "iOS",
         "orientation": "v",
         "showlegend": true,
         "type": "scatter",
         "x": [
          "2024-06-01",
          "2024-06-02",
          "2024-06-03",
          "2024-06-04",
          "2024-06-05",
          "2024-06-06",
          "2024-06-07",
          "2024-06-08",
          "2024-06-09",
          "2024-06-10",
          "2024-06-11",
          "2024-06-12",
          "2024-06-13",
          "2024-06-14",
          "2024-06-15",
          "2024-06-16",
          "2024-06-17",
          "2024-06-18",
          "2024-06-19",
          "2024-06-20",
          "2024-06-21",
          "2024-06-22",
          "2024-06-23",
          "2024-06-24",
          "2024-06-25",
          "2024-06-26",
          "2024-06-27",
          "2024-06-28",
          "2024-06-29",
          "2024-06-30",
          "2024-07-01",
          "2024-07-02",
          "2024-07-03",
          "2024-07-04",
          "2024-07-05",
          "2024-07-06",
          "2024-07-07",
          "2024-07-08",
          "2024-07-09",
          "2024-07-10",
          "2024-07-11",
          "2024-07-12",
          "2024-07-13",
          "2024-07-14",
          "2024-07-15",
          "2024-07-16",
          "2024-07-17",
          "2024-07-18",
          "2024-07-19",
          "2024-07-20",
          "2024-07-21",
          "2024-07-22",
          "2024-07-23",
          "2024-07-24",
          "2024-07-25",
          "2024-07-26",
          "2024-07-27",
          "2024-07-28",
          "2024-07-29",
          "2024-07-30",
          "2024-07-31",
          "2024-08-01"
         ],
         "xaxis": "x",
         "y": [
          3518.8634260999947,
          3125.6582262999946,
          3736.6931570999914,
          4681.359854900009,
          3409.825453599996,
          5133.48912170002,
          3588.721272999994,
          2554.674140399999,
          3615.096425999991,
          3223.187476999995,
          2448.4078410999978,
          2818.906427299996,
          3646.4125687999904,
          2035.620454899998,
          3632.613350399991,
          3555.692102099997,
          2967.725183699992,
          3409.994925099994,
          2616.6002619999954,
          3312.8725548999905,
          3683.949928499994,
          3135.4579898999937,
          3034.12847259999,
          2963.935955099995,
          3670.8134064999945,
          2892.746842399998,
          2999.786689999995,
          6208.117391200028,
          2194.3826160999997,
          3589.9113286999927,
          3079.035544499995,
          2551.899671599994,
          2733.0206109999936,
          2393.009581999999,
          3021.630829599997,
          2499.0638398999963,
          2789.883710399997,
          2408.239525199994,
          2712.099488299996,
          2867.8952125999936,
          2526.0557112999986,
          2124.7461451999984,
          3070.776179899994,
          2940.5431233999943,
          2367.9003409999964,
          3238.550494499997,
          2560.3034609999954,
          2704.983281499995,
          2792.5165617999974,
          2287.3643553999987,
          2947.495165899994,
          2830.369585799995,
          2106.8885789999995,
          2586.226341499997,
          2310.0956735999966,
          3008.1169094999937,
          2330.3761238999973,
          1970.8398035999976,
          2234.1926736,
          2067.0794183999983,
          2611.3505229999973,
          2473.227569599994
         ],
         "yaxis": "y"
        }
       ],
       "layout": {
        "height": 500,
        "legend": {
         "title": {
          "text": "platform"
         },
         "tracegroupgap": 0
        },
        "margin": {
         "t": 60
        },
        "template": {
         "data": {
          "scatter": [
           {
            "type": "scatter"
           }
          ]
         }
        },
        "title": {
         "text": "My precious project: revenue, All platforms"
        },
        "xaxis": {
         "anchor": "y",
         "domain": [
          0,
          1
         ],
         "title": {
          "text": "pay_dt"
         }
        },
        "yaxis": {
         "anchor": "x",
         "domain": [
          0,
          1
         ],
         "rangemode": "tozero",
         "title": {
          "text": ""
         }
        }
       }
      },
      "text/html": [
       "<div>                            <div id=\"45a06228-bb5e-442b-a06e-9eb0e7b98f78\" class=\"plotly-graph-div\" style=\"height:500px; width:100%;\"></div>            <script type=\"text/javascript\">                require([\"plotly\"], function(Plotly) {                    window.PLOTLYENV=window.PLOTLYENV || {};                                    if (document.getElementById(\"45a06228-bb5e-442b-a06e-9eb0e7b98f78\")) {                    Plotly.newPlot(                        \"45a06228-bb5e-442b-a06e-9eb0e7b98f78\",                        [{\"hovertemplate\":\"platform=Android\\u003cbr\\u003epay_dt=%{x}\\u003cbr\\u003erevenue=%{y}\\u003cextra\\u003e\\u003c\\u002fextra\\u003e\",\"legendgroup\":\"Android\",\"line\":{\"color\":\"#1F77B4\",\"dash\":\"solid\"},\"marker\":{\"symbol\":\"circle\"},\"mode\":\"lines\",\"name\":\"Android\",\"orientation\":\"v\",\"showlegend\":true,\"x\":[\"2024-06-01\",\"2024-06-02\",\"2024-06-03\",\"2024-06-04\",\"2024-06-05\",\"2024-06-06\",\"2024-06-07\",\"2024-06-08\",\"2024-06-09\",\"2024-06-10\",\"2024-06-11\",\"2024-06-12\",\"2024-06-13\",\"2024-06-14\",\"2024-06-15\",\"2024-06-16\",\"2024-06-17\",\"2024-06-18\",\"2024-06-19\",\"2024-06-20\",\"2024-06-21\",\"2024-06-22\",\"2024-06-23\",\"2024-06-24\",\"2024-06-25\",\"2024-06-26\",\"2024-06-27\",\"2024-06-28\",\"2024-06-29\",\"2024-06-30\",\"2024-07-01\",\"2024-07-02\",\"2024-07-03\",\"2024-07-04\",\"2024-07-05\",\"2024-07-06\",\"2024-07-07\",\"2024-07-08\",\"2024-07-09\",\"2024-07-10\",\"2024-07-11\",\"2024-07-12\",\"2024-07-13\",\"2024-07-14\",\"2024-07-15\",\"2024-07-16\",\"2024-07-17\",\"2024-07-18\",\"2024-07-19\",\"2024-07-20\",\"2024-07-21\",\"2024-07-22\",\"2024-07-23\",\"2024-07-24\",\"2024-07-25\",\"2024-07-26\",\"2024-07-27\",\"2024-07-28\",\"2024-07-29\",\"2024-07-30\",\"2024-07-31\",\"2024-08-01\"],\"xaxis\":\"x\",\"y\":[2412.8515523999977,1565.9132122000003,1321.5845994999995,1409.720945399999,1775.0852519000002,1574.3565505000006,1741.4467440000014,1915.359792099999,1091.4883210000007,1099.1057227000003,1173.7271036999991,1304.5817636000004,1554.3225070999997,1305.8162470999996,1603.641463500001,1351.4269536999996,1431.8157688999993,2164.3001247000016,1760.5938635000011,1867.4574366999989,1604.372643300001,1399.5194992999986,1472.2616711000005,2579.4856942999995,3137.193056600003,1690.3233410000005,1481.3675955000006,1494.5804770000009,1488.4906497,1625.4687143999995,2542.593071700001,2237.5337422,2365.6632804000037,2361.127891400002,1277.4651861999992,1573.8512686,1357.8410090999996,1455.2573879000004,1442.4867092000006,1634.5317661000004,1241.7313183,1082.9526341000003,1679.583856000001,1504.238413099999,1984.0207234,1395.0544628000014,1636.8682880000022,1519.5026802,1731.5772732,1381.1786346999993,1526.8362143999982,1574.5667121,1463.539412399999,1552.7050214000014,2087.2963361000006,1150.5926514,1435.7746490000009,1550.3367422999993,1706.9218441000005,2009.446407400001,2102.0734257000004,2231.446648900001],\"yaxis\":\"y\",\"type\":\"scatter\"},{\"hovertemplate\":\"platform=iOS\\u003cbr\\u003epay_dt=%{x}\\u003cbr\\u003erevenue=%{y}\\u003cextra\\u003e\\u003c\\u002fextra\\u003e\",\"legendgroup\":\"iOS\",\"line\":{\"color\":\"#FF7F0E\",\"dash\":\"solid\"},\"marker\":{\"symbol\":\"circle\"},\"mode\":\"lines\",\"name\":\"iOS\",\"orientation\":\"v\",\"showlegend\":true,\"x\":[\"2024-06-01\",\"2024-06-02\",\"2024-06-03\",\"2024-06-04\",\"2024-06-05\",\"2024-06-06\",\"2024-06-07\",\"2024-06-08\",\"2024-06-09\",\"2024-06-10\",\"2024-06-11\",\"2024-06-12\",\"2024-06-13\",\"2024-06-14\",\"2024-06-15\",\"2024-06-16\",\"2024-06-17\",\"2024-06-18\",\"2024-06-19\",\"2024-06-20\",\"2024-06-21\",\"2024-06-22\",\"2024-06-23\",\"2024-06-24\",\"2024-06-25\",\"2024-06-26\",\"2024-06-27\",\"2024-06-28\",\"2024-06-29\",\"2024-06-30\",\"2024-07-01\",\"2024-07-02\",\"2024-07-03\",\"2024-07-04\",\"2024-07-05\",\"2024-07-06\",\"2024-07-07\",\"2024-07-08\",\"2024-07-09\",\"2024-07-10\",\"2024-07-11\",\"2024-07-12\",\"2024-07-13\",\"2024-07-14\",\"2024-07-15\",\"2024-07-16\",\"2024-07-17\",\"2024-07-18\",\"2024-07-19\",\"2024-07-20\",\"2024-07-21\",\"2024-07-22\",\"2024-07-23\",\"2024-07-24\",\"2024-07-25\",\"2024-07-26\",\"2024-07-27\",\"2024-07-28\",\"2024-07-29\",\"2024-07-30\",\"2024-07-31\",\"2024-08-01\"],\"xaxis\":\"x\",\"y\":[3518.8634260999947,3125.6582262999946,3736.6931570999914,4681.359854900009,3409.825453599996,5133.48912170002,3588.721272999994,2554.674140399999,3615.096425999991,3223.187476999995,2448.4078410999978,2818.906427299996,3646.4125687999904,2035.620454899998,3632.613350399991,3555.692102099997,2967.725183699992,3409.994925099994,2616.6002619999954,3312.8725548999905,3683.949928499994,3135.4579898999937,3034.12847259999,2963.935955099995,3670.8134064999945,2892.746842399998,2999.786689999995,6208.117391200028,2194.3826160999997,3589.9113286999927,3079.035544499995,2551.899671599994,2733.0206109999936,2393.009581999999,3021.630829599997,2499.0638398999963,2789.883710399997,2408.239525199994,2712.099488299996,2867.8952125999936,2526.0557112999986,2124.7461451999984,3070.776179899994,2940.5431233999943,2367.9003409999964,3238.550494499997,2560.3034609999954,2704.983281499995,2792.5165617999974,2287.3643553999987,2947.495165899994,2830.369585799995,2106.8885789999995,2586.226341499997,2310.0956735999966,3008.1169094999937,2330.3761238999973,1970.8398035999976,2234.1926736,2067.0794183999983,2611.3505229999973,2473.227569599994],\"yaxis\":\"y\",\"type\":\"scatter\"}],                        {\"template\":{\"data\":{\"scatter\":[{\"type\":\"scatter\"}]}},\"xaxis\":{\"anchor\":\"y\",\"domain\":[0.0,1.0],\"title\":{\"text\":\"pay_dt\"}},\"yaxis\":{\"anchor\":\"x\",\"domain\":[0.0,1.0],\"title\":{\"text\":\"\"},\"rangemode\":\"tozero\"},\"legend\":{\"title\":{\"text\":\"platform\"},\"tracegroupgap\":0},\"margin\":{\"t\":60},\"title\":{\"text\":\"My precious project: revenue, All platforms\"},\"height\":500},                        {\"responsive\": true}                    ).then(function(){\n",
       "                            \n",
       "var gd = document.getElementById('45a06228-bb5e-442b-a06e-9eb0e7b98f78');\n",
       "var x = new MutationObserver(function (mutations, observer) {{\n",
       "        var display = window.getComputedStyle(gd).display;\n",
       "        if (!display || display === 'none') {{\n",
       "            console.log([gd, 'removed!']);\n",
       "            Plotly.purge(gd);\n",
       "            observer.disconnect();\n",
       "        }}\n",
       "}});\n",
       "\n",
       "// Listen for the removal of the full notebook cells\n",
       "var notebookContainer = gd.closest('#notebook-container');\n",
       "if (notebookContainer) {{\n",
       "    x.observe(notebookContainer, {childList: true});\n",
       "}}\n",
       "\n",
       "// Listen for the clearing of the current output cell\n",
       "var outputEl = gd.closest('.output');\n",
       "if (outputEl) {{\n",
       "    x.observe(outputEl, {childList: true});\n",
       "}}\n",
       "\n",
       "                        })                };                });            </script>        </div>"
      ]
     },
     "metadata": {},
     "output_type": "display_data"
    },
    {
     "data": {
      "application/vnd.jupyter.widget-view+json": {
       "model_id": "667b1911398543f9b024d28e55a2a1c6",
       "version_major": 2,
       "version_minor": 0
      },
      "text/plain": [
       "HBox(children=(Dropdown(description='Platform:', index=3, options=('Android', 'iOS', 'Android + iOS', 'All pla…"
      ]
     },
     "metadata": {},
     "output_type": "display_data"
    },
    {
     "data": {
      "application/vnd.jupyter.widget-view+json": {
       "model_id": "ac61628d68c74efcb30df302f95110c8",
       "version_major": 2,
       "version_minor": 0
      },
      "text/plain": [
       "Output()"
      ]
     },
     "metadata": {},
     "output_type": "display_data"
    }
   ],
   "source": [
    "wg_platform = widgets.Dropdown(\n",
    "    options=['Android', 'iOS', 'Android + iOS', 'All platforms'],\n",
    "    value='All platforms',\n",
    "    description='Platform:',\n",
    ")\n",
    "\n",
    "wg_metric = widgets.Dropdown(\n",
    "    options=['n_payers', 'revenue'],\n",
    "    value='revenue',\n",
    "    description='Metric:',\n",
    ")\n",
    "\n",
    "wg_trendline = widgets.Dropdown(\n",
    "    options=['yes', 'no'],\n",
    "    value='no',\n",
    "    description='Add trendline:',\n",
    "    style= {'description_width': 'initial'}\n",
    ")\n",
    "\n",
    "def response(wg_1, wg_2, wg_3):\n",
    "    if wg_1 == 'Android + iOS':\n",
    "        tmp = payments_daily.groupby(['pay_dt'])['n_payers', 'revenue'].sum().reset_index()\n",
    "        tmp['platform'] = wg_1\n",
    "    elif wg_1 == 'All platforms': \n",
    "        tmp = payments_daily.copy()\n",
    "    else:\n",
    "        tmp = payments_daily[payments_daily['platform'] == wg_1]               \n",
    "\n",
    "    if wg_3 == 'yes':\n",
    "        fig = px.scatter(\n",
    "            tmp, x='pay_dt', y=wg_2, color='platform',\n",
    "            trendline='lowess', trendline_options=dict(frac=0.2)\n",
    "        )\n",
    "        fig.update_traces(mode='lines')    \n",
    "        trendline_data = [i for i in range(len(fig.data)) if i % 2 != 0]\n",
    "        for i in trendline_data:\n",
    "            fig.data[i].update(line_dash='dot', opacity=0.7)\n",
    "    else:\n",
    "        fig = px.line(tmp, x='pay_dt', y=wg_2, color='platform')        \n",
    "    \n",
    "    fig.update_layout(\n",
    "        # showlegend=False,\n",
    "        title=f'My precious project: {wg_2}, {wg_1}',\n",
    "        yaxis=dict(title='', rangemode='tozero'),\n",
    "        height=500\n",
    "    )    \n",
    "    fig.show()\n",
    "    \n",
    "ui = widgets.HBox([wg_platform, wg_metric, wg_trendline])\n",
    "out = widgets.interactive_output(response, {'wg_1': wg_platform, 'wg_2': wg_metric, 'wg_3': wg_trendline})\n",
    "display(ui, out)"
   ]
  },
  {
   "cell_type": "markdown",
   "id": "28baa22d-e9c5-4d67-b987-a709b7b8921b",
   "metadata": {},
   "source": [
    "## визуалы и акцентирование внимания"
   ]
  },
  {
   "cell_type": "markdown",
   "id": "0da67ce5-11b7-4a84-a3cc-c1da669a1ac8",
   "metadata": {},
   "source": [
    "### ховеры, категории и аннотации"
   ]
  },
  {
   "cell_type": "code",
   "execution_count": 213,
   "id": "25ccc837-aa91-443e-b7f4-2d7c1de94334",
   "metadata": {
    "tags": []
   },
   "outputs": [],
   "source": [
    "daily_stat = pd.merge(\n",
    "    dau_sample.groupby(['login_dt']).agg(DAU=('user_id', 'nunique')).reset_index(),\n",
    "    payments_sample_stat,\n",
    "    how='left', left_on=['login_dt'], right_on=['pay_dt']\n",
    ")"
   ]
  },
  {
   "cell_type": "code",
   "execution_count": 214,
   "id": "9643c471-fe56-474b-aa63-199bb3227192",
   "metadata": {},
   "outputs": [],
   "source": [
    "daily_stat['ARPDAU'] = daily_stat['offer_revenue'] / daily_stat['DAU']"
   ]
  },
  {
   "cell_type": "code",
   "execution_count": 215,
   "id": "77eb601e-d9f1-4fd6-aa38-b381290cf2cb",
   "metadata": {},
   "outputs": [],
   "source": [
    "daily_stat['revenue_share'] = daily_stat['offer_revenue'] / daily_stat.groupby(['pay_dt'])['offer_revenue'].transform('sum')"
   ]
  },
  {
   "cell_type": "code",
   "execution_count": 216,
   "id": "cc76d583-58d5-46e4-8b1d-2126d9b5be16",
   "metadata": {},
   "outputs": [],
   "source": [
    "versions_dict = {\n",
    "    '2024-06-12': 'v 0.7',    \n",
    "    '2024-06-24': 'v 0.8',\n",
    "    '2024-07-21': 'v 0.9'\n",
    "}"
   ]
  },
  {
   "cell_type": "code",
   "execution_count": 251,
   "id": "f19ed8d3-489b-4d1e-84cb-e8edbc69a80d",
   "metadata": {},
   "outputs": [
    {
     "data": {
      "application/vnd.plotly.v1+json": {
       "config": {
        "plotlyServerURL": "https://plot.ly"
       },
       "data": [
        {
         "customdata": [
          [
           "in-app",
           0.38180678185491246,
           1.078624193510054
          ],
          [
           "in-app",
           0.36261144316563004,
           0.8173983425634287
          ],
          [
           "in-app",
           0.3547910560511138,
           0.7867577543089429
          ],
          [
           "in-app",
           0.3570514207155652,
           0.7759868164652552
          ],
          [
           "in-app",
           0.330908491658168,
           0.6701082699590007
          ],
          [
           "in-app",
           0.38682245375652485,
           0.947942912345678
          ],
          [
           "in-app",
           0.4648310004401082,
           1.0033613338098915
          ],
          [
           "in-app",
           0.4130640910907285,
           0.8037264648606804
          ],
          [
           "in-app",
           0.44376275231480755,
           0.7857575542087534
          ],
          [
           "in-app",
           0.33730905765139313,
           0.5620367121651786
          ],
          [
           "in-app",
           0.28414569490773883,
           0.4194174264748728
          ],
          [
           "in-app",
           0.3522413355148913,
           0.47291279982085294
          ],
          [
           "in-app",
           0.45499169061568734,
           0.7689670406834531
          ],
          [
           "in-app",
           0.3864876691291561,
           0.6542953295868991
          ],
          [
           "in-app",
           0.35258384721235164,
           0.5794250912546122
          ],
          [
           "in-app",
           0.5304292822571967,
           1.0723863029188314
          ],
          [
           "in-app",
           0.42921014338906277,
           0.6771109555113837
          ],
          [
           "in-app",
           0.381633324640881,
           0.6639156123542268
          ],
          [
           "in-app",
           0.3365321438333455,
           0.60315016292517
          ],
          [
           "in-app",
           0.35778151953844545,
           0.6460438797945202
          ],
          [
           "in-app",
           0.3838183090850786,
           0.6231459028925619
          ],
          [
           "in-app",
           0.3356069272840786,
           0.47791958176208416
          ],
          [
           "in-app",
           0.33416541259967236,
           0.5481139822849369
          ],
          [
           "in-app",
           0.548623795445954,
           1.249255089170897
          ],
          [
           "in-app",
           0.36571235018831816,
           0.7680269020202015
          ],
          [
           "in-app",
           0.36482262034838564,
           0.6054000893596372
          ],
          [
           "in-app",
           0.4397088072416778,
           0.7208371821811095
          ],
          [
           "in-app",
           0.38390763046154075,
           0.6431455874172182
          ],
          [
           "in-app",
           0.3994969347026249,
           0.6997065190995898
          ],
          [
           "in-app",
           0.4042906509354226,
           0.6895970547826081
          ],
          [
           "in-app",
           0.3523574818386281,
           0.5470168055069647
          ],
          [
           "in-app",
           0.39938284641383826,
           0.5978549026181348
          ],
          [
           "in-app",
           0.3153143692307448,
           0.47694081713185715
          ],
          [
           "in-app",
           0.34415082154047033,
           0.5469322249758608
          ],
          [
           "in-app",
           0.3488297993344345,
           0.5482645917721517
          ],
          [
           "in-app",
           0.38854305431213276,
           0.5286839506648936
          ],
          [
           "in-app",
           0.48464065978220583,
           0.8885688089321682
          ],
          [
           "in-app",
           0.326965158169407,
           0.4268260221702842
          ],
          [
           "in-app",
           0.38024075870584534,
           0.577118021171022
          ],
          [
           "in-app",
           0.3455109430086733,
           0.43395123834537097
          ],
          [
           "in-app",
           0.39788263697259646,
           0.5576269907894732
          ],
          [
           "in-app",
           0.27372959443342126,
           0.29008763897383655
          ],
          [
           "in-app",
           0.27054277176484953,
           0.4091893687083889
          ],
          [
           "in-app",
           0.31272767078593605,
           0.3802876959404599
          ],
          [
           "in-app",
           0.35675693598806224,
           0.49878758072048024
          ],
          [
           "in-app",
           0.31852572921552236,
           0.5204434339483393
          ],
          [
           "in-app",
           0.2780176404940497,
           0.3864546291694137
          ],
          [
           "in-app",
           0.3864902785798991,
           0.46295831896214124
          ],
          [
           "in-app",
           0.3609903589762863,
           0.5275378080026899
          ],
          [
           "in-app",
           0.3756330147111619,
           0.42667135736486483
          ],
          [
           "in-app",
           0.41674215391256225,
           0.6007193319860625
          ],
          [
           "in-app",
           0.3908825559152607,
           0.5687270663914686
          ],
          [
           "in-app",
           0.33929404514201633,
           0.4035158746521887
          ],
          [
           "in-app",
           0.3882869566650327,
           0.5045626235766913
          ],
          [
           "in-app",
           0.4077016706793953,
           0.5158829963467285
          ],
          [
           "in-app",
           0.427622171967313,
           0.6386275281032072
          ],
          [
           "in-app",
           0.26643238187498297,
           0.34342955728945534
          ],
          [
           "in-app",
           0.35061232394670927,
           0.4497791576647564
          ],
          [
           "in-app",
           0.46160256412694,
           0.6529876631036928
          ],
          [
           "in-app",
           0.27479073727665493,
           0.3798652709457033
          ],
          [
           "in-app",
           0.2830547645188924,
           0.3780633310382124
          ],
          [
           "in-app",
           0.35564636242071407,
           0.5914688613760462
          ]
         ],
         "hovertemplate": "<b>%{hovertext}</b><br><br>login_dt=%{x}<br>offer_revenue=%{y:.0f}<br>revenue_share=%{customdata[1]:.1%}<br>ARPDAU=%{customdata[2]:.2f}<extra></extra>",
         "hovertext": [
          "in-app",
          "in-app",
          "in-app",
          "in-app",
          "in-app",
          "in-app",
          "in-app",
          "in-app",
          "in-app",
          "in-app",
          "in-app",
          "in-app",
          "in-app",
          "in-app",
          "in-app",
          "in-app",
          "in-app",
          "in-app",
          "in-app",
          "in-app",
          "in-app",
          "in-app",
          "in-app",
          "in-app",
          "in-app",
          "in-app",
          "in-app",
          "in-app",
          "in-app",
          "in-app",
          "in-app",
          "in-app",
          "in-app",
          "in-app",
          "in-app",
          "in-app",
          "in-app",
          "in-app",
          "in-app",
          "in-app",
          "in-app",
          "in-app",
          "in-app",
          "in-app",
          "in-app",
          "in-app",
          "in-app",
          "in-app",
          "in-app",
          "in-app",
          "in-app",
          "in-app",
          "in-app",
          "in-app",
          "in-app",
          "in-app",
          "in-app",
          "in-app",
          "in-app",
          "in-app",
          "in-app",
          "in-app"
         ],
         "legendgroup": "in-app",
         "line": {
          "color": "#1F77B4"
         },
         "marker": {
          "symbol": "circle"
         },
         "mode": "lines",
         "name": "in-app",
         "orientation": "v",
         "showlegend": true,
         "stackgroup": "1",
         "type": "scatter",
         "x": [
          "2024-06-01T00:00:00",
          "2024-06-02T00:00:00",
          "2024-06-03T00:00:00",
          "2024-06-04T00:00:00",
          "2024-06-05T00:00:00",
          "2024-06-06T00:00:00",
          "2024-06-07T00:00:00",
          "2024-06-08T00:00:00",
          "2024-06-09T00:00:00",
          "2024-06-10T00:00:00",
          "2024-06-11T00:00:00",
          "2024-06-12T00:00:00",
          "2024-06-13T00:00:00",
          "2024-06-14T00:00:00",
          "2024-06-15T00:00:00",
          "2024-06-16T00:00:00",
          "2024-06-17T00:00:00",
          "2024-06-18T00:00:00",
          "2024-06-19T00:00:00",
          "2024-06-20T00:00:00",
          "2024-06-21T00:00:00",
          "2024-06-22T00:00:00",
          "2024-06-23T00:00:00",
          "2024-06-24T00:00:00",
          "2024-06-25T00:00:00",
          "2024-06-26T00:00:00",
          "2024-06-27T00:00:00",
          "2024-06-28T00:00:00",
          "2024-06-29T00:00:00",
          "2024-06-30T00:00:00",
          "2024-07-01T00:00:00",
          "2024-07-02T00:00:00",
          "2024-07-03T00:00:00",
          "2024-07-04T00:00:00",
          "2024-07-05T00:00:00",
          "2024-07-06T00:00:00",
          "2024-07-07T00:00:00",
          "2024-07-08T00:00:00",
          "2024-07-09T00:00:00",
          "2024-07-10T00:00:00",
          "2024-07-11T00:00:00",
          "2024-07-12T00:00:00",
          "2024-07-13T00:00:00",
          "2024-07-14T00:00:00",
          "2024-07-15T00:00:00",
          "2024-07-16T00:00:00",
          "2024-07-17T00:00:00",
          "2024-07-18T00:00:00",
          "2024-07-19T00:00:00",
          "2024-07-20T00:00:00",
          "2024-07-21T00:00:00",
          "2024-07-22T00:00:00",
          "2024-07-23T00:00:00",
          "2024-07-24T00:00:00",
          "2024-07-25T00:00:00",
          "2024-07-26T00:00:00",
          "2024-07-27T00:00:00",
          "2024-07-28T00:00:00",
          "2024-07-29T00:00:00",
          "2024-07-30T00:00:00",
          "2024-07-31T00:00:00",
          "2024-08-01T00:00:00"
         ],
         "xaxis": "x",
         "y": [
          2360.029735399998,
          1868.572611099998,
          1935.4240755999995,
          2054.813089999996,
          1797.900488299999,
          2457.068028799997,
          2596.699131899999,
          2076.8291851999984,
          2100.329942399998,
          1510.7546823,
          1151.7202531000007,
          1319.8996243000006,
          2137.7283730999998,
          1758.0915505999978,
          1570.241997299999,
          2682.0381435999975,
          1873.5660138999986,
          1821.7844402999983,
          1773.2614789999998,
          1886.4481289999987,
          1809.6157019999998,
          1394.0914199999995,
          1612.0032218999993,
          3691.5487885000002,
          2357.0745622999984,
          1871.8970762999982,
          2220.8993582999983,
          1942.2996739999987,
          2051.5395139999973,
          2061.895193799998,
          1688.6408786000002,
          1872.481554999998,
          1486.6245269999988,
          1699.3184229999995,
          1645.8903044999995,
          1590.2813236,
          2646.157912999997,
          1278.3439364000012,
          1744.6277779999994,
          1321.815472,
          1695.1860519999984,
          853.7279215000009,
          1229.2048636000002,
          1124.1304291999995,
          1495.3651669999997,
          1551.4418765999994,
          1172.5033449000011,
          1418.5042893000007,
          1568.8974409999996,
          1262.9472177999999,
          1724.0644827999995,
          1653.2895819999992,
          1189.1612826,
          1506.6239940000005,
          1553.3237019999997,
          1831.5837505999984,
          970.5319289000008,
          1255.7834082,
          1838.813259299999,
          1056.405318500001,
          1048.747680300001,
          1624.7649621999988
         ],
         "yaxis": "y"
        },
        {
         "customdata": [
          [
           "starter pack",
           0.1947691780786872,
           0.5502331483089581
          ],
          [
           "starter pack",
           0.20159593323511807,
           0.4544373455380576
          ],
          [
           "starter pack",
           0.2456230914453266,
           0.5446751504471546
          ],
          [
           "starter pack",
           0.1681956925423572,
           0.36554297904078575
          ],
          [
           "starter pack",
           0.17402825734182395,
           0.352416989563921
          ],
          [
           "starter pack",
           0.24561474150049506,
           0.6019008232638894
          ],
          [
           "starter pack",
           0.1893972684993088,
           0.408823627859351
          ],
          [
           "starter pack",
           0.15435190209134325,
           0.3003328328173374
          ],
          [
           "starter pack",
           0.191344449304909,
           0.33880794571642375
          ],
          [
           "starter pack",
           0.252615165914884,
           0.4209166462425593
          ],
          [
           "starter pack",
           0.21869265252243084,
           0.3228045018936636
          ],
          [
           "starter pack",
           0.19620491809539198,
           0.2634211485130776
          ],
          [
           "starter pack",
           0.17254579292425506,
           0.2916141778057555
          ],
          [
           "starter pack",
           0.15418602094227088,
           0.2610256457015258
          ],
          [
           "starter pack",
           0.23545598747384797,
           0.3869408882656829
          ],
          [
           "starter pack",
           0.1507806936948932,
           0.3048382811275488
          ],
          [
           "starter pack",
           0.1994203021639256,
           0.3146003733285148
          ],
          [
           "starter pack",
           0.16876513619347802,
           0.2935954527696793
          ],
          [
           "starter pack",
           0.2714569898304438,
           0.4865191353741502
          ],
          [
           "starter pack",
           0.22405054160675714,
           0.404566679006849
          ],
          [
           "starter pack",
           0.2170289616532166,
           0.35235606291322313
          ],
          [
           "starter pack",
           0.19572937163310264,
           0.2787275584161808
          ],
          [
           "starter pack",
           0.27498072536042345,
           0.45103644705882406
          ],
          [
           "starter pack",
           0.1858868910171912,
           0.4232775656852792
          ],
          [
           "starter pack",
           0.19965015336368228,
           0.419282227403063
          ],
          [
           "starter pack",
           0.2504813961220953,
           0.4156580517141012
          ],
          [
           "starter pack",
           0.19824611090420718,
           0.32499500944498555
          ],
          [
           "starter pack",
           0.2270503422865328,
           0.3803686464569536
          ],
          [
           "starter pack",
           0.18395887794564053,
           0.32219828229877207
          ],
          [
           "starter pack",
           0.1948750986852539,
           0.33239772869565215
          ],
          [
           "starter pack",
           0.22042325077568345,
           0.342195720861678
          ],
          [
           "starter pack",
           0.1521105669806294,
           0.2277014374201788
          ],
          [
           "starter pack",
           0.3069485086548569,
           0.46428671453320497
          ],
          [
           "starter pack",
           0.31472462050560446,
           0.5001674445445766
          ],
          [
           "starter pack",
           0.2668217714157615,
           0.41937050636242496
          ],
          [
           "starter pack",
           0.17890981610273493,
           0.24343955538563825
          ],
          [
           "starter pack",
           0.176310855986418,
           0.3232587364338484
          ],
          [
           "starter pack",
           0.2575910437727162,
           0.3362638428380633
          ],
          [
           "starter pack",
           0.17441284073019842,
           0.26471857949057204
          ],
          [
           "starter pack",
           0.1731122649879326,
           0.21742374093893627
          ],
          [
           "starter pack",
           0.2264610804164105,
           0.3173820596052631
          ],
          [
           "starter pack",
           0.1610660594567217,
           0.17069134597349642
          ],
          [
           "starter pack",
           0.2986787400404034,
           0.4517443370838884
          ],
          [
           "starter pack",
           0.24973553658660222,
           0.3036870756089308
          ],
          [
           "starter pack",
           0.26467335726822167,
           0.37004405587058053
          ],
          [
           "starter pack",
           0.18707095440703264,
           0.30565772549480047
          ],
          [
           "starter pack",
           0.24637085255836422,
           0.34246444324324343
          ],
          [
           "starter pack",
           0.2231582806458634,
           0.2673106885117494
          ],
          [
           "starter pack",
           0.26237531522021956,
           0.3834254716879623
          ],
          [
           "starter pack",
           0.2380041285794693,
           0.2703424369594594
          ],
          [
           "starter pack",
           0.19630798158569415,
           0.28297113324041806
          ],
          [
           "starter pack",
           0.25016556561748704,
           0.36398638438252484
          ],
          [
           "starter pack",
           0.23761820880107823,
           0.28259476029860886
          ],
          [
           "starter pack",
           0.19481336211992997,
           0.2531517976892164
          ],
          [
           "starter pack",
           0.23332955456458915,
           0.29524222832945857
          ],
          [
           "starter pack",
           0.19122408813835623,
           0.2855814658995817
          ],
          [
           "starter pack",
           0.20629836511757485,
           0.2659172121019108
          ],
          [
           "starter pack",
           0.1817966495846178,
           0.23321582936962743
          ],
          [
           "starter pack",
           0.14735912849685967,
           0.20845571587357953
          ],
          [
           "starter pack",
           0.16746007112614908,
           0.23149348453793608
          ],
          [
           "starter pack",
           0.1880388873807808,
           0.25115496023792366
          ],
          [
           "starter pack",
           0.23339213975125087,
           0.38815013378230806
          ]
         ],
         "hovertemplate": "<b>%{hovertext}</b><br><br>login_dt=%{x}<br>offer_revenue=%{y:.0f}<br>revenue_share=%{customdata[1]:.1%}<br>ARPDAU=%{customdata[2]:.2f}<extra></extra>",
         "hovertext": [
          "starter pack",
          "starter pack",
          "starter pack",
          "starter pack",
          "starter pack",
          "starter pack",
          "starter pack",
          "starter pack",
          "starter pack",
          "starter pack",
          "starter pack",
          "starter pack",
          "starter pack",
          "starter pack",
          "starter pack",
          "starter pack",
          "starter pack",
          "starter pack",
          "starter pack",
          "starter pack",
          "starter pack",
          "starter pack",
          "starter pack",
          "starter pack",
          "starter pack",
          "starter pack",
          "starter pack",
          "starter pack",
          "starter pack",
          "starter pack",
          "starter pack",
          "starter pack",
          "starter pack",
          "starter pack",
          "starter pack",
          "starter pack",
          "starter pack",
          "starter pack",
          "starter pack",
          "starter pack",
          "starter pack",
          "starter pack",
          "starter pack",
          "starter pack",
          "starter pack",
          "starter pack",
          "starter pack",
          "starter pack",
          "starter pack",
          "starter pack",
          "starter pack",
          "starter pack",
          "starter pack",
          "starter pack",
          "starter pack",
          "starter pack",
          "starter pack",
          "starter pack",
          "starter pack",
          "starter pack",
          "starter pack",
          "starter pack"
         ],
         "legendgroup": "starter pack",
         "line": {
          "color": "#FF7F0E"
         },
         "marker": {
          "symbol": "circle"
         },
         "mode": "lines",
         "name": "starter pack",
         "orientation": "v",
         "showlegend": true,
         "stackgroup": "1",
         "type": "scatter",
         "x": [
          "2024-06-01T00:00:00",
          "2024-06-02T00:00:00",
          "2024-06-03T00:00:00",
          "2024-06-04T00:00:00",
          "2024-06-05T00:00:00",
          "2024-06-06T00:00:00",
          "2024-06-07T00:00:00",
          "2024-06-08T00:00:00",
          "2024-06-09T00:00:00",
          "2024-06-10T00:00:00",
          "2024-06-11T00:00:00",
          "2024-06-12T00:00:00",
          "2024-06-13T00:00:00",
          "2024-06-14T00:00:00",
          "2024-06-15T00:00:00",
          "2024-06-16T00:00:00",
          "2024-06-17T00:00:00",
          "2024-06-18T00:00:00",
          "2024-06-19T00:00:00",
          "2024-06-20T00:00:00",
          "2024-06-21T00:00:00",
          "2024-06-22T00:00:00",
          "2024-06-23T00:00:00",
          "2024-06-24T00:00:00",
          "2024-06-25T00:00:00",
          "2024-06-26T00:00:00",
          "2024-06-27T00:00:00",
          "2024-06-28T00:00:00",
          "2024-06-29T00:00:00",
          "2024-06-30T00:00:00",
          "2024-07-01T00:00:00",
          "2024-07-02T00:00:00",
          "2024-07-03T00:00:00",
          "2024-07-04T00:00:00",
          "2024-07-05T00:00:00",
          "2024-07-06T00:00:00",
          "2024-07-07T00:00:00",
          "2024-07-08T00:00:00",
          "2024-07-09T00:00:00",
          "2024-07-10T00:00:00",
          "2024-07-11T00:00:00",
          "2024-07-12T00:00:00",
          "2024-07-13T00:00:00",
          "2024-07-14T00:00:00",
          "2024-07-15T00:00:00",
          "2024-07-16T00:00:00",
          "2024-07-17T00:00:00",
          "2024-07-18T00:00:00",
          "2024-07-19T00:00:00",
          "2024-07-20T00:00:00",
          "2024-07-21T00:00:00",
          "2024-07-22T00:00:00",
          "2024-07-23T00:00:00",
          "2024-07-24T00:00:00",
          "2024-07-25T00:00:00",
          "2024-07-26T00:00:00",
          "2024-07-27T00:00:00",
          "2024-07-28T00:00:00",
          "2024-07-29T00:00:00",
          "2024-07-30T00:00:00",
          "2024-07-31T00:00:00",
          "2024-08-01T00:00:00"
         ],
         "xaxis": "x",
         "y": [
          1203.9101285000004,
          1038.8437718999996,
          1339.9008701000005,
          967.9578085000007,
          945.534783,
          1560.1269339000014,
          1058.0355489000003,
          776.0600399999998,
          905.6336389000006,
          1131.4239450999994,
          886.4211622000003,
          735.2084254999995,
          810.6874143000002,
          701.3759099999999,
          1048.6098072000007,
          762.4005410999996,
          870.4992330000005,
          805.6259223999999,
          1430.3662580000016,
          1181.334702699999,
          1023.2420066999999,
          813.0482878999994,
          1326.4981908000016,
          1250.7852066,
          1286.7771559000003,
          1285.2146959000008,
          1001.3096241000005,
          1148.7133122999999,
          944.6853636999997,
          993.8692087999999,
          1056.3581903,
          713.160902,
          1447.1816892,
          1554.0202501999995,
          1258.9502600999997,
          732.2661825999999,
          962.6645171000005,
          1007.1102092999997,
          800.2442657999992,
          662.2727148999999,
          964.8414611999999,
          502.3446312,
          1357.0399886000007,
          897.6989954999995,
          1109.3920795000004,
          911.1656797000003,
          1039.0371208000006,
          819.0399496000001,
          1140.3073528,
          800.2136133999999,
          812.1271523999999,
          1058.1084193999998,
          832.8067586000003,
          755.9112679000002,
          888.9743494999997,
          819.0476442000004,
          751.4820414000001,
          651.1385955999998,
          587.0112958999999,
          643.7833805000002,
          696.7038597000003,
          1066.2484175000002
         ],
         "yaxis": "y"
        },
        {
         "customdata": [
          [
           "buff",
           0.3903015092661593,
           1.1026222441956117
          ],
          [
           "buff",
           0.3731959305543158,
           0.8412578831583554
          ],
          [
           "buff",
           0.3492351182350811,
           0.7744373277235774
          ],
          [
           "buff",
           0.409512485693938,
           0.8900014721676732
          ],
          [
           "buff",
           0.4404585570641079,
           0.891953301602684
          ],
          [
           "buff",
           0.3398217088377596,
           0.8327633962962967
          ],
          [
           "buff",
           0.3088853836170786,
           0.6667447958655341
          ],
          [
           "buff",
           0.39925329786060076,
           0.7768538795665638
          ],
          [
           "buff",
           0.318676119114543,
           0.5642703598578371
          ],
          [
           "buff",
           0.33594038732822223,
           0.5597561835193453
          ],
          [
           "buff",
           0.44888557951942243,
           0.6625841528404954
          ],
          [
           "buff",
           0.4155008960561909,
           0.5578439333213902
          ],
          [
           "buff",
           0.3166165625397245,
           0.5351036208992803
          ],
          [
           "buff",
           0.3926413955791202,
           0.6647131379605508
          ],
          [
           "buff",
           0.33687301615429294,
           0.5536064107011074
          ],
          [
           "buff",
           0.2615453140107454,
           0.5287747522990802
          ],
          [
           "buff",
           0.3380420843788866,
           0.533286555041561
          ],
          [
           "buff",
           0.3992799652302401,
           0.6946149235422737
          ],
          [
           "buff",
           0.34816739135706287,
           0.6240034501020411
          ],
          [
           "buff",
           0.3794870626782598,
           0.6852374449657536
          ],
          [
           "buff",
           0.33711991907537764,
           0.5473290131887055
          ],
          [
           "buff",
           0.4254717175603682,
           0.6058911446006181
          ],
          [
           "buff",
           0.3574690927969456,
           0.5863377854471273
          ],
          [
           "buff",
           0.21395653422221894,
           0.4871941236548225
          ],
          [
           "buff",
           0.3722867041802117,
           0.7818336020853706
          ],
          [
           "buff",
           0.3471152810696298,
           0.576015878557568
          ],
          [
           "buff",
           0.33879353059375167,
           0.5554015974034406
          ],
          [
           "buff",
           0.3503931707098123,
           0.5870001107615895
          ],
          [
           "buff",
           0.37034369779498033,
           0.6486455267735337
          ],
          [
           "buff",
           0.3670519391532504,
           0.6260791230434788
          ],
          [
           "buff",
           0.37418517462880524,
           0.5809031720440556
          ],
          [
           "buff",
           0.3985296179742207,
           0.5965776649744579
          ],
          [
           "buff",
           0.3311712231238256,
           0.500925708373436
          ],
          [
           "buff",
           0.3037569095113147,
           0.4827373115867399
          ],
          [
           "buff",
           0.3269844739256795,
           0.5139297429713527
          ],
          [
           "buff",
           0.33971679266985805,
           0.46224688374335143
          ],
          [
           "buff",
           0.2925147603768494,
           0.536313837844191
          ],
          [
           "buff",
           0.3656771688679697,
           0.4773613563606017
          ],
          [
           "buff",
           0.3613156785905435,
           0.5483941020840222
          ],
          [
           "buff",
           0.426157107816101,
           0.5352403691070257
          ],
          [
           "buff",
           0.3289768821394906,
           0.4610565322039472
          ],
          [
           "buff",
           0.5030438676916502,
           0.5331057030241255
          ],
          [
           "buff",
           0.3984261926526649,
           0.6026099355193082
          ],
          [
           "buff",
           0.35111260410144873,
           0.4269651063937756
          ],
          [
           "buff",
           0.3168246957991042,
           0.44295767675116815
          ],
          [
           "buff",
           0.38066608368126126,
           0.6219753872526005
          ],
          [
           "buff",
           0.38584069303918317,
           0.5363325927158872
          ],
          [
           "buff",
           0.32345902627349005,
           0.3874561802872064
          ],
          [
           "buff",
           0.30813220012978876,
           0.4502928717888364
          ],
          [
           "buff",
           0.2926250760017432,
           0.3323848902702706
          ],
          [
           "buff",
           0.3088209370079459,
           0.4451546483623696
          ],
          [
           "buff",
           0.29440147988598203,
           0.4283488415204681
          ],
          [
           "buff",
           0.3120479596925948,
           0.37111262986087556
          ],
          [
           "buff",
           0.32901552166842746,
           0.42754187839919655
          ],
          [
           "buff",
           0.30824144678784315,
           0.390031566223846
          ],
          [
           "buff",
           0.3484249187303712,
           0.5203512800906557
          ],
          [
           "buff",
           0.36737707542091547,
           0.4735465917551315
          ],
          [
           "buff",
           0.34678605439193966,
           0.44487066991404023
          ],
          [
           "buff",
           0.3053128371120056,
           0.43189863210227253
          ],
          [
           "buff",
           0.45945151168842746,
           0.635136666918375
          ],
          [
           "buff",
           0.42324085502550995,
           0.5653034943763523
          ],
          [
           "buff",
           0.3442298402639332,
           0.5724822553694939
          ]
         ],
         "hovertemplate": "<b>%{hovertext}</b><br><br>login_dt=%{x}<br>offer_revenue=%{y:.0f}<br>revenue_share=%{customdata[1]:.1%}<br>ARPDAU=%{customdata[2]:.2f}<extra></extra>",
         "hovertext": [
          "buff",
          "buff",
          "buff",
          "buff",
          "buff",
          "buff",
          "buff",
          "buff",
          "buff",
          "buff",
          "buff",
          "buff",
          "buff",
          "buff",
          "buff",
          "buff",
          "buff",
          "buff",
          "buff",
          "buff",
          "buff",
          "buff",
          "buff",
          "buff",
          "buff",
          "buff",
          "buff",
          "buff",
          "buff",
          "buff",
          "buff",
          "buff",
          "buff",
          "buff",
          "buff",
          "buff",
          "buff",
          "buff",
          "buff",
          "buff",
          "buff",
          "buff",
          "buff",
          "buff",
          "buff",
          "buff",
          "buff",
          "buff",
          "buff",
          "buff",
          "buff",
          "buff",
          "buff",
          "buff",
          "buff",
          "buff",
          "buff",
          "buff",
          "buff",
          "buff",
          "buff",
          "buff"
         ],
         "legendgroup": "buff",
         "line": {
          "color": "#2CA02C"
         },
         "marker": {
          "symbol": "circle"
         },
         "mode": "lines",
         "name": "buff",
         "orientation": "v",
         "showlegend": true,
         "stackgroup": "1",
         "type": "scatter",
         "x": [
          "2024-06-01T00:00:00",
          "2024-06-02T00:00:00",
          "2024-06-03T00:00:00",
          "2024-06-04T00:00:00",
          "2024-06-05T00:00:00",
          "2024-06-06T00:00:00",
          "2024-06-07T00:00:00",
          "2024-06-08T00:00:00",
          "2024-06-09T00:00:00",
          "2024-06-10T00:00:00",
          "2024-06-11T00:00:00",
          "2024-06-12T00:00:00",
          "2024-06-13T00:00:00",
          "2024-06-14T00:00:00",
          "2024-06-15T00:00:00",
          "2024-06-16T00:00:00",
          "2024-06-17T00:00:00",
          "2024-06-18T00:00:00",
          "2024-06-19T00:00:00",
          "2024-06-20T00:00:00",
          "2024-06-21T00:00:00",
          "2024-06-22T00:00:00",
          "2024-06-23T00:00:00",
          "2024-06-24T00:00:00",
          "2024-06-25T00:00:00",
          "2024-06-26T00:00:00",
          "2024-06-27T00:00:00",
          "2024-06-28T00:00:00",
          "2024-06-29T00:00:00",
          "2024-06-30T00:00:00",
          "2024-07-01T00:00:00",
          "2024-07-02T00:00:00",
          "2024-07-03T00:00:00",
          "2024-07-04T00:00:00",
          "2024-07-05T00:00:00",
          "2024-07-06T00:00:00",
          "2024-07-07T00:00:00",
          "2024-07-08T00:00:00",
          "2024-07-09T00:00:00",
          "2024-07-10T00:00:00",
          "2024-07-11T00:00:00",
          "2024-07-12T00:00:00",
          "2024-07-13T00:00:00",
          "2024-07-14T00:00:00",
          "2024-07-15T00:00:00",
          "2024-07-16T00:00:00",
          "2024-07-17T00:00:00",
          "2024-07-18T00:00:00",
          "2024-07-19T00:00:00",
          "2024-07-20T00:00:00",
          "2024-07-21T00:00:00",
          "2024-07-22T00:00:00",
          "2024-07-23T00:00:00",
          "2024-07-24T00:00:00",
          "2024-07-25T00:00:00",
          "2024-07-26T00:00:00",
          "2024-07-27T00:00:00",
          "2024-07-28T00:00:00",
          "2024-07-29T00:00:00",
          "2024-07-30T00:00:00",
          "2024-07-31T00:00:00",
          "2024-08-01T00:00:00"
         ],
         "xaxis": "x",
         "y": [
          2412.5374702999984,
          1923.1155209000003,
          1905.1158262000006,
          2356.723898299999,
          2393.110708200001,
          2158.522723200001,
          1725.5355317000024,
          2007.3904248000008,
          1508.2946718999985,
          1504.6246213000002,
          1819.4560837000004,
          1556.9424179,
          1487.5880660999994,
          1786.0842017,
          1500.273373000001,
          1322.4656554999997,
          1475.6038977999992,
          1906.023350199999,
          1834.5701433000006,
          2000.8933393000004,
          1589.443454300001,
          1767.384468800003,
          1724.4194270000016,
          1439.6586354000005,
          2399.447324800002,
          1781.0410965000003,
          1711.1923216000007,
          1772.7403345000005,
          1901.828684500001,
          1871.9765779000015,
          1793.2480920999997,
          1868.481246700002,
          1561.385433,
          1499.8648271000009,
          1542.8170884000008,
          1390.438626300001,
          1597.1426091000008,
          1429.697262300002,
          1657.7953705999992,
          1630.3421643000001,
          1401.6118578999994,
          1568.9300840000014,
          1810.2402463000017,
          1262.1088545000007,
          1327.987114900002,
          1854.1086294000022,
          1627.2330863000018,
          1187.1657364000005,
          1339.1710006999995,
          983.8592752000011,
          1277.5938408000009,
          1245.2100823000007,
          1093.6689202000002,
          1276.640048900001,
          1174.3850459000003,
          1492.3674713000005,
          1338.2426683000015,
          1242.0789104000003,
          1216.2265479999994,
          1766.315070700001,
          1568.1518934000012,
          1572.6087554999997
         ],
         "yaxis": "y"
        },
        {
         "customdata": [
          [
           "battle pass",
           0.03312253080024095,
           0.09357288756855575
          ],
          [
           "battle pass",
           0.06259669304493608,
           0.1411054011373578
          ],
          [
           "battle pass",
           0.050350734268478664,
           0.11165397195121951
          ],
          [
           "battle pass",
           0.06524040104813941,
           0.14178823602719035
          ],
          [
           "battle pass",
           0.05460469393590018,
           0.11057757025717478
          ],
          [
           "battle pass",
           0.027741095905220423,
           0.06798202893518518
          ],
          [
           "battle pass",
           0.03688634744350431,
           0.07962105525502318
          ],
          [
           "battle pass",
           0.03333070895732746,
           0.06485379256965944
          ],
          [
           "battle pass",
           0.04621667926574049,
           0.08183450430228208
          ],
          [
           "battle pass",
           0.07413538910550067,
           0.12352710193452378
          ],
          [
           "battle pass",
           0.048276073050407826,
           0.0712586067006555
          ],
          [
           "battle pass",
           0.0360528503335258,
           0.04840390003582945
          ],
          [
           "battle pass",
           0.05584595392033299,
           0.09438347733812949
          ],
          [
           "battle pass",
           0.0666849143494527,
           0.11289267807964272
          ],
          [
           "battle pass",
           0.07508714915950741,
           0.12339583505535054
          ],
          [
           "battle pass",
           0.057244710037164664,
           0.11573351059576169
          ],
          [
           "battle pass",
           0.03332747006812501,
           0.05257656523310443
          ],
          [
           "battle pass",
           0.05032157393540102,
           0.08754287536443149
          ],
          [
           "battle pass",
           0.04384347497914783,
           0.0785785238095238
          ],
          [
           "battle pass",
           0.03868087617653755,
           0.06984581917808219
          ],
          [
           "battle pass",
           0.06203281018632717,
           0.10071299517906333
          ],
          [
           "battle pass",
           0.04319198352245053,
           0.06150735584504627
          ],
          [
           "battle pass",
           0.033384769242958516,
           0.054759284257055424
          ],
          [
           "battle pass",
           0.051532779314635895,
           0.11734377428087983
          ],
          [
           "battle pass",
           0.0623507922677878,
           0.1309419433040078
          ],
          [
           "battle pass",
           0.03758070245988911,
           0.06236280142302717
          ],
          [
           "battle pass",
           0.023251551260363254,
           0.03811745959104187
          ],
          [
           "battle pass",
           0.03864885654211414,
           0.06474693278145695
          ],
          [
           "battle pass",
           0.04620048955675422,
           0.0809187278308322
          ],
          [
           "battle pass",
           0.03378231122607304,
           0.05762236220735786
          ],
          [
           "battle pass",
           0.05303409275688321,
           0.0823326919339164
          ],
          [
           "battle pass",
           0.04997696863131167,
           0.07481286685823754
          ],
          [
           "battle pass",
           0.046565898990572785,
           0.07043503272377286
          ],
          [
           "battle pass",
           0.03736764844261069,
           0.05938550724171226
          ],
          [
           "battle pass",
           0.05736395532412463,
           0.0901603750832778
          ],
          [
           "battle pass",
           0.09283033691527433,
           0.12631266655585102
          ],
          [
           "battle pass",
           0.04653372385452679,
           0.08531767763599732
          ],
          [
           "battle pass",
           0.04976662918990707,
           0.06496622604340567
          ],
          [
           "battle pass",
           0.08403072197341274,
           0.12753930995699636
          ],
          [
           "battle pass",
           0.055219684187293026,
           0.06935424425476035
          ],
          [
           "battle pass",
           0.04667940047150239,
           0.06542053157894735
          ],
          [
           "battle pass",
           0.06216047841820677,
           0.06587518042813456
          ],
          [
           "battle pass",
           0.03235229554208222,
           0.048932060918774965
          ],
          [
           "battle pass",
           0.08642418852601298,
           0.10509481123139378
          ],
          [
           "battle pass",
           0.06174501094461177,
           0.08632668779186124
          ],
          [
           "battle pass",
           0.11373723269618378,
           0.1858367802750755
          ],
          [
           "battle pass",
           0.08977081390840286,
           0.12478469545154915
          ],
          [
           "battle pass",
           0.06689241450074755,
           0.08012724118798954
          ],
          [
           "battle pass",
           0.06850212567370544,
           0.10010644418291859
          ],
          [
           "battle pass",
           0.09373778070762569,
           0.10647420371621621
          ],
          [
           "battle pass",
           0.07812892749379777,
           0.11262013379790939
          ],
          [
           "battle pass",
           0.06455039858127032,
           0.09391966529067768
          ],
          [
           "battle pass",
           0.11103978636431064,
           0.13205747980997623
          ],
          [
           "battle pass",
           0.08788415954660987,
           0.11420178131279303
          ],
          [
           "battle pass",
           0.05072732796817243,
           0.06418753669877116
          ],
          [
           "battle pass",
           0.032728821163959504,
           0.04887849023709903
          ],
          [
           "battle pass",
           0.1598921775865267,
           0.20609994692144384
          ],
          [
           "battle pass",
           0.12080497207673326,
           0.15497332772206301
          ],
          [
           "battle pass",
           0.08572547026419487,
           0.12126811860795456
          ],
          [
           "battle pass",
           0.09829767990876849,
           0.1358847651923768
          ],
          [
           "battle pass",
           0.10566549307481689,
           0.1411325767844268
          ],
          [
           "battle pass",
           0.06673165756410188,
           0.11098018056061157
          ]
         ],
         "hovertemplate": "<b>%{hovertext}</b><br><br>login_dt=%{x}<br>offer_revenue=%{y:.0f}<br>revenue_share=%{customdata[1]:.1%}<br>ARPDAU=%{customdata[2]:.2f}<extra></extra>",
         "hovertext": [
          "battle pass",
          "battle pass",
          "battle pass",
          "battle pass",
          "battle pass",
          "battle pass",
          "battle pass",
          "battle pass",
          "battle pass",
          "battle pass",
          "battle pass",
          "battle pass",
          "battle pass",
          "battle pass",
          "battle pass",
          "battle pass",
          "battle pass",
          "battle pass",
          "battle pass",
          "battle pass",
          "battle pass",
          "battle pass",
          "battle pass",
          "battle pass",
          "battle pass",
          "battle pass",
          "battle pass",
          "battle pass",
          "battle pass",
          "battle pass",
          "battle pass",
          "battle pass",
          "battle pass",
          "battle pass",
          "battle pass",
          "battle pass",
          "battle pass",
          "battle pass",
          "battle pass",
          "battle pass",
          "battle pass",
          "battle pass",
          "battle pass",
          "battle pass",
          "battle pass",
          "battle pass",
          "battle pass",
          "battle pass",
          "battle pass",
          "battle pass",
          "battle pass",
          "battle pass",
          "battle pass",
          "battle pass",
          "battle pass",
          "battle pass",
          "battle pass",
          "battle pass",
          "battle pass",
          "battle pass",
          "battle pass",
          "battle pass"
         ],
         "legendgroup": "battle pass",
         "line": {
          "color": "#D62728"
         },
         "marker": {
          "symbol": "circle"
         },
         "mode": "lines",
         "name": "battle pass",
         "orientation": "v",
         "showlegend": true,
         "stackgroup": "1",
         "type": "scatter",
         "x": [
          "2024-06-01T00:00:00",
          "2024-06-02T00:00:00",
          "2024-06-03T00:00:00",
          "2024-06-04T00:00:00",
          "2024-06-05T00:00:00",
          "2024-06-06T00:00:00",
          "2024-06-07T00:00:00",
          "2024-06-08T00:00:00",
          "2024-06-09T00:00:00",
          "2024-06-10T00:00:00",
          "2024-06-11T00:00:00",
          "2024-06-12T00:00:00",
          "2024-06-13T00:00:00",
          "2024-06-14T00:00:00",
          "2024-06-15T00:00:00",
          "2024-06-16T00:00:00",
          "2024-06-17T00:00:00",
          "2024-06-18T00:00:00",
          "2024-06-19T00:00:00",
          "2024-06-20T00:00:00",
          "2024-06-21T00:00:00",
          "2024-06-22T00:00:00",
          "2024-06-23T00:00:00",
          "2024-06-24T00:00:00",
          "2024-06-25T00:00:00",
          "2024-06-26T00:00:00",
          "2024-06-27T00:00:00",
          "2024-06-28T00:00:00",
          "2024-06-29T00:00:00",
          "2024-06-30T00:00:00",
          "2024-07-01T00:00:00",
          "2024-07-02T00:00:00",
          "2024-07-03T00:00:00",
          "2024-07-04T00:00:00",
          "2024-07-05T00:00:00",
          "2024-07-06T00:00:00",
          "2024-07-07T00:00:00",
          "2024-07-08T00:00:00",
          "2024-07-09T00:00:00",
          "2024-07-10T00:00:00",
          "2024-07-11T00:00:00",
          "2024-07-12T00:00:00",
          "2024-07-13T00:00:00",
          "2024-07-14T00:00:00",
          "2024-07-15T00:00:00",
          "2024-07-16T00:00:00",
          "2024-07-17T00:00:00",
          "2024-07-18T00:00:00",
          "2024-07-19T00:00:00",
          "2024-07-20T00:00:00",
          "2024-07-21T00:00:00",
          "2024-07-22T00:00:00",
          "2024-07-23T00:00:00",
          "2024-07-24T00:00:00",
          "2024-07-25T00:00:00",
          "2024-07-26T00:00:00",
          "2024-07-27T00:00:00",
          "2024-07-28T00:00:00",
          "2024-07-29T00:00:00",
          "2024-07-30T00:00:00",
          "2024-07-31T00:00:00",
          "2024-08-01T00:00:00"
         ],
         "xaxis": "x",
         "y": [
          204.73747799999998,
          322.56694699999997,
          274.668771,
          375.45524900000004,
          296.67962099999994,
          176.209419,
          206.059291,
          167.5822,
          218.74363,
          332.0408499999999,
          195.676134,
          135.095285,
          262.38606699999997,
          303.342626,
          334.40271299999995,
          289.44951,
          145.47935599999997,
          240.21765000000002,
          231.02086,
          203.949792,
          292.4705379999999,
          179.41695699999997,
          161.047055,
          346.7508529999999,
          401.8608239999999,
          192.825782,
          117.439893,
          195.53573699999998,
          237.25371,
          172.290863,
          254.16101999999992,
          234.313899,
          219.545997,
          184.51077099999998,
          270.66144599999996,
          379.9485009999999,
          254.07604400000002,
          194.573847,
          385.551334,
          211.253028,
          198.87841599999996,
          193.870656,
          146.991911,
          310.660262,
          258.80741,
          553.9794420000001,
          378.5967660000001,
          245.50986699999996,
          297.7165649999999,
          315.163643,
          323.21978399999995,
          273.024467,
          389.1733929999999,
          341.00651899999997,
          193.26867299999995,
          140.18351,
          582.4384500000003,
          432.68553099999997,
          341.49102200000004,
          377.8955319999999,
          391.50176799999997,
          304.862556
         ],
         "yaxis": "y"
        }
       ],
       "layout": {
        "annotations": [
         {
          "showarrow": false,
          "text": "v 0.7",
          "textangle": -90,
          "x": "2024-06-12",
          "xshift": 6,
          "y": 0,
          "yanchor": "bottom"
         },
         {
          "showarrow": false,
          "text": "v 0.8",
          "textangle": -90,
          "x": "2024-06-24",
          "xshift": 6,
          "y": 0,
          "yanchor": "bottom"
         },
         {
          "showarrow": false,
          "text": "v 0.9",
          "textangle": -90,
          "x": "2024-07-21",
          "xshift": 6,
          "y": 0,
          "yanchor": "bottom"
         }
        ],
        "autosize": true,
        "legend": {
         "title": {
          "text": "offer_type"
         },
         "tracegroupgap": 0
        },
        "margin": {
         "t": 60
        },
        "shapes": [
         {
          "line": {
           "color": "red",
           "width": 2
          },
          "opacity": 0.3,
          "type": "line",
          "x0": "2024-06-12",
          "x1": "2024-06-12",
          "xref": "x",
          "y0": 0,
          "y1": 1,
          "yref": "y domain"
         },
         {
          "line": {
           "color": "red",
           "width": 2
          },
          "opacity": 0.3,
          "type": "line",
          "x0": "2024-06-24",
          "x1": "2024-06-24",
          "xref": "x",
          "y0": 0,
          "y1": 1,
          "yref": "y domain"
         },
         {
          "line": {
           "color": "red",
           "width": 2
          },
          "opacity": 0.3,
          "type": "line",
          "x0": "2024-07-21",
          "x1": "2024-07-21",
          "xref": "x",
          "y0": 0,
          "y1": 1,
          "yref": "y domain"
         }
        ],
        "template": {
         "data": {
          "scatter": [
           {
            "type": "scatter"
           }
          ]
         }
        },
        "title": {
         "text": "My precious project: Revenue structure"
        },
        "xaxis": {
         "anchor": "y",
         "autorange": true,
         "domain": [
          0,
          1
         ],
         "range": [
          "2024-06-01",
          "2024-08-01"
         ],
         "title": {
          "text": ""
         },
         "type": "date"
        },
        "yaxis": {
         "anchor": "x",
         "autorange": true,
         "domain": [
          0,
          1
         ],
         "range": [
          0,
          7082.887877368422
         ],
         "rangemode": "tozero",
         "title": {
          "text": ""
         },
         "type": "linear"
        }
       }
      },
      "image/png": "[encoded data removed]",
      "text/html": [
       "<div>                            <div id=\"c167cbb0-cc0e-4625-b8d1-e74c33d5be88\" class=\"plotly-graph-div\" style=\"height:500px; width:100%;\"></div>            <script type=\"text/javascript\">                require([\"plotly\"], function(Plotly) {                    window.PLOTLYENV=window.PLOTLYENV || {};                                    if (document.getElementById(\"c167cbb0-cc0e-4625-b8d1-e74c33d5be88\")) {                    Plotly.newPlot(                        \"c167cbb0-cc0e-4625-b8d1-e74c33d5be88\",                        [{\"customdata\":[[\"in-app\",0.38180678185491246,1.078624193510054],[\"in-app\",0.36261144316563004,0.8173983425634287],[\"in-app\",0.3547910560511138,0.7867577543089429],[\"in-app\",0.3570514207155652,0.7759868164652552],[\"in-app\",0.330908491658168,0.6701082699590007],[\"in-app\",0.38682245375652485,0.947942912345678],[\"in-app\",0.4648310004401082,1.0033613338098915],[\"in-app\",0.4130640910907285,0.8037264648606804],[\"in-app\",0.44376275231480755,0.7857575542087534],[\"in-app\",0.33730905765139313,0.5620367121651786],[\"in-app\",0.28414569490773883,0.4194174264748728],[\"in-app\",0.3522413355148913,0.47291279982085294],[\"in-app\",0.45499169061568734,0.7689670406834531],[\"in-app\",0.3864876691291561,0.6542953295868991],[\"in-app\",0.35258384721235164,0.5794250912546122],[\"in-app\",0.5304292822571967,1.0723863029188314],[\"in-app\",0.42921014338906277,0.6771109555113837],[\"in-app\",0.381633324640881,0.6639156123542268],[\"in-app\",0.3365321438333455,0.60315016292517],[\"in-app\",0.35778151953844545,0.6460438797945202],[\"in-app\",0.3838183090850786,0.6231459028925619],[\"in-app\",0.3356069272840786,0.47791958176208416],[\"in-app\",0.33416541259967236,0.5481139822849369],[\"in-app\",0.548623795445954,1.249255089170897],[\"in-app\",0.36571235018831816,0.7680269020202015],[\"in-app\",0.36482262034838564,0.6054000893596372],[\"in-app\",0.4397088072416778,0.7208371821811095],[\"in-app\",0.38390763046154075,0.6431455874172182],[\"in-app\",0.3994969347026249,0.6997065190995898],[\"in-app\",0.4042906509354226,0.6895970547826081],[\"in-app\",0.3523574818386281,0.5470168055069647],[\"in-app\",0.39938284641383826,0.5978549026181348],[\"in-app\",0.3153143692307448,0.47694081713185715],[\"in-app\",0.34415082154047033,0.5469322249758608],[\"in-app\",0.3488297993344345,0.5482645917721517],[\"in-app\",0.38854305431213276,0.5286839506648936],[\"in-app\",0.48464065978220583,0.8885688089321682],[\"in-app\",0.326965158169407,0.4268260221702842],[\"in-app\",0.38024075870584534,0.577118021171022],[\"in-app\",0.3455109430086733,0.43395123834537097],[\"in-app\",0.39788263697259646,0.5576269907894732],[\"in-app\",0.27372959443342126,0.29008763897383655],[\"in-app\",0.27054277176484953,0.4091893687083889],[\"in-app\",0.31272767078593605,0.3802876959404599],[\"in-app\",0.35675693598806224,0.49878758072048024],[\"in-app\",0.31852572921552236,0.5204434339483393],[\"in-app\",0.2780176404940497,0.3864546291694137],[\"in-app\",0.3864902785798991,0.46295831896214124],[\"in-app\",0.3609903589762863,0.5275378080026899],[\"in-app\",0.3756330147111619,0.42667135736486483],[\"in-app\",0.41674215391256225,0.6007193319860625],[\"in-app\",0.3908825559152607,0.5687270663914686],[\"in-app\",0.33929404514201633,0.4035158746521887],[\"in-app\",0.3882869566650327,0.5045626235766913],[\"in-app\",0.4077016706793953,0.5158829963467285],[\"in-app\",0.427622171967313,0.6386275281032072],[\"in-app\",0.26643238187498297,0.34342955728945534],[\"in-app\",0.35061232394670927,0.4497791576647564],[\"in-app\",0.46160256412694,0.6529876631036928],[\"in-app\",0.27479073727665493,0.3798652709457033],[\"in-app\",0.2830547645188924,0.3780633310382124],[\"in-app\",0.35564636242071407,0.5914688613760462]],\"hovertemplate\":\"<b>%{hovertext}</b><br><br>login_dt=%{x}<br>offer_revenue=%{y:.0f}<br>revenue_share=%{customdata[1]:.1%}<br>ARPDAU=%{customdata[2]:.2f}<extra></extra>\",\"hovertext\":[\"in-app\",\"in-app\",\"in-app\",\"in-app\",\"in-app\",\"in-app\",\"in-app\",\"in-app\",\"in-app\",\"in-app\",\"in-app\",\"in-app\",\"in-app\",\"in-app\",\"in-app\",\"in-app\",\"in-app\",\"in-app\",\"in-app\",\"in-app\",\"in-app\",\"in-app\",\"in-app\",\"in-app\",\"in-app\",\"in-app\",\"in-app\",\"in-app\",\"in-app\",\"in-app\",\"in-app\",\"in-app\",\"in-app\",\"in-app\",\"in-app\",\"in-app\",\"in-app\",\"in-app\",\"in-app\",\"in-app\",\"in-app\",\"in-app\",\"in-app\",\"in-app\",\"in-app\",\"in-app\",\"in-app\",\"in-app\",\"in-app\",\"in-app\",\"in-app\",\"in-app\",\"in-app\",\"in-app\",\"in-app\",\"in-app\",\"in-app\",\"in-app\",\"in-app\",\"in-app\",\"in-app\",\"in-app\"],\"legendgroup\":\"in-app\",\"line\":{\"color\":\"#1F77B4\"},\"marker\":{\"symbol\":\"circle\"},\"mode\":\"lines\",\"name\":\"in-app\",\"orientation\":\"v\",\"showlegend\":true,\"stackgroup\":\"1\",\"x\":[\"2024-06-01T00:00:00\",\"2024-06-02T00:00:00\",\"2024-06-03T00:00:00\",\"2024-06-04T00:00:00\",\"2024-06-05T00:00:00\",\"2024-06-06T00:00:00\",\"2024-06-07T00:00:00\",\"2024-06-08T00:00:00\",\"2024-06-09T00:00:00\",\"2024-06-10T00:00:00\",\"2024-06-11T00:00:00\",\"2024-06-12T00:00:00\",\"2024-06-13T00:00:00\",\"2024-06-14T00:00:00\",\"2024-06-15T00:00:00\",\"2024-06-16T00:00:00\",\"2024-06-17T00:00:00\",\"2024-06-18T00:00:00\",\"2024-06-19T00:00:00\",\"2024-06-20T00:00:00\",\"2024-06-21T00:00:00\",\"2024-06-22T00:00:00\",\"2024-06-23T00:00:00\",\"2024-06-24T00:00:00\",\"2024-06-25T00:00:00\",\"2024-06-26T00:00:00\",\"2024-06-27T00:00:00\",\"2024-06-28T00:00:00\",\"2024-06-29T00:00:00\",\"2024-06-30T00:00:00\",\"2024-07-01T00:00:00\",\"2024-07-02T00:00:00\",\"2024-07-03T00:00:00\",\"2024-07-04T00:00:00\",\"2024-07-05T00:00:00\",\"2024-07-06T00:00:00\",\"2024-07-07T00:00:00\",\"2024-07-08T00:00:00\",\"2024-07-09T00:00:00\",\"2024-07-10T00:00:00\",\"2024-07-11T00:00:00\",\"2024-07-12T00:00:00\",\"2024-07-13T00:00:00\",\"2024-07-14T00:00:00\",\"2024-07-15T00:00:00\",\"2024-07-16T00:00:00\",\"2024-07-17T00:00:00\",\"2024-07-18T00:00:00\",\"2024-07-19T00:00:00\",\"2024-07-20T00:00:00\",\"2024-07-21T00:00:00\",\"2024-07-22T00:00:00\",\"2024-07-23T00:00:00\",\"2024-07-24T00:00:00\",\"2024-07-25T00:00:00\",\"2024-07-26T00:00:00\",\"2024-07-27T00:00:00\",\"2024-07-28T00:00:00\",\"2024-07-29T00:00:00\",\"2024-07-30T00:00:00\",\"2024-07-31T00:00:00\",\"2024-08-01T00:00:00\"],\"xaxis\":\"x\",\"y\":[2360.029735399998,1868.572611099998,1935.4240755999995,2054.813089999996,1797.900488299999,2457.068028799997,2596.699131899999,2076.8291851999984,2100.329942399998,1510.7546823,1151.7202531000007,1319.8996243000006,2137.7283730999998,1758.0915505999978,1570.241997299999,2682.0381435999975,1873.5660138999986,1821.7844402999983,1773.2614789999998,1886.4481289999987,1809.6157019999998,1394.0914199999995,1612.0032218999993,3691.5487885000002,2357.0745622999984,1871.8970762999982,2220.8993582999983,1942.2996739999987,2051.5395139999973,2061.895193799998,1688.6408786000002,1872.481554999998,1486.6245269999988,1699.3184229999995,1645.8903044999995,1590.2813236,2646.157912999997,1278.3439364000012,1744.6277779999994,1321.815472,1695.1860519999984,853.7279215000009,1229.2048636000002,1124.1304291999995,1495.3651669999997,1551.4418765999994,1172.5033449000011,1418.5042893000007,1568.8974409999996,1262.9472177999999,1724.0644827999995,1653.2895819999992,1189.1612826,1506.6239940000005,1553.3237019999997,1831.5837505999984,970.5319289000008,1255.7834082,1838.813259299999,1056.405318500001,1048.747680300001,1624.7649621999988],\"yaxis\":\"y\",\"type\":\"scatter\"},{\"customdata\":[[\"starter pack\",0.1947691780786872,0.5502331483089581],[\"starter pack\",0.20159593323511807,0.4544373455380576],[\"starter pack\",0.2456230914453266,0.5446751504471546],[\"starter pack\",0.1681956925423572,0.36554297904078575],[\"starter pack\",0.17402825734182395,0.352416989563921],[\"starter pack\",0.24561474150049506,0.6019008232638894],[\"starter pack\",0.1893972684993088,0.408823627859351],[\"starter pack\",0.15435190209134325,0.3003328328173374],[\"starter pack\",0.191344449304909,0.33880794571642375],[\"starter pack\",0.252615165914884,0.4209166462425593],[\"starter pack\",0.21869265252243084,0.3228045018936636],[\"starter pack\",0.19620491809539198,0.2634211485130776],[\"starter pack\",0.17254579292425506,0.2916141778057555],[\"starter pack\",0.15418602094227088,0.2610256457015258],[\"starter pack\",0.23545598747384797,0.3869408882656829],[\"starter pack\",0.1507806936948932,0.3048382811275488],[\"starter pack\",0.1994203021639256,0.3146003733285148],[\"starter pack\",0.16876513619347802,0.2935954527696793],[\"starter pack\",0.2714569898304438,0.4865191353741502],[\"starter pack\",0.22405054160675714,0.404566679006849],[\"starter pack\",0.2170289616532166,0.35235606291322313],[\"starter pack\",0.19572937163310264,0.2787275584161808],[\"starter pack\",0.27498072536042345,0.45103644705882406],[\"starter pack\",0.1858868910171912,0.4232775656852792],[\"starter pack\",0.19965015336368228,0.419282227403063],[\"starter pack\",0.2504813961220953,0.4156580517141012],[\"starter pack\",0.19824611090420718,0.32499500944498555],[\"starter pack\",0.2270503422865328,0.3803686464569536],[\"starter pack\",0.18395887794564053,0.32219828229877207],[\"starter pack\",0.1948750986852539,0.33239772869565215],[\"starter pack\",0.22042325077568345,0.342195720861678],[\"starter pack\",0.1521105669806294,0.2277014374201788],[\"starter pack\",0.3069485086548569,0.46428671453320497],[\"starter pack\",0.31472462050560446,0.5001674445445766],[\"starter pack\",0.2668217714157615,0.41937050636242496],[\"starter pack\",0.17890981610273493,0.24343955538563825],[\"starter pack\",0.176310855986418,0.3232587364338484],[\"starter pack\",0.2575910437727162,0.3362638428380633],[\"starter pack\",0.17441284073019842,0.26471857949057204],[\"starter pack\",0.1731122649879326,0.21742374093893627],[\"starter pack\",0.2264610804164105,0.3173820596052631],[\"starter pack\",0.1610660594567217,0.17069134597349642],[\"starter pack\",0.2986787400404034,0.4517443370838884],[\"starter pack\",0.24973553658660222,0.3036870756089308],[\"starter pack\",0.26467335726822167,0.37004405587058053],[\"starter pack\",0.18707095440703264,0.30565772549480047],[\"starter pack\",0.24637085255836422,0.34246444324324343],[\"starter pack\",0.2231582806458634,0.2673106885117494],[\"starter pack\",0.26237531522021956,0.3834254716879623],[\"starter pack\",0.2380041285794693,0.2703424369594594],[\"starter pack\",0.19630798158569415,0.28297113324041806],[\"starter pack\",0.25016556561748704,0.36398638438252484],[\"starter pack\",0.23761820880107823,0.28259476029860886],[\"starter pack\",0.19481336211992997,0.2531517976892164],[\"starter pack\",0.23332955456458915,0.29524222832945857],[\"starter pack\",0.19122408813835623,0.2855814658995817],[\"starter pack\",0.20629836511757485,0.2659172121019108],[\"starter pack\",0.1817966495846178,0.23321582936962743],[\"starter pack\",0.14735912849685967,0.20845571587357953],[\"starter pack\",0.16746007112614908,0.23149348453793608],[\"starter pack\",0.1880388873807808,0.25115496023792366],[\"starter pack\",0.23339213975125087,0.38815013378230806]],\"hovertemplate\":\"<b>%{hovertext}</b><br><br>login_dt=%{x}<br>offer_revenue=%{y:.0f}<br>revenue_share=%{customdata[1]:.1%}<br>ARPDAU=%{customdata[2]:.2f}<extra></extra>\",\"hovertext\":[\"starter pack\",\"starter pack\",\"starter pack\",\"starter pack\",\"starter pack\",\"starter pack\",\"starter pack\",\"starter pack\",\"starter pack\",\"starter pack\",\"starter pack\",\"starter pack\",\"starter pack\",\"starter pack\",\"starter pack\",\"starter pack\",\"starter pack\",\"starter pack\",\"starter pack\",\"starter pack\",\"starter pack\",\"starter pack\",\"starter pack\",\"starter pack\",\"starter pack\",\"starter pack\",\"starter pack\",\"starter pack\",\"starter pack\",\"starter pack\",\"starter pack\",\"starter pack\",\"starter pack\",\"starter pack\",\"starter pack\",\"starter pack\",\"starter pack\",\"starter pack\",\"starter pack\",\"starter pack\",\"starter pack\",\"starter pack\",\"starter pack\",\"starter pack\",\"starter pack\",\"starter pack\",\"starter pack\",\"starter pack\",\"starter pack\",\"starter pack\",\"starter pack\",\"starter pack\",\"starter pack\",\"starter pack\",\"starter pack\",\"starter pack\",\"starter pack\",\"starter pack\",\"starter pack\",\"starter pack\",\"starter pack\",\"starter pack\"],\"legendgroup\":\"starter pack\",\"line\":{\"color\":\"#FF7F0E\"},\"marker\":{\"symbol\":\"circle\"},\"mode\":\"lines\",\"name\":\"starter pack\",\"orientation\":\"v\",\"showlegend\":true,\"stackgroup\":\"1\",\"x\":[\"2024-06-01T00:00:00\",\"2024-06-02T00:00:00\",\"2024-06-03T00:00:00\",\"2024-06-04T00:00:00\",\"2024-06-05T00:00:00\",\"2024-06-06T00:00:00\",\"2024-06-07T00:00:00\",\"2024-06-08T00:00:00\",\"2024-06-09T00:00:00\",\"2024-06-10T00:00:00\",\"2024-06-11T00:00:00\",\"2024-06-12T00:00:00\",\"2024-06-13T00:00:00\",\"2024-06-14T00:00:00\",\"2024-06-15T00:00:00\",\"2024-06-16T00:00:00\",\"2024-06-17T00:00:00\",\"2024-06-18T00:00:00\",\"2024-06-19T00:00:00\",\"2024-06-20T00:00:00\",\"2024-06-21T00:00:00\",\"2024-06-22T00:00:00\",\"2024-06-23T00:00:00\",\"2024-06-24T00:00:00\",\"2024-06-25T00:00:00\",\"2024-06-26T00:00:00\",\"2024-06-27T00:00:00\",\"2024-06-28T00:00:00\",\"2024-06-29T00:00:00\",\"2024-06-30T00:00:00\",\"2024-07-01T00:00:00\",\"2024-07-02T00:00:00\",\"2024-07-03T00:00:00\",\"2024-07-04T00:00:00\",\"2024-07-05T00:00:00\",\"2024-07-06T00:00:00\",\"2024-07-07T00:00:00\",\"2024-07-08T00:00:00\",\"2024-07-09T00:00:00\",\"2024-07-10T00:00:00\",\"2024-07-11T00:00:00\",\"2024-07-12T00:00:00\",\"2024-07-13T00:00:00\",\"2024-07-14T00:00:00\",\"2024-07-15T00:00:00\",\"2024-07-16T00:00:00\",\"2024-07-17T00:00:00\",\"2024-07-18T00:00:00\",\"2024-07-19T00:00:00\",\"2024-07-20T00:00:00\",\"2024-07-21T00:00:00\",\"2024-07-22T00:00:00\",\"2024-07-23T00:00:00\",\"2024-07-24T00:00:00\",\"2024-07-25T00:00:00\",\"2024-07-26T00:00:00\",\"2024-07-27T00:00:00\",\"2024-07-28T00:00:00\",\"2024-07-29T00:00:00\",\"2024-07-30T00:00:00\",\"2024-07-31T00:00:00\",\"2024-08-01T00:00:00\"],\"xaxis\":\"x\",\"y\":[1203.9101285000004,1038.8437718999996,1339.9008701000005,967.9578085000007,945.534783,1560.1269339000014,1058.0355489000003,776.0600399999998,905.6336389000006,1131.4239450999994,886.4211622000003,735.2084254999995,810.6874143000002,701.3759099999999,1048.6098072000007,762.4005410999996,870.4992330000005,805.6259223999999,1430.3662580000016,1181.334702699999,1023.2420066999999,813.0482878999994,1326.4981908000016,1250.7852066,1286.7771559000003,1285.2146959000008,1001.3096241000005,1148.7133122999999,944.6853636999997,993.8692087999999,1056.3581903,713.160902,1447.1816892,1554.0202501999995,1258.9502600999997,732.2661825999999,962.6645171000005,1007.1102092999997,800.2442657999992,662.2727148999999,964.8414611999999,502.3446312,1357.0399886000007,897.6989954999995,1109.3920795000004,911.1656797000003,1039.0371208000006,819.0399496000001,1140.3073528,800.2136133999999,812.1271523999999,1058.1084193999998,832.8067586000003,755.9112679000002,888.9743494999997,819.0476442000004,751.4820414000001,651.1385955999998,587.0112958999999,643.7833805000002,696.7038597000003,1066.2484175000002],\"yaxis\":\"y\",\"type\":\"scatter\"},{\"customdata\":[[\"buff\",0.3903015092661593,1.1026222441956117],[\"buff\",0.3731959305543158,0.8412578831583554],[\"buff\",0.3492351182350811,0.7744373277235774],[\"buff\",0.409512485693938,0.8900014721676732],[\"buff\",0.4404585570641079,0.891953301602684],[\"buff\",0.3398217088377596,0.8327633962962967],[\"buff\",0.3088853836170786,0.6667447958655341],[\"buff\",0.39925329786060076,0.7768538795665638],[\"buff\",0.318676119114543,0.5642703598578371],[\"buff\",0.33594038732822223,0.5597561835193453],[\"buff\",0.44888557951942243,0.6625841528404954],[\"buff\",0.4155008960561909,0.5578439333213902],[\"buff\",0.3166165625397245,0.5351036208992803],[\"buff\",0.3926413955791202,0.6647131379605508],[\"buff\",0.33687301615429294,0.5536064107011074],[\"buff\",0.2615453140107454,0.5287747522990802],[\"buff\",0.3380420843788866,0.533286555041561],[\"buff\",0.3992799652302401,0.6946149235422737],[\"buff\",0.34816739135706287,0.6240034501020411],[\"buff\",0.3794870626782598,0.6852374449657536],[\"buff\",0.33711991907537764,0.5473290131887055],[\"buff\",0.4254717175603682,0.6058911446006181],[\"buff\",0.3574690927969456,0.5863377854471273],[\"buff\",0.21395653422221894,0.4871941236548225],[\"buff\",0.3722867041802117,0.7818336020853706],[\"buff\",0.3471152810696298,0.576015878557568],[\"buff\",0.33879353059375167,0.5554015974034406],[\"buff\",0.3503931707098123,0.5870001107615895],[\"buff\",0.37034369779498033,0.6486455267735337],[\"buff\",0.3670519391532504,0.6260791230434788],[\"buff\",0.37418517462880524,0.5809031720440556],[\"buff\",0.3985296179742207,0.5965776649744579],[\"buff\",0.3311712231238256,0.500925708373436],[\"buff\",0.3037569095113147,0.4827373115867399],[\"buff\",0.3269844739256795,0.5139297429713527],[\"buff\",0.33971679266985805,0.46224688374335143],[\"buff\",0.2925147603768494,0.536313837844191],[\"buff\",0.3656771688679697,0.4773613563606017],[\"buff\",0.3613156785905435,0.5483941020840222],[\"buff\",0.426157107816101,0.5352403691070257],[\"buff\",0.3289768821394906,0.4610565322039472],[\"buff\",0.5030438676916502,0.5331057030241255],[\"buff\",0.3984261926526649,0.6026099355193082],[\"buff\",0.35111260410144873,0.4269651063937756],[\"buff\",0.3168246957991042,0.44295767675116815],[\"buff\",0.38066608368126126,0.6219753872526005],[\"buff\",0.38584069303918317,0.5363325927158872],[\"buff\",0.32345902627349005,0.3874561802872064],[\"buff\",0.30813220012978876,0.4502928717888364],[\"buff\",0.2926250760017432,0.3323848902702706],[\"buff\",0.3088209370079459,0.4451546483623696],[\"buff\",0.29440147988598203,0.4283488415204681],[\"buff\",0.3120479596925948,0.37111262986087556],[\"buff\",0.32901552166842746,0.42754187839919655],[\"buff\",0.30824144678784315,0.390031566223846],[\"buff\",0.3484249187303712,0.5203512800906557],[\"buff\",0.36737707542091547,0.4735465917551315],[\"buff\",0.34678605439193966,0.44487066991404023],[\"buff\",0.3053128371120056,0.43189863210227253],[\"buff\",0.45945151168842746,0.635136666918375],[\"buff\",0.42324085502550995,0.5653034943763523],[\"buff\",0.3442298402639332,0.5724822553694939]],\"hovertemplate\":\"<b>%{hovertext}</b><br><br>login_dt=%{x}<br>offer_revenue=%{y:.0f}<br>revenue_share=%{customdata[1]:.1%}<br>ARPDAU=%{customdata[2]:.2f}<extra></extra>\",\"hovertext\":[\"buff\",\"buff\",\"buff\",\"buff\",\"buff\",\"buff\",\"buff\",\"buff\",\"buff\",\"buff\",\"buff\",\"buff\",\"buff\",\"buff\",\"buff\",\"buff\",\"buff\",\"buff\",\"buff\",\"buff\",\"buff\",\"buff\",\"buff\",\"buff\",\"buff\",\"buff\",\"buff\",\"buff\",\"buff\",\"buff\",\"buff\",\"buff\",\"buff\",\"buff\",\"buff\",\"buff\",\"buff\",\"buff\",\"buff\",\"buff\",\"buff\",\"buff\",\"buff\",\"buff\",\"buff\",\"buff\",\"buff\",\"buff\",\"buff\",\"buff\",\"buff\",\"buff\",\"buff\",\"buff\",\"buff\",\"buff\",\"buff\",\"buff\",\"buff\",\"buff\",\"buff\",\"buff\"],\"legendgroup\":\"buff\",\"line\":{\"color\":\"#2CA02C\"},\"marker\":{\"symbol\":\"circle\"},\"mode\":\"lines\",\"name\":\"buff\",\"orientation\":\"v\",\"showlegend\":true,\"stackgroup\":\"1\",\"x\":[\"2024-06-01T00:00:00\",\"2024-06-02T00:00:00\",\"2024-06-03T00:00:00\",\"2024-06-04T00:00:00\",\"2024-06-05T00:00:00\",\"2024-06-06T00:00:00\",\"2024-06-07T00:00:00\",\"2024-06-08T00:00:00\",\"2024-06-09T00:00:00\",\"2024-06-10T00:00:00\",\"2024-06-11T00:00:00\",\"2024-06-12T00:00:00\",\"2024-06-13T00:00:00\",\"2024-06-14T00:00:00\",\"2024-06-15T00:00:00\",\"2024-06-16T00:00:00\",\"2024-06-17T00:00:00\",\"2024-06-18T00:00:00\",\"2024-06-19T00:00:00\",\"2024-06-20T00:00:00\",\"2024-06-21T00:00:00\",\"2024-06-22T00:00:00\",\"2024-06-23T00:00:00\",\"2024-06-24T00:00:00\",\"2024-06-25T00:00:00\",\"2024-06-26T00:00:00\",\"2024-06-27T00:00:00\",\"2024-06-28T00:00:00\",\"2024-06-29T00:00:00\",\"2024-06-30T00:00:00\",\"2024-07-01T00:00:00\",\"2024-07-02T00:00:00\",\"2024-07-03T00:00:00\",\"2024-07-04T00:00:00\",\"2024-07-05T00:00:00\",\"2024-07-06T00:00:00\",\"2024-07-07T00:00:00\",\"2024-07-08T00:00:00\",\"2024-07-09T00:00:00\",\"2024-07-10T00:00:00\",\"2024-07-11T00:00:00\",\"2024-07-12T00:00:00\",\"2024-07-13T00:00:00\",\"2024-07-14T00:00:00\",\"2024-07-15T00:00:00\",\"2024-07-16T00:00:00\",\"2024-07-17T00:00:00\",\"2024-07-18T00:00:00\",\"2024-07-19T00:00:00\",\"2024-07-20T00:00:00\",\"2024-07-21T00:00:00\",\"2024-07-22T00:00:00\",\"2024-07-23T00:00:00\",\"2024-07-24T00:00:00\",\"2024-07-25T00:00:00\",\"2024-07-26T00:00:00\",\"2024-07-27T00:00:00\",\"2024-07-28T00:00:00\",\"2024-07-29T00:00:00\",\"2024-07-30T00:00:00\",\"2024-07-31T00:00:00\",\"2024-08-01T00:00:00\"],\"xaxis\":\"x\",\"y\":[2412.5374702999984,1923.1155209000003,1905.1158262000006,2356.723898299999,2393.110708200001,2158.522723200001,1725.5355317000024,2007.3904248000008,1508.2946718999985,1504.6246213000002,1819.4560837000004,1556.9424179,1487.5880660999994,1786.0842017,1500.273373000001,1322.4656554999997,1475.6038977999992,1906.023350199999,1834.5701433000006,2000.8933393000004,1589.443454300001,1767.384468800003,1724.4194270000016,1439.6586354000005,2399.447324800002,1781.0410965000003,1711.1923216000007,1772.7403345000005,1901.828684500001,1871.9765779000015,1793.2480920999997,1868.481246700002,1561.385433,1499.8648271000009,1542.8170884000008,1390.438626300001,1597.1426091000008,1429.697262300002,1657.7953705999992,1630.3421643000001,1401.6118578999994,1568.9300840000014,1810.2402463000017,1262.1088545000007,1327.987114900002,1854.1086294000022,1627.2330863000018,1187.1657364000005,1339.1710006999995,983.8592752000011,1277.5938408000009,1245.2100823000007,1093.6689202000002,1276.640048900001,1174.3850459000003,1492.3674713000005,1338.2426683000015,1242.0789104000003,1216.2265479999994,1766.315070700001,1568.1518934000012,1572.6087554999997],\"yaxis\":\"y\",\"type\":\"scatter\"},{\"customdata\":[[\"battle pass\",0.03312253080024095,0.09357288756855575],[\"battle pass\",0.06259669304493608,0.1411054011373578],[\"battle pass\",0.050350734268478664,0.11165397195121951],[\"battle pass\",0.06524040104813941,0.14178823602719035],[\"battle pass\",0.05460469393590018,0.11057757025717478],[\"battle pass\",0.027741095905220423,0.06798202893518518],[\"battle pass\",0.03688634744350431,0.07962105525502318],[\"battle pass\",0.03333070895732746,0.06485379256965944],[\"battle pass\",0.04621667926574049,0.08183450430228208],[\"battle pass\",0.07413538910550067,0.12352710193452378],[\"battle pass\",0.048276073050407826,0.0712586067006555],[\"battle pass\",0.0360528503335258,0.04840390003582945],[\"battle pass\",0.05584595392033299,0.09438347733812949],[\"battle pass\",0.0666849143494527,0.11289267807964272],[\"battle pass\",0.07508714915950741,0.12339583505535054],[\"battle pass\",0.057244710037164664,0.11573351059576169],[\"battle pass\",0.03332747006812501,0.05257656523310443],[\"battle pass\",0.05032157393540102,0.08754287536443149],[\"battle pass\",0.04384347497914783,0.0785785238095238],[\"battle pass\",0.03868087617653755,0.06984581917808219],[\"battle pass\",0.06203281018632717,0.10071299517906333],[\"battle pass\",0.04319198352245053,0.06150735584504627],[\"battle pass\",0.033384769242958516,0.054759284257055424],[\"battle pass\",0.051532779314635895,0.11734377428087983],[\"battle pass\",0.0623507922677878,0.1309419433040078],[\"battle pass\",0.03758070245988911,0.06236280142302717],[\"battle pass\",0.023251551260363254,0.03811745959104187],[\"battle pass\",0.03864885654211414,0.06474693278145695],[\"battle pass\",0.04620048955675422,0.0809187278308322],[\"battle pass\",0.03378231122607304,0.05762236220735786],[\"battle pass\",0.05303409275688321,0.0823326919339164],[\"battle pass\",0.04997696863131167,0.07481286685823754],[\"battle pass\",0.046565898990572785,0.07043503272377286],[\"battle pass\",0.03736764844261069,0.05938550724171226],[\"battle pass\",0.05736395532412463,0.0901603750832778],[\"battle pass\",0.09283033691527433,0.12631266655585102],[\"battle pass\",0.04653372385452679,0.08531767763599732],[\"battle pass\",0.04976662918990707,0.06496622604340567],[\"battle pass\",0.08403072197341274,0.12753930995699636],[\"battle pass\",0.055219684187293026,0.06935424425476035],[\"battle pass\",0.04667940047150239,0.06542053157894735],[\"battle pass\",0.06216047841820677,0.06587518042813456],[\"battle pass\",0.03235229554208222,0.048932060918774965],[\"battle pass\",0.08642418852601298,0.10509481123139378],[\"battle pass\",0.06174501094461177,0.08632668779186124],[\"battle pass\",0.11373723269618378,0.1858367802750755],[\"battle pass\",0.08977081390840286,0.12478469545154915],[\"battle pass\",0.06689241450074755,0.08012724118798954],[\"battle pass\",0.06850212567370544,0.10010644418291859],[\"battle pass\",0.09373778070762569,0.10647420371621621],[\"battle pass\",0.07812892749379777,0.11262013379790939],[\"battle pass\",0.06455039858127032,0.09391966529067768],[\"battle pass\",0.11103978636431064,0.13205747980997623],[\"battle pass\",0.08788415954660987,0.11420178131279303],[\"battle pass\",0.05072732796817243,0.06418753669877116],[\"battle pass\",0.032728821163959504,0.04887849023709903],[\"battle pass\",0.1598921775865267,0.20609994692144384],[\"battle pass\",0.12080497207673326,0.15497332772206301],[\"battle pass\",0.08572547026419487,0.12126811860795456],[\"battle pass\",0.09829767990876849,0.1358847651923768],[\"battle pass\",0.10566549307481689,0.1411325767844268],[\"battle pass\",0.06673165756410188,0.11098018056061157]],\"hovertemplate\":\"<b>%{hovertext}</b><br><br>login_dt=%{x}<br>offer_revenue=%{y:.0f}<br>revenue_share=%{customdata[1]:.1%}<br>ARPDAU=%{customdata[2]:.2f}<extra></extra>\",\"hovertext\":[\"battle pass\",\"battle pass\",\"battle pass\",\"battle pass\",\"battle pass\",\"battle pass\",\"battle pass\",\"battle pass\",\"battle pass\",\"battle pass\",\"battle pass\",\"battle pass\",\"battle pass\",\"battle pass\",\"battle pass\",\"battle pass\",\"battle pass\",\"battle pass\",\"battle pass\",\"battle pass\",\"battle pass\",\"battle pass\",\"battle pass\",\"battle pass\",\"battle pass\",\"battle pass\",\"battle pass\",\"battle pass\",\"battle pass\",\"battle pass\",\"battle pass\",\"battle pass\",\"battle pass\",\"battle pass\",\"battle pass\",\"battle pass\",\"battle pass\",\"battle pass\",\"battle pass\",\"battle pass\",\"battle pass\",\"battle pass\",\"battle pass\",\"battle pass\",\"battle pass\",\"battle pass\",\"battle pass\",\"battle pass\",\"battle pass\",\"battle pass\",\"battle pass\",\"battle pass\",\"battle pass\",\"battle pass\",\"battle pass\",\"battle pass\",\"battle pass\",\"battle pass\",\"battle pass\",\"battle pass\",\"battle pass\",\"battle pass\"],\"legendgroup\":\"battle pass\",\"line\":{\"color\":\"#D62728\"},\"marker\":{\"symbol\":\"circle\"},\"mode\":\"lines\",\"name\":\"battle pass\",\"orientation\":\"v\",\"showlegend\":true,\"stackgroup\":\"1\",\"x\":[\"2024-06-01T00:00:00\",\"2024-06-02T00:00:00\",\"2024-06-03T00:00:00\",\"2024-06-04T00:00:00\",\"2024-06-05T00:00:00\",\"2024-06-06T00:00:00\",\"2024-06-07T00:00:00\",\"2024-06-08T00:00:00\",\"2024-06-09T00:00:00\",\"2024-06-10T00:00:00\",\"2024-06-11T00:00:00\",\"2024-06-12T00:00:00\",\"2024-06-13T00:00:00\",\"2024-06-14T00:00:00\",\"2024-06-15T00:00:00\",\"2024-06-16T00:00:00\",\"2024-06-17T00:00:00\",\"2024-06-18T00:00:00\",\"2024-06-19T00:00:00\",\"2024-06-20T00:00:00\",\"2024-06-21T00:00:00\",\"2024-06-22T00:00:00\",\"2024-06-23T00:00:00\",\"2024-06-24T00:00:00\",\"2024-06-25T00:00:00\",\"2024-06-26T00:00:00\",\"2024-06-27T00:00:00\",\"2024-06-28T00:00:00\",\"2024-06-29T00:00:00\",\"2024-06-30T00:00:00\",\"2024-07-01T00:00:00\",\"2024-07-02T00:00:00\",\"2024-07-03T00:00:00\",\"2024-07-04T00:00:00\",\"2024-07-05T00:00:00\",\"2024-07-06T00:00:00\",\"2024-07-07T00:00:00\",\"2024-07-08T00:00:00\",\"2024-07-09T00:00:00\",\"2024-07-10T00:00:00\",\"2024-07-11T00:00:00\",\"2024-07-12T00:00:00\",\"2024-07-13T00:00:00\",\"2024-07-14T00:00:00\",\"2024-07-15T00:00:00\",\"2024-07-16T00:00:00\",\"2024-07-17T00:00:00\",\"2024-07-18T00:00:00\",\"2024-07-19T00:00:00\",\"2024-07-20T00:00:00\",\"2024-07-21T00:00:00\",\"2024-07-22T00:00:00\",\"2024-07-23T00:00:00\",\"2024-07-24T00:00:00\",\"2024-07-25T00:00:00\",\"2024-07-26T00:00:00\",\"2024-07-27T00:00:00\",\"2024-07-28T00:00:00\",\"2024-07-29T00:00:00\",\"2024-07-30T00:00:00\",\"2024-07-31T00:00:00\",\"2024-08-01T00:00:00\"],\"xaxis\":\"x\",\"y\":[204.73747799999998,322.56694699999997,274.668771,375.45524900000004,296.67962099999994,176.209419,206.059291,167.5822,218.74363,332.0408499999999,195.676134,135.095285,262.38606699999997,303.342626,334.40271299999995,289.44951,145.47935599999997,240.21765000000002,231.02086,203.949792,292.4705379999999,179.41695699999997,161.047055,346.7508529999999,401.8608239999999,192.825782,117.439893,195.53573699999998,237.25371,172.290863,254.16101999999992,234.313899,219.545997,184.51077099999998,270.66144599999996,379.9485009999999,254.07604400000002,194.573847,385.551334,211.253028,198.87841599999996,193.870656,146.991911,310.660262,258.80741,553.9794420000001,378.5967660000001,245.50986699999996,297.7165649999999,315.163643,323.21978399999995,273.024467,389.1733929999999,341.00651899999997,193.26867299999995,140.18351,582.4384500000003,432.68553099999997,341.49102200000004,377.8955319999999,391.50176799999997,304.862556],\"yaxis\":\"y\",\"type\":\"scatter\"}],                        {\"template\":{\"data\":{\"scatter\":[{\"type\":\"scatter\"}]}},\"xaxis\":{\"anchor\":\"y\",\"domain\":[0.0,1.0],\"title\":{\"text\":\"\"}},\"yaxis\":{\"anchor\":\"x\",\"domain\":[0.0,1.0],\"title\":{\"text\":\"\"},\"rangemode\":\"tozero\"},\"legend\":{\"title\":{\"text\":\"offer_type\"},\"tracegroupgap\":0},\"margin\":{\"t\":60},\"shapes\":[{\"line\":{\"color\":\"red\",\"width\":2},\"opacity\":0.3,\"type\":\"line\",\"x0\":\"2024-06-12\",\"x1\":\"2024-06-12\",\"xref\":\"x\",\"y0\":0,\"y1\":1,\"yref\":\"y domain\"},{\"line\":{\"color\":\"red\",\"width\":2},\"opacity\":0.3,\"type\":\"line\",\"x0\":\"2024-06-24\",\"x1\":\"2024-06-24\",\"xref\":\"x\",\"y0\":0,\"y1\":1,\"yref\":\"y domain\"},{\"line\":{\"color\":\"red\",\"width\":2},\"opacity\":0.3,\"type\":\"line\",\"x0\":\"2024-07-21\",\"x1\":\"2024-07-21\",\"xref\":\"x\",\"y0\":0,\"y1\":1,\"yref\":\"y domain\"}],\"annotations\":[{\"showarrow\":false,\"text\":\"v 0.7\",\"textangle\":-90,\"x\":\"2024-06-12\",\"xshift\":6,\"y\":0,\"yanchor\":\"bottom\"},{\"showarrow\":false,\"text\":\"v 0.8\",\"textangle\":-90,\"x\":\"2024-06-24\",\"xshift\":6,\"y\":0,\"yanchor\":\"bottom\"},{\"showarrow\":false,\"text\":\"v 0.9\",\"textangle\":-90,\"x\":\"2024-07-21\",\"xshift\":6,\"y\":0,\"yanchor\":\"bottom\"}],\"title\":{\"text\":\"My precious project: Revenue structure\"},\"height\":500},                        {\"responsive\": true}                    ).then(function(){\n",
       "                            \n",
       "var gd = document.getElementById('c167cbb0-cc0e-4625-b8d1-e74c33d5be88');\n",
       "var x = new MutationObserver(function (mutations, observer) {{\n",
       "        var display = window.getComputedStyle(gd).display;\n",
       "        if (!display || display === 'none') {{\n",
       "            console.log([gd, 'removed!']);\n",
       "            Plotly.purge(gd);\n",
       "            observer.disconnect();\n",
       "        }}\n",
       "}});\n",
       "\n",
       "// Listen for the removal of the full notebook cells\n",
       "var notebookContainer = gd.closest('#notebook-container');\n",
       "if (notebookContainer) {{\n",
       "    x.observe(notebookContainer, {childList: true});\n",
       "}}\n",
       "\n",
       "// Listen for the clearing of the current output cell\n",
       "var outputEl = gd.closest('.output');\n",
       "if (outputEl) {{\n",
       "    x.observe(outputEl, {childList: true});\n",
       "}}\n",
       "\n",
       "                        })                };                });            </script>        </div>"
      ]
     },
     "metadata": {},
     "output_type": "display_data"
    }
   ],
   "source": [
    "fig = px.area(\n",
    "    daily_stat, \n",
    "    x='login_dt', y='offer_revenue', color='offer_type',\n",
    "    # https://plotly.com/python/legend/#legend-order\n",
    "    category_orders={\n",
    "        'offer_type': ['in-app', 'starter pack', 'buff', 'battle pass'],         \n",
    "    },    \n",
    "    # https://plotly.com/python/hover-text-and-formatting/\n",
    "    hover_name='offer_type',\n",
    "    hover_data={\n",
    "        # https://github.com/d3/d3-3.x-api-reference/blob/master/Formatting.md\n",
    "        'offer_type': False,\n",
    "        'offer_revenue': ':.0f',\n",
    "        'revenue_share': ':.1%',                \n",
    "        'ARPDAU': ':.2f'  \n",
    "    }\n",
    ")\n",
    "\n",
    "for i in versions_dict.keys():\n",
    "    fig.add_vline(i, line_width=2, line_color='red', opacity=0.3)\n",
    "    fig.add_annotation(x=i, y=0, yanchor='bottom', text=versions_dict[i], showarrow=False, textangle=-90, xshift=6)  \n",
    "\n",
    "fig.update_layout(\n",
    "    title=f'My precious project: Revenue structure',\n",
    "    xaxis=dict(title=''),\n",
    "    yaxis=dict(title='', rangemode='tozero'),\n",
    "    # margin=dict(b=50, l=50),         \n",
    "    height=500\n",
    ")"
   ]
  },
  {
   "cell_type": "code",
   "execution_count": null,
   "id": "8645c174-6d62-4890-adaf-b5efce2906c1",
   "metadata": {},
   "outputs": [],
   "source": []
  },
  {
   "cell_type": "code",
   "execution_count": null,
   "id": "0c2b8eb0-84c9-4598-b123-9d65c00f02a0",
   "metadata": {},
   "outputs": [],
   "source": []
  },
  {
   "cell_type": "code",
   "execution_count": null,
   "id": "33910457-037a-47c4-a127-8f04054373da",
   "metadata": {},
   "outputs": [],
   "source": []
  },
  {
   "cell_type": "code",
   "execution_count": null,
   "id": "7be5de22-90cd-4df9-8ed6-39c2602bbf81",
   "metadata": {},
   "outputs": [],
   "source": []
  },
  {
   "cell_type": "code",
   "execution_count": null,
   "id": "82c93f1b-023a-47e2-9f5c-c0c76e96072b",
   "metadata": {},
   "outputs": [],
   "source": []
  },
  {
   "cell_type": "code",
   "execution_count": null,
   "id": "d2e38644-7c9a-4b7a-8ed4-219441c0f382",
   "metadata": {},
   "outputs": [],
   "source": []
  },
  {
   "cell_type": "code",
   "execution_count": null,
   "id": "6df39af3-6c7a-4b6b-b36c-7b821f69efd0",
   "metadata": {},
   "outputs": [],
   "source": []
  },
  {
   "cell_type": "code",
   "execution_count": null,
   "id": "04cb1133-3307-426e-9f9d-64243d757411",
   "metadata": {},
   "outputs": [],
   "source": []
  },
  {
   "cell_type": "code",
   "execution_count": null,
   "id": "370eb646-9ba2-4973-ac95-fd3dad5e5353",
   "metadata": {},
   "outputs": [],
   "source": []
  },
  {
   "cell_type": "code",
   "execution_count": null,
   "id": "43604435-3192-4199-9def-a94f009e6f87",
   "metadata": {},
   "outputs": [],
   "source": []
  },
  {
   "cell_type": "code",
   "execution_count": null,
   "id": "86f19005-dcbc-4159-bdff-c11919da001c",
   "metadata": {},
   "outputs": [],
   "source": []
  },
  {
   "cell_type": "markdown",
   "id": "4b5c86e0-ad41-49ed-bd94-fa79e965ffb6",
   "metadata": {},
   "source": [
    "## компоновка"
   ]
  },
  {
   "cell_type": "markdown",
   "id": "803e55d5-44c4-469f-ab59-84b15d40d791",
   "metadata": {},
   "source": [
    "### add_trace"
   ]
  },
  {
   "cell_type": "markdown",
   "id": "51b7c8b1-bcc6-46dc-bd23-33ace4a093ca",
   "metadata": {},
   "source": [
    "### second y axis"
   ]
  },
  {
   "cell_type": "code",
   "execution_count": 255,
   "id": "003772e8-a45f-45cb-9eda-d08eeed598bf",
   "metadata": {},
   "outputs": [],
   "source": [
    "payments_sample_stat_levels = payments_sample.groupby(['level']).agg(\n",
    "    n_users=('user_id', 'nunique'),\n",
    "    offer_revenue=('revenue', 'sum')\n",
    ").reset_index()"
   ]
  },
  {
   "cell_type": "code",
   "execution_count": 265,
   "id": "d87a125b-abd2-4416-b956-c7280adf313b",
   "metadata": {},
   "outputs": [
    {
     "data": {
      "application/vnd.plotly.v1+json": {
       "config": {
        "plotlyServerURL": "https://plot.ly"
       },
       "data": [
        {
         "alignmentgroup": "True",
         "hovertemplate": "level=%{x}<br>offer_revenue=%{y}<extra></extra>",
         "legendgroup": "",
         "marker": {
          "color": "#1F77B4",
          "pattern": {
           "shape": ""
          }
         },
         "name": "",
         "offsetgroup": "",
         "orientation": "v",
         "showlegend": false,
         "textposition": "auto",
         "type": "bar",
         "x": [
          1,
          2,
          3,
          4,
          5,
          6,
          7,
          8,
          9,
          10,
          11,
          12,
          13,
          14,
          15,
          16,
          17,
          18,
          19,
          20,
          21,
          22,
          23,
          24,
          25,
          26,
          27,
          28,
          29,
          30,
          31,
          32,
          33,
          34,
          35,
          36,
          37,
          38,
          39,
          40,
          41,
          42,
          43,
          44,
          45,
          46,
          47,
          48,
          49,
          50
         ],
         "xaxis": "x",
         "y": [
          1714.3846800000003,
          1284.1609402999993,
          5364.914118000022,
          5435.622557300006,
          8307.72820020005,
          8622.95802820003,
          7584.860207500041,
          4769.8489294000055,
          4722.248478400001,
          5944.916042000015,
          4379.469083999999,
          3503.4351367000004,
          3138.9970920999986,
          3498.432964399999,
          2983.7129922999984,
          3093.6452350999994,
          2493.2246398000007,
          2997.1344775000043,
          2505.8329652999973,
          2375.198662799996,
          2459.6715935999982,
          2284.4179658999997,
          1817.5636179999995,
          1693.8690649999999,
          3206.4538344999974,
          3304.6969727000055,
          2818.8329758999976,
          2600.3181127,
          2016.7324185000002,
          3767.0842790999986,
          3232.890163399997,
          2875.736383299994,
          2650.9672984999956,
          2348.5107361999985,
          3108.065031599999,
          2387.850966600003,
          1617.6371855999998,
          2300.662479699998,
          1284.576071400001,
          1637.3970967000007,
          1437.7481278000012,
          2088.9138508999995,
          1241.059113500001,
          859.3123861,
          1096.052153700001,
          1096.559778300001,
          536.1132628000003,
          770.4384609000005,
          1346.6786044,
          13275.440829800042
         ],
         "yaxis": "y"
        },
        {
         "hovertemplate": "level=%{x}<br>n_users=%{y}<extra></extra>",
         "legendgroup": "",
         "line": {
          "color": "#1F77B4",
          "dash": "solid"
         },
         "marker": {
          "symbol": "circle"
         },
         "mode": "lines",
         "name": "",
         "orientation": "v",
         "showlegend": false,
         "type": "scatter",
         "x": [
          1,
          2,
          3,
          4,
          5,
          6,
          7,
          8,
          9,
          10,
          11,
          12,
          13,
          14,
          15,
          16,
          17,
          18,
          19,
          20,
          21,
          22,
          23,
          24,
          25,
          26,
          27,
          28,
          29,
          30,
          31,
          32,
          33,
          34,
          35,
          36,
          37,
          38,
          39,
          40,
          41,
          42,
          43,
          44,
          45,
          46,
          47,
          48,
          49,
          50
         ],
         "xaxis": "x",
         "y": [
          106,
          93,
          666,
          457,
          807,
          859,
          876,
          604,
          517,
          551,
          487,
          401,
          334,
          331,
          303,
          271,
          271,
          235,
          219,
          227,
          213,
          185,
          160,
          157,
          279,
          253,
          226,
          191,
          175,
          299,
          269,
          208,
          184,
          172,
          217,
          187,
          163,
          148,
          113,
          123,
          110,
          102,
          93,
          73,
          71,
          62,
          38,
          36,
          47,
          196
         ],
         "yaxis": "y2"
        }
       ],
       "layout": {
        "autosize": true,
        "template": {
         "data": {
          "scatter": [
           {
            "type": "scatter"
           }
          ]
         }
        },
        "title": {
         "text": "My precious project: Payers structure"
        },
        "xaxis": {
         "anchor": "y",
         "autorange": true,
         "domain": [
          0,
          0.94
         ],
         "range": [
          0.5,
          50.5
         ],
         "title": {
          "text": ""
         },
         "type": "linear"
        },
        "yaxis": {
         "anchor": "x",
         "domain": [
          0,
          1
         ],
         "range": [
          0,
          13275.440829800042
         ],
         "title": {
          "text": "revenue"
         },
         "type": "linear"
        },
        "yaxis2": {
         "anchor": "x",
         "overlaying": "y",
         "range": [
          0,
          876
         ],
         "side": "right",
         "title": {
          "text": "N payers"
         },
         "type": "linear"
        }
       }
      },
      "image/png": "[encoded data removed]",
      "text/html": [
       "<div>                            <div id=\"97bc799f-fc97-476f-ad98-18adf10107cf\" class=\"plotly-graph-div\" style=\"height:500px; width:100%;\"></div>            <script type=\"text/javascript\">                require([\"plotly\"], function(Plotly) {                    window.PLOTLYENV=window.PLOTLYENV || {};                                    if (document.getElementById(\"97bc799f-fc97-476f-ad98-18adf10107cf\")) {                    Plotly.newPlot(                        \"97bc799f-fc97-476f-ad98-18adf10107cf\",                        [{\"alignmentgroup\":\"True\",\"hovertemplate\":\"level=%{x}<br>offer_revenue=%{y}<extra></extra>\",\"legendgroup\":\"\",\"marker\":{\"color\":\"#1F77B4\",\"pattern\":{\"shape\":\"\"}},\"name\":\"\",\"offsetgroup\":\"\",\"orientation\":\"v\",\"showlegend\":false,\"textposition\":\"auto\",\"x\":[1.0,2.0,3.0,4.0,5.0,6.0,7.0,8.0,9.0,10.0,11.0,12.0,13.0,14.0,15.0,16.0,17.0,18.0,19.0,20.0,21.0,22.0,23.0,24.0,25.0,26.0,27.0,28.0,29.0,30.0,31.0,32.0,33.0,34.0,35.0,36.0,37.0,38.0,39.0,40.0,41.0,42.0,43.0,44.0,45.0,46.0,47.0,48.0,49.0,50.0],\"xaxis\":\"x\",\"y\":[1714.3846800000003,1284.1609402999993,5364.914118000022,5435.622557300006,8307.72820020005,8622.95802820003,7584.860207500041,4769.8489294000055,4722.248478400001,5944.916042000015,4379.469083999999,3503.4351367000004,3138.9970920999986,3498.432964399999,2983.7129922999984,3093.6452350999994,2493.2246398000007,2997.1344775000043,2505.8329652999973,2375.198662799996,2459.6715935999982,2284.4179658999997,1817.5636179999995,1693.8690649999999,3206.4538344999974,3304.6969727000055,2818.8329758999976,2600.3181127,2016.7324185000002,3767.0842790999986,3232.890163399997,2875.736383299994,2650.9672984999956,2348.5107361999985,3108.065031599999,2387.850966600003,1617.6371855999998,2300.662479699998,1284.576071400001,1637.3970967000007,1437.7481278000012,2088.9138508999995,1241.059113500001,859.3123861,1096.052153700001,1096.559778300001,536.1132628000003,770.4384609000005,1346.6786044,13275.440829800042],\"yaxis\":\"y\",\"type\":\"bar\"},{\"hovertemplate\":\"level=%{x}<br>n_users=%{y}<extra></extra>\",\"legendgroup\":\"\",\"line\":{\"color\":\"#1F77B4\",\"dash\":\"solid\"},\"marker\":{\"symbol\":\"circle\"},\"mode\":\"lines\",\"name\":\"\",\"orientation\":\"v\",\"showlegend\":false,\"x\":[1.0,2.0,3.0,4.0,5.0,6.0,7.0,8.0,9.0,10.0,11.0,12.0,13.0,14.0,15.0,16.0,17.0,18.0,19.0,20.0,21.0,22.0,23.0,24.0,25.0,26.0,27.0,28.0,29.0,30.0,31.0,32.0,33.0,34.0,35.0,36.0,37.0,38.0,39.0,40.0,41.0,42.0,43.0,44.0,45.0,46.0,47.0,48.0,49.0,50.0],\"xaxis\":\"x\",\"y\":[106,93,666,457,807,859,876,604,517,551,487,401,334,331,303,271,271,235,219,227,213,185,160,157,279,253,226,191,175,299,269,208,184,172,217,187,163,148,113,123,110,102,93,73,71,62,38,36,47,196],\"yaxis\":\"y2\",\"type\":\"scatter\"}],                        {\"template\":{\"data\":{\"scatter\":[{\"type\":\"scatter\"}]}},\"xaxis\":{\"anchor\":\"y\",\"domain\":[0.0,0.94],\"title\":{\"text\":\"\"}},\"yaxis\":{\"anchor\":\"x\",\"domain\":[0.0,1.0],\"title\":{\"text\":\"revenue\"},\"range\":[0,13275.440829800042]},\"yaxis2\":{\"anchor\":\"x\",\"overlaying\":\"y\",\"side\":\"right\",\"title\":{\"text\":\"N payers\"},\"range\":[0,876]},\"title\":{\"text\":\"My precious project: Payers structure\"},\"height\":500},                        {\"responsive\": true}                    ).then(function(){\n",
       "                            \n",
       "var gd = document.getElementById('97bc799f-fc97-476f-ad98-18adf10107cf');\n",
       "var x = new MutationObserver(function (mutations, observer) {{\n",
       "        var display = window.getComputedStyle(gd).display;\n",
       "        if (!display || display === 'none') {{\n",
       "            console.log([gd, 'removed!']);\n",
       "            Plotly.purge(gd);\n",
       "            observer.disconnect();\n",
       "        }}\n",
       "}});\n",
       "\n",
       "// Listen for the removal of the full notebook cells\n",
       "var notebookContainer = gd.closest('#notebook-container');\n",
       "if (notebookContainer) {{\n",
       "    x.observe(notebookContainer, {childList: true});\n",
       "}}\n",
       "\n",
       "// Listen for the clearing of the current output cell\n",
       "var outputEl = gd.closest('.output');\n",
       "if (outputEl) {{\n",
       "    x.observe(outputEl, {childList: true});\n",
       "}}\n",
       "\n",
       "                        })                };                });            </script>        </div>"
      ]
     },
     "metadata": {},
     "output_type": "display_data"
    }
   ],
   "source": [
    "subfig = make_subplots(specs=[[{'secondary_y': True}]])\n",
    "fig1 = px.bar(payments_sample_stat_levels, x='level', y='offer_revenue')\n",
    "fig2 = px.line(payments_sample_stat_levels, x='level', y='n_users')\n",
    "fig2.update_traces(yaxis = 'y2')\n",
    "subfig.add_traces(fig1.data + fig2.data)\n",
    "# subfig.for_each_trace(lambda t: t.update(line=dict(color=t.marker.color)))  \n",
    "\n",
    "subfig.update_layout(\n",
    "    title=f'My precious project: Payers structure',\n",
    "    xaxis=dict(title=''),\n",
    "    yaxis=dict(title='revenue', range=[0, payments_sample_stat_levels['offer_revenue'].max()]),\n",
    "    yaxis2=dict(title='N payers', range=[0, payments_sample_stat_levels['n_users'].max()]),    \n",
    "    # margin=dict(b=50, l=50),         \n",
    "    height=500\n",
    ")"
   ]
  },
  {
   "cell_type": "code",
   "execution_count": null,
   "id": "3bed5eb7-f441-4803-8b49-a906e6b82817",
   "metadata": {},
   "outputs": [],
   "source": []
  },
  {
   "cell_type": "code",
   "execution_count": null,
   "id": "39c65075-80c6-4a13-b08e-8456a3b0759a",
   "metadata": {},
   "outputs": [],
   "source": []
  },
  {
   "cell_type": "markdown",
   "id": "4aaca410-4680-4f19-b0a7-ec8f51fbb63c",
   "metadata": {},
   "source": [
    "### facets"
   ]
  },
  {
   "cell_type": "code",
   "execution_count": 301,
   "id": "3eec49da-7e25-442a-92d2-de1619f0bb0e",
   "metadata": {},
   "outputs": [],
   "source": [
    "payments_sample_stat_platform = payments_sample.groupby(['pay_dt', 'platform', 'offer_type']).agg(\n",
    "    offer_revenue=('revenue', 'sum')\n",
    ").reset_index()\n",
    "payments_sample_stat_platform['total_revenue'] = payments_sample_stat_platform.groupby(['pay_dt'])['offer_revenue'].transform('sum')\n",
    "payments_sample_stat_platform['revenue_share'] = payments_sample_stat_platform['offer_revenue'] / payments_sample_stat_platform['total_revenue']"
   ]
  },
  {
   "cell_type": "code",
   "execution_count": 312,
   "id": "77870740-365f-4c29-a5bf-5f8f0157a3c5",
   "metadata": {},
   "outputs": [],
   "source": [
    "payments_sample_stat_platform.to_csv('payments_platforms.csv', index=False)"
   ]
  },
  {
   "cell_type": "code",
   "execution_count": 311,
   "id": "00292096-4678-47e3-85a0-dbfa0a81e971",
   "metadata": {},
   "outputs": [
    {
     "data": {
      "application/vnd.plotly.v1+json": {
       "config": {
        "plotlyServerURL": "https://plot.ly"
       },
       "data": [
        {
         "customdata": [
          [
           "in-app",
           5931.7149785,
           0.17453974487186338
          ],
          [
           "in-app",
           4691.571438499999,
           0.24739708202569669
          ],
          [
           "in-app",
           5058.2777566,
           0.27663105375623864
          ],
          [
           "in-app",
           6091.080800299999,
           0.2207913168601806
          ],
          [
           "in-app",
           5184.9107055,
           0.24744106501951402
          ],
          [
           "in-app",
           6707.845672199999,
           0.27659259047793444
          ],
          [
           "in-app",
           5330.168017000002,
           0.27907554250742483
          ],
          [
           "in-app",
           4470.0339325,
           0.14498860585551052
          ],
          [
           "in-app",
           4706.584747,
           0.3783276651153434
          ],
          [
           "in-app",
           4322.2931997000005,
           0.3311798315994283
          ],
          [
           "in-app",
           3622.1349448,
           0.2779356499252645
          ],
          [
           "in-app",
           4123.4881909000005,
           0.2622172958773539
          ],
          [
           "in-app",
           5200.735075900001,
           0.296825693958821
          ],
          [
           "in-app",
           3341.436702000001,
           0.26074512304198694
          ],
          [
           "in-app",
           5236.254813900002,
           0.26524121960473473
          ],
          [
           "in-app",
           4907.119055799998,
           0.4094623835598848
          ],
          [
           "in-app",
           4399.540952600001,
           0.30361352750009196
          ],
          [
           "in-app",
           5574.295049800001,
           0.26899647733103016
          ],
          [
           "in-app",
           4377.1941255,
           0.2479002895207556
          ],
          [
           "in-app",
           5180.329991600001,
           0.26152545343574896
          ],
          [
           "in-app",
           5288.3225718,
           0.2745583183110924
          ],
          [
           "in-app",
           4534.9774892000005,
           0.25730250828782875
          ],
          [
           "in-app",
           4506.390143700003,
           0.24364649331016616
          ],
          [
           "in-app",
           5543.421649400002,
           0.22526927031342836
          ],
          [
           "in-app",
           6808.006463100001,
           0.1635947725720661
          ],
          [
           "in-app",
           4583.070183400003,
           0.22462373317536233
          ],
          [
           "in-app",
           4481.1542855,
           0.33081265797894605
          ],
          [
           "in-app",
           7702.697868200002,
           0.5427335395380007
          ],
          [
           "in-app",
           3682.873265800001,
           0.24534910456760478
          ],
          [
           "in-app",
           5215.3800431,
           0.29293570005914615
          ],
          [
           "in-app",
           5621.6286162000015,
           0.20932294702089882
          ],
          [
           "in-app",
           4789.433413800002,
           0.1915626721850724
          ],
          [
           "in-app",
           5098.683891400001,
           0.217194582874195
          ],
          [
           "in-app",
           4754.1374734,
           0.18142021067454997
          ],
          [
           "in-app",
           4299.096015800002,
           0.22153487512252565
          ],
          [
           "in-app",
           4072.915108500001,
           0.27066730723145416
          ],
          [
           "in-app",
           4147.724719500002,
           0.345673562726901
          ],
          [
           "in-app",
           3863.496913100002,
           0.21053786460704915
          ],
          [
           "in-app",
           4154.5861975000025,
           0.2659361044584515
          ],
          [
           "in-app",
           4502.426978700001,
           0.26380821535121285
          ],
          [
           "in-app",
           3767.787029600001,
           0.2833206918580345
          ],
          [
           "in-app",
           3207.6987793000003,
           0.2570648594940531
          ],
          [
           "in-app",
           4750.360035900002,
           0.1609056600391311
          ],
          [
           "in-app",
           4444.781536500001,
           0.26143470077384756
          ],
          [
           "in-app",
           4351.921064400002,
           0.18616404457044064
          ],
          [
           "in-app",
           4633.604957300001,
           0.2733953152402892
          ],
          [
           "in-app",
           4197.171749000001,
           0.22516850358224427
          ],
          [
           "in-app",
           4224.485961700002,
           0.25013508497369263
          ],
          [
           "in-app",
           4524.093835000001,
           0.23375035632964514
          ],
          [
           "in-app",
           3668.542990100001,
           0.275006506594734
          ],
          [
           "in-app",
           4474.3313803,
           0.2979402685436807
          ],
          [
           "in-app",
           4404.936297900002,
           0.21810743153267076
          ],
          [
           "in-app",
           3570.4279914,
           0.21846893058166506
          ],
          [
           "in-app",
           4138.931362899999,
           0.2990922002467403
          ],
          [
           "in-app",
           4397.392009700001,
           0.24817349842650313
          ],
          [
           "in-app",
           4158.709560900001,
           0.3146167915407021
          ],
          [
           "in-app",
           3766.150772900001,
           0.22148391907254888
          ],
          [
           "in-app",
           3521.1765459000007,
           0.1938647219477948
          ],
          [
           "in-app",
           3941.114517700001,
           0.33427326155668996
          ],
          [
           "in-app",
           4076.5258258000017,
           0.15199274639169155
          ],
          [
           "in-app",
           4713.423948700001,
           0.16697533843037152
          ],
          [
           "in-app",
           4704.674218500001,
           0.17618744625090796
          ]
         ],
         "hovertemplate": "<b>%{hovertext}</b><br><br>platform=iOS<br>pay_dt=%{x}<br>offer_revenue=%{y:.0f}<br>total_revenue=%{customdata[1]:.0f}<br>revenue_share=%{customdata[2]:.1%}<extra></extra>",
         "hovertext": [
          "in-app",
          "in-app",
          "in-app",
          "in-app",
          "in-app",
          "in-app",
          "in-app",
          "in-app",
          "in-app",
          "in-app",
          "in-app",
          "in-app",
          "in-app",
          "in-app",
          "in-app",
          "in-app",
          "in-app",
          "in-app",
          "in-app",
          "in-app",
          "in-app",
          "in-app",
          "in-app",
          "in-app",
          "in-app",
          "in-app",
          "in-app",
          "in-app",
          "in-app",
          "in-app",
          "in-app",
          "in-app",
          "in-app",
          "in-app",
          "in-app",
          "in-app",
          "in-app",
          "in-app",
          "in-app",
          "in-app",
          "in-app",
          "in-app",
          "in-app",
          "in-app",
          "in-app",
          "in-app",
          "in-app",
          "in-app",
          "in-app",
          "in-app",
          "in-app",
          "in-app",
          "in-app",
          "in-app",
          "in-app",
          "in-app",
          "in-app",
          "in-app",
          "in-app",
          "in-app",
          "in-app",
          "in-app"
         ],
         "legendgroup": "in-app",
         "line": {
          "color": "#1F77B4"
         },
         "marker": {
          "symbol": "circle"
         },
         "mode": "lines",
         "name": "in-app",
         "orientation": "v",
         "showlegend": true,
         "stackgroup": "1",
         "type": "scatter",
         "x": [
          "2024-06-01T00:00:00",
          "2024-06-02T00:00:00",
          "2024-06-03T00:00:00",
          "2024-06-04T00:00:00",
          "2024-06-05T00:00:00",
          "2024-06-06T00:00:00",
          "2024-06-07T00:00:00",
          "2024-06-08T00:00:00",
          "2024-06-09T00:00:00",
          "2024-06-10T00:00:00",
          "2024-06-11T00:00:00",
          "2024-06-12T00:00:00",
          "2024-06-13T00:00:00",
          "2024-06-14T00:00:00",
          "2024-06-15T00:00:00",
          "2024-06-16T00:00:00",
          "2024-06-17T00:00:00",
          "2024-06-18T00:00:00",
          "2024-06-19T00:00:00",
          "2024-06-20T00:00:00",
          "2024-06-21T00:00:00",
          "2024-06-22T00:00:00",
          "2024-06-23T00:00:00",
          "2024-06-24T00:00:00",
          "2024-06-25T00:00:00",
          "2024-06-26T00:00:00",
          "2024-06-27T00:00:00",
          "2024-06-28T00:00:00",
          "2024-06-29T00:00:00",
          "2024-06-30T00:00:00",
          "2024-07-01T00:00:00",
          "2024-07-02T00:00:00",
          "2024-07-03T00:00:00",
          "2024-07-04T00:00:00",
          "2024-07-05T00:00:00",
          "2024-07-06T00:00:00",
          "2024-07-07T00:00:00",
          "2024-07-08T00:00:00",
          "2024-07-09T00:00:00",
          "2024-07-10T00:00:00",
          "2024-07-11T00:00:00",
          "2024-07-12T00:00:00",
          "2024-07-13T00:00:00",
          "2024-07-14T00:00:00",
          "2024-07-15T00:00:00",
          "2024-07-16T00:00:00",
          "2024-07-17T00:00:00",
          "2024-07-18T00:00:00",
          "2024-07-19T00:00:00",
          "2024-07-20T00:00:00",
          "2024-07-21T00:00:00",
          "2024-07-22T00:00:00",
          "2024-07-23T00:00:00",
          "2024-07-24T00:00:00",
          "2024-07-25T00:00:00",
          "2024-07-26T00:00:00",
          "2024-07-27T00:00:00",
          "2024-07-28T00:00:00",
          "2024-07-29T00:00:00",
          "2024-07-30T00:00:00",
          "2024-07-31T00:00:00",
          "2024-08-01T00:00:00"
         ],
         "xaxis": "x",
         "y": [
          1035.3200190000007,
          1160.681084,
          1399.2767060000008,
          1344.8577509999996,
          1282.959827,
          1855.3404109999992,
          1487.5195310000004,
          648.1039880000003,
          1780.631217999999,
          1431.4563340000004,
          1006.72043,
          1081.249923,
          1543.7117979999996,
          871.2633240000013,
          1388.8706129999998,
          2009.2806649999984,
          1335.7601480000012,
          1499.4657319999997,
          1085.1076910000006,
          1354.78815,
          1451.9529519999992,
          1166.861083,
          1097.9661560000015,
          1248.76255,
          1113.7542690000007,
          1029.466334000001,
          1482.4225599999997,
          4180.512478,
          903.5896580000006,
          1527.7710039999984,
          1176.7358690000017,
          917.476663000002,
          1107.4065210000006,
          862.4966220000007,
          952.399699000001,
          1102.4049650000013,
          1433.7587810000016,
          813.4123900000005,
          1104.8544690000015,
          1187.7772260000006,
          1067.492028000001,
          824.5866360000002,
          764.3598170000004,
          1162.020131,
          810.1712270000015,
          1266.8058880000006,
          945.0708820000012,
          1056.6921550000015,
          1057.508546000001,
          1008.8731920000013,
          1333.0834929999996,
          960.7493420000008,
          780.0275850000004,
          1237.9220880000003,
          1091.3161590000007,
          1308.3998590000003,
          834.1418330000013,
          682.6319120000002,
          1317.4092040000005,
          619.6023560000007,
          787.0255590000008,
          828.9045360000014
         ],
         "yaxis": "y"
        },
        {
         "customdata": [
          [
           "in-app",
           5931.7149785,
           0.11262077473738145
          ],
          [
           "in-app",
           4691.571438499999,
           0.08294488829619472
          ],
          [
           "in-app",
           5058.2777566,
           0.08147107460880156
          ],
          [
           "in-app",
           6091.080800299999,
           0.06113682958887345
          ],
          [
           "in-app",
           5184.9107055,
           0.10019011371766816
          ],
          [
           "in-app",
           6707.845672199999,
           0.06121135888705309
          ],
          [
           "in-app",
           5330.168017000002,
           0.10765566172958403
          ],
          [
           "in-app",
           4470.0339325,
           0.1378638586207198
          ],
          [
           "in-app",
           4706.584747,
           0.07373718589072716
          ],
          [
           "in-app",
           4322.2931997000005,
           0.06571968498567285
          ],
          [
           "in-app",
           3622.1349448,
           0.12075607241743752
          ],
          [
           "in-app",
           4123.4881909000005,
           0.08336176590940458
          ],
          [
           "in-app",
           5200.735075900001,
           0.12434485955585603
          ],
          [
           "in-app",
           3341.436702000001,
           0.11681668743458952
          ],
          [
           "in-app",
           5236.254813900002,
           0.056867404945523836
          ],
          [
           "in-app",
           4907.119055799998,
           0.07243865907020448
          ],
          [
           "in-app",
           4399.540952600001,
           0.07033895543513888
          ],
          [
           "in-app",
           5574.295049800001,
           0.17833634006073423
          ],
          [
           "in-app",
           4377.1941255,
           0.06880754711000993
          ],
          [
           "in-app",
           5180.329991600001,
           0.12587771089049782
          ],
          [
           "in-app",
           5288.3225718,
           0.11436660687552196
          ],
          [
           "in-app",
           4534.9774892000005,
           0.1000141866371229
          ],
          [
           "in-app",
           4506.390143700003,
           0.08593594197373171
          ],
          [
           "in-app",
           5543.421649400002,
           0.1860496881220699
          ],
          [
           "in-app",
           6808.006463100001,
           0.1811396700758223
          ],
          [
           "in-app",
           4583.070183400003,
           0.09101241700613832
          ],
          [
           "in-app",
           4481.1542855,
           0.07121335753437319
          ],
          [
           "in-app",
           7702.697868200002,
           0.04406234675271149
          ],
          [
           "in-app",
           3682.873265800001,
           0.18623645439263056
          ],
          [
           "in-app",
           5215.3800431,
           0.08867648416377014
          ],
          [
           "in-app",
           5621.6286162000015,
           0.16859430608218626
          ],
          [
           "in-app",
           4789.433413800002,
           0.08852487389810171
          ],
          [
           "in-app",
           5098.683891400001,
           0.13365207196888743
          ],
          [
           "in-app",
           4754.1374734,
           0.1462765484361687
          ],
          [
           "in-app",
           4299.096015800002,
           0.06475455090485953
          ],
          [
           "in-app",
           4072.915108500001,
           0.1326401541177616
          ],
          [
           "in-app",
           4147.724719500002,
           0.08205811186067064
          ],
          [
           "in-app",
           3863.496913100002,
           0.1194438887566559
          ],
          [
           "in-app",
           4154.5861975000025,
           0.07032194040788095
          ],
          [
           "in-app",
           4502.426978700001,
           0.09999439602904846
          ],
          [
           "in-app",
           3767.787029600001,
           0.09508003270504167
          ],
          [
           "in-app",
           3207.6987793000003,
           0.06456346688051376
          ],
          [
           "in-app",
           4750.360035900002,
           0.06265464464813153
          ],
          [
           "in-app",
           4444.781536500001,
           0.07620513717457482
          ],
          [
           "in-app",
           4351.921064400002,
           0.17022632477414562
          ],
          [
           "in-app",
           4633.604957300001,
           0.05882636252159724
          ],
          [
           "in-app",
           4197.171749000001,
           0.11302004942090342
          ],
          [
           "in-app",
           4224.485961700002,
           0.12368339675810833
          ],
          [
           "in-app",
           4524.093835000001,
           0.08459554906645742
          ],
          [
           "in-app",
           3668.542990100001,
           0.10050825621916701
          ],
          [
           "in-app",
           4474.3313803,
           0.11211929927871461
          ],
          [
           "in-app",
           4404.936297900002,
           0.12664337163421663
          ],
          [
           "in-app",
           3570.4279914,
           0.10981675265386226
          ],
          [
           "in-app",
           4138.931362899999,
           0.12573508417287896
          ],
          [
           "in-app",
           4397.392009700001,
           0.19805067710108826
          ],
          [
           "in-app",
           4158.709560900001,
           0.10918978874344117
          ],
          [
           "in-app",
           3766.150772900001,
           0.10301664627761346
          ],
          [
           "in-app",
           3521.1765459000007,
           0.10528074732056564
          ],
          [
           "in-app",
           3941.114517700001,
           0.19883933478221552
          ],
          [
           "in-app",
           4076.5258258000017,
           0.11326054297948457
          ],
          [
           "in-app",
           4713.423948700001,
           0.16188986129933353
          ],
          [
           "in-app",
           4704.674218500001,
           0.18670319291099702
          ]
         ],
         "hovertemplate": "<b>%{hovertext}</b><br><br>platform=Android<br>pay_dt=%{x}<br>offer_revenue=%{y:.0f}<br>total_revenue=%{customdata[1]:.0f}<br>revenue_share=%{customdata[2]:.1%}<extra></extra>",
         "hovertext": [
          "in-app",
          "in-app",
          "in-app",
          "in-app",
          "in-app",
          "in-app",
          "in-app",
          "in-app",
          "in-app",
          "in-app",
          "in-app",
          "in-app",
          "in-app",
          "in-app",
          "in-app",
          "in-app",
          "in-app",
          "in-app",
          "in-app",
          "in-app",
          "in-app",
          "in-app",
          "in-app",
          "in-app",
          "in-app",
          "in-app",
          "in-app",
          "in-app",
          "in-app",
          "in-app",
          "in-app",
          "in-app",
          "in-app",
          "in-app",
          "in-app",
          "in-app",
          "in-app",
          "in-app",
          "in-app",
          "in-app",
          "in-app",
          "in-app",
          "in-app",
          "in-app",
          "in-app",
          "in-app",
          "in-app",
          "in-app",
          "in-app",
          "in-app",
          "in-app",
          "in-app",
          "in-app",
          "in-app",
          "in-app",
          "in-app",
          "in-app",
          "in-app",
          "in-app",
          "in-app",
          "in-app",
          "in-app"
         ],
         "legendgroup": "in-app",
         "line": {
          "color": "#1F77B4"
         },
         "marker": {
          "symbol": "circle"
         },
         "mode": "lines",
         "name": "in-app",
         "orientation": "v",
         "showlegend": false,
         "stackgroup": "1",
         "type": "scatter",
         "x": [
          "2024-06-01T00:00:00",
          "2024-06-02T00:00:00",
          "2024-06-03T00:00:00",
          "2024-06-04T00:00:00",
          "2024-06-05T00:00:00",
          "2024-06-06T00:00:00",
          "2024-06-07T00:00:00",
          "2024-06-08T00:00:00",
          "2024-06-09T00:00:00",
          "2024-06-10T00:00:00",
          "2024-06-11T00:00:00",
          "2024-06-12T00:00:00",
          "2024-06-13T00:00:00",
          "2024-06-14T00:00:00",
          "2024-06-15T00:00:00",
          "2024-06-16T00:00:00",
          "2024-06-17T00:00:00",
          "2024-06-18T00:00:00",
          "2024-06-19T00:00:00",
          "2024-06-20T00:00:00",
          "2024-06-21T00:00:00",
          "2024-06-22T00:00:00",
          "2024-06-23T00:00:00",
          "2024-06-24T00:00:00",
          "2024-06-25T00:00:00",
          "2024-06-26T00:00:00",
          "2024-06-27T00:00:00",
          "2024-06-28T00:00:00",
          "2024-06-29T00:00:00",
          "2024-06-30T00:00:00",
          "2024-07-01T00:00:00",
          "2024-07-02T00:00:00",
          "2024-07-03T00:00:00",
          "2024-07-04T00:00:00",
          "2024-07-05T00:00:00",
          "2024-07-06T00:00:00",
          "2024-07-07T00:00:00",
          "2024-07-08T00:00:00",
          "2024-07-09T00:00:00",
          "2024-07-10T00:00:00",
          "2024-07-11T00:00:00",
          "2024-07-12T00:00:00",
          "2024-07-13T00:00:00",
          "2024-07-14T00:00:00",
          "2024-07-15T00:00:00",
          "2024-07-16T00:00:00",
          "2024-07-17T00:00:00",
          "2024-07-18T00:00:00",
          "2024-07-19T00:00:00",
          "2024-07-20T00:00:00",
          "2024-07-21T00:00:00",
          "2024-07-22T00:00:00",
          "2024-07-23T00:00:00",
          "2024-07-24T00:00:00",
          "2024-07-25T00:00:00",
          "2024-07-26T00:00:00",
          "2024-07-27T00:00:00",
          "2024-07-28T00:00:00",
          "2024-07-29T00:00:00",
          "2024-07-30T00:00:00",
          "2024-07-31T00:00:00",
          "2024-08-01T00:00:00"
         ],
         "xaxis": "x2",
         "y": [
          668.0343364,
          389.14186889999996,
          412.1033245,
          372.38936889999997,
          519.4767932000001,
          410.59634880000004,
          573.8227649999999,
          616.2561261000002,
          347.05031440000005,
          284.05974749999996,
          437.3947896999999,
          343.74125730000003,
          646.6846725999999,
          390.33556679999975,
          297.7722229,
          355.4651242999998,
          309.45911499999994,
          994.0993776000004,
          301.183991,
          652.088081,
          604.8075085999999,
          453.56208499999985,
          387.26088189999996,
          1031.3518690000008,
          1233.2000446000002,
          417.1162946999999,
          319.1180423000001,
          339.39894440000006,
          685.8852590000002,
          462.48156579999994,
          947.7745756000003,
          423.98398899999995,
          681.4496664,
          695.4188203999997,
          278.3860318,
          540.2320876999999,
          340.3544589999999,
          461.4710955000001,
          292.1585629999999,
          450.21746640000003,
          358.24131399999993,
          207.10015389999998,
          297.63212,
          338.71518669999995,
          740.8115285000002,
          272.57812499999994,
          474.36455849999976,
          522.4987733000002,
          382.7182020000001,
          368.71885879999996,
          501.6588990999999,
          557.8559846000003,
          392.0928076,
          520.4088833,
          870.9064650000005,
          454.08861840000003,
          387.97622199999995,
          370.71209820000007,
          783.6485890000004,
          461.7095284999999,
          763.0555493000002,
          878.3776981999998
         ],
         "yaxis": "y2"
        },
        {
         "customdata": [
          [
           "starter pack",
           5931.7149785,
           0.1756714032243517
          ],
          [
           "starter pack",
           4691.571438499999,
           0.13218319156582528
          ],
          [
           "starter pack",
           5058.2777566,
           0.2054376369198215
          ],
          [
           "starter pack",
           6091.080800299999,
           0.18618830461814656
          ],
          [
           "starter pack",
           5184.9107055,
           0.09185817699710429
          ],
          [
           "starter pack",
           6707.845672199999,
           0.1978300086419212
          ],
          [
           "starter pack",
           5330.168017000002,
           0.1565780759514846
          ],
          [
           "starter pack",
           4470.0339325,
           0.1255895335420924
          ],
          [
           "starter pack",
           4706.584747,
           0.22231166434789795
          ],
          [
           "starter pack",
           4322.2931997000005,
           0.2202168440507611
          ],
          [
           "starter pack",
           3622.1349448,
           0.20026023716795907
          ],
          [
           "starter pack",
           4123.4881909000005,
           0.14945067233610632
          ],
          [
           "starter pack",
           5200.735075900001,
           0.12610180876912064
          ],
          [
           "starter pack",
           3341.436702000001,
           0.10649513725249066
          ],
          [
           "starter pack",
           5236.254813900002,
           0.1522787699489576
          ],
          [
           "starter pack",
           4907.119055799998,
           0.09059854516358808
          ],
          [
           "starter pack",
           4399.540952600001,
           0.1437862415000719
          ],
          [
           "starter pack",
           5574.295049800001,
           0.08929160662528225
          ],
          [
           "starter pack",
           4377.1941255,
           0.15278400480435808
          ],
          [
           "starter pack",
           5180.329991600001,
           0.11033051039736394
          ],
          [
           "starter pack",
           5288.3225718,
           0.12063347553756726
          ],
          [
           "starter pack",
           4534.9774892000005,
           0.16962053532391327
          ],
          [
           "starter pack",
           4506.390143700003,
           0.20772593134411
          ],
          [
           "starter pack",
           5543.421649400002,
           0.11361816654667983
          ],
          [
           "starter pack",
           6808.006463100001,
           0.12183629755579102
          ],
          [
           "starter pack",
           4583.070183400003,
           0.16202494964829775
          ],
          [
           "starter pack",
           4481.1542855,
           0.1295618879221917
          ],
          [
           "starter pack",
           7702.697868200002,
           0.10133680006099044
          ],
          [
           "starter pack",
           3682.873265800001,
           0.18347286592095682
          ],
          [
           "starter pack",
           5215.3800431,
           0.14068737043827578
          ],
          [
           "starter pack",
           5621.6286162000015,
           0.10996189040638817
          ],
          [
           "starter pack",
           4789.433413800002,
           0.09128507936664605
          ],
          [
           "starter pack",
           5098.683891400001,
           0.10066785294647183
          ],
          [
           "starter pack",
           4754.1374734,
           0.135371728920522
          ],
          [
           "starter pack",
           4299.096015800002,
           0.19344229701863178
          ],
          [
           "starter pack",
           4072.915108500001,
           0.11425493164068971
          ],
          [
           "starter pack",
           4147.724719500002,
           0.11184994513230966
          ],
          [
           "starter pack",
           3863.496913100002,
           0.12055586637605892
          ],
          [
           "starter pack",
           4154.5861975000025,
           0.14206192372543733
          ],
          [
           "starter pack",
           4502.426978700001,
           0.1084339292140977
          ],
          [
           "starter pack",
           3767.787029600001,
           0.1904874763253789
          ],
          [
           "starter pack",
           3207.6987793000003,
           0.0775235068531798
          ],
          [
           "starter pack",
           4750.360035900002,
           0.1846641104822704
          ],
          [
           "starter pack",
           4444.781536500001,
           0.152148498941192
          ],
          [
           "starter pack",
           4351.921064400002,
           0.13859061691946245
          ],
          [
           "starter pack",
           4633.604957300001,
           0.11069825553253142
          ],
          [
           "starter pack",
           4197.171749000001,
           0.12869067245787372
          ],
          [
           "starter pack",
           4224.485961700002,
           0.12812442957727052
          ],
          [
           "starter pack",
           4524.093835000001,
           0.10499654950238223
          ],
          [
           "starter pack",
           3668.542990100001,
           0.13628003088669594
          ],
          [
           "starter pack",
           4474.3313803,
           0.10628982178072668
          ],
          [
           "starter pack",
           4404.936297900002,
           0.21245795437408752
          ],
          [
           "starter pack",
           3570.4279914,
           0.1226117124486086
          ],
          [
           "starter pack",
           4138.931362899999,
           0.09768264673921054
          ],
          [
           "starter pack",
           4397.392009700001,
           0.09318948033199266
          ],
          [
           "starter pack",
           4158.709560900001,
           0.1288028025174418
          ],
          [
           "starter pack",
           3766.150772900001,
           0.12643918226176756
          ],
          [
           "starter pack",
           3521.1765459000007,
           0.10841605574832812
          ],
          [
           "starter pack",
           3941.114517700001,
           0.05485384563911727
          ],
          [
           "starter pack",
           4076.5258258000017,
           0.06460225080220558
          ],
          [
           "starter pack",
           4713.423948700001,
           0.13292532216899416
          ],
          [
           "starter pack",
           4704.674218500001,
           0.14426143005421363
          ]
         ],
         "hovertemplate": "<b>%{hovertext}</b><br><br>platform=iOS<br>pay_dt=%{x}<br>offer_revenue=%{y:.0f}<br>total_revenue=%{customdata[1]:.0f}<br>revenue_share=%{customdata[2]:.1%}<extra></extra>",
         "hovertext": [
          "starter pack",
          "starter pack",
          "starter pack",
          "starter pack",
          "starter pack",
          "starter pack",
          "starter pack",
          "starter pack",
          "starter pack",
          "starter pack",
          "starter pack",
          "starter pack",
          "starter pack",
          "starter pack",
          "starter pack",
          "starter pack",
          "starter pack",
          "starter pack",
          "starter pack",
          "starter pack",
          "starter pack",
          "starter pack",
          "starter pack",
          "starter pack",
          "starter pack",
          "starter pack",
          "starter pack",
          "starter pack",
          "starter pack",
          "starter pack",
          "starter pack",
          "starter pack",
          "starter pack",
          "starter pack",
          "starter pack",
          "starter pack",
          "starter pack",
          "starter pack",
          "starter pack",
          "starter pack",
          "starter pack",
          "starter pack",
          "starter pack",
          "starter pack",
          "starter pack",
          "starter pack",
          "starter pack",
          "starter pack",
          "starter pack",
          "starter pack",
          "starter pack",
          "starter pack",
          "starter pack",
          "starter pack",
          "starter pack",
          "starter pack",
          "starter pack",
          "starter pack",
          "starter pack",
          "starter pack",
          "starter pack",
          "starter pack"
         ],
         "legendgroup": "starter pack",
         "line": {
          "color": "#FF7F0E"
         },
         "marker": {
          "symbol": "circle"
         },
         "mode": "lines",
         "name": "starter pack",
         "orientation": "v",
         "showlegend": true,
         "stackgroup": "1",
         "type": "scatter",
         "x": [
          "2024-06-01T00:00:00",
          "2024-06-02T00:00:00",
          "2024-06-03T00:00:00",
          "2024-06-04T00:00:00",
          "2024-06-05T00:00:00",
          "2024-06-06T00:00:00",
          "2024-06-07T00:00:00",
          "2024-06-08T00:00:00",
          "2024-06-09T00:00:00",
          "2024-06-10T00:00:00",
          "2024-06-11T00:00:00",
          "2024-06-12T00:00:00",
          "2024-06-13T00:00:00",
          "2024-06-14T00:00:00",
          "2024-06-15T00:00:00",
          "2024-06-16T00:00:00",
          "2024-06-17T00:00:00",
          "2024-06-18T00:00:00",
          "2024-06-19T00:00:00",
          "2024-06-20T00:00:00",
          "2024-06-21T00:00:00",
          "2024-06-22T00:00:00",
          "2024-06-23T00:00:00",
          "2024-06-24T00:00:00",
          "2024-06-25T00:00:00",
          "2024-06-26T00:00:00",
          "2024-06-27T00:00:00",
          "2024-06-28T00:00:00",
          "2024-06-29T00:00:00",
          "2024-06-30T00:00:00",
          "2024-07-01T00:00:00",
          "2024-07-02T00:00:00",
          "2024-07-03T00:00:00",
          "2024-07-04T00:00:00",
          "2024-07-05T00:00:00",
          "2024-07-06T00:00:00",
          "2024-07-07T00:00:00",
          "2024-07-08T00:00:00",
          "2024-07-09T00:00:00",
          "2024-07-10T00:00:00",
          "2024-07-11T00:00:00",
          "2024-07-12T00:00:00",
          "2024-07-13T00:00:00",
          "2024-07-14T00:00:00",
          "2024-07-15T00:00:00",
          "2024-07-16T00:00:00",
          "2024-07-17T00:00:00",
          "2024-07-18T00:00:00",
          "2024-07-19T00:00:00",
          "2024-07-20T00:00:00",
          "2024-07-21T00:00:00",
          "2024-07-22T00:00:00",
          "2024-07-23T00:00:00",
          "2024-07-24T00:00:00",
          "2024-07-25T00:00:00",
          "2024-07-26T00:00:00",
          "2024-07-27T00:00:00",
          "2024-07-28T00:00:00",
          "2024-07-29T00:00:00",
          "2024-07-30T00:00:00",
          "2024-07-31T00:00:00",
          "2024-08-01T00:00:00"
         ],
         "xaxis": "x",
         "y": [
          1042.0326938000003,
          620.1468861999999,
          1039.1606292000001,
          1134.0880075000002,
          476.2764452999999,
          1327.0131672999996,
          834.5874526000003,
          561.3894765,
          1046.3286885000002,
          951.8417675000003,
          725.3696031000004,
          616.2580824999998,
          655.8221,
          355.84676019999984,
          797.3704422000001,
          444.5778473999998,
          632.5934579000002,
          497.7377607999998,
          668.7652483,
          571.5484520000002,
          637.9487316000001,
          769.2253094000002,
          936.0940896000009,
          629.8334042,
          829.4623012000002,
          742.5717157000001,
          580.5868093,
          780.5667538000008,
          675.7073128999999,
          733.7381041000004,
          618.1649098000001,
          437.20380929999976,
          513.2735602,
          643.5758093000002,
          831.6270084000004,
          465.35063729999996,
          463.92278229999965,
          465.7672176,
          590.2085075000001,
          488.21584829999966,
          717.7162425999999,
          248.67205830000003,
          877.2210105,
          676.2668389000002,
          603.1354251,
          512.9319855999998,
          540.1368548,
          541.2598540999999,
          475.0142422999998,
          499.949152,
          475.57588499999986,
          935.8637550000005,
          437.7762902,
          404.3017701999998,
          409.7906761999999,
          535.6534462999999,
          476.18902399999996,
          381.7520726999999,
          216.1852874,
          263.3527437999999,
          626.5333969000003,
          678.7030307000001
         ],
         "yaxis": "y"
        },
        {
         "customdata": [
          [
           "starter pack",
           5931.7149785,
           0.06467278338397325
          ],
          [
           "starter pack",
           4691.571438499999,
           0.07658613562855164
          ],
          [
           "starter pack",
           5058.2777566,
           0.07180377497579986
          ],
          [
           "starter pack",
           6091.080800299999,
           0.03249956193164443
          ],
          [
           "starter pack",
           5184.9107055,
           0.08050311037318982
          ],
          [
           "starter pack",
           6707.845672199999,
           0.04821190413492832
          ],
          [
           "starter pack",
           5330.168017000002,
           0.06088940586204413
          ],
          [
           "starter pack",
           4470.0339325,
           0.07477284276745251
          ],
          [
           "starter pack",
           4706.584747,
           0.04670966784144894
          ],
          [
           "starter pack",
           4322.2931997000005,
           0.04464265554992725
          ],
          [
           "starter pack",
           3622.1349448,
           0.04929344983580082
          ],
          [
           "starter pack",
           4123.4881909000005,
           0.06832221996457569
          ],
          [
           "starter pack",
           5200.735075900001,
           0.041728318311319575
          ],
          [
           "starter pack",
           3341.436702000001,
           0.09950464828526921
          ],
          [
           "starter pack",
           5236.254813900002,
           0.08081177542710796
          ],
          [
           "starter pack",
           4907.119055799998,
           0.04060924846819569
          ],
          [
           "starter pack",
           4399.540952600001,
           0.08258036256834726
          ],
          [
           "starter pack",
           5574.295049800001,
           0.05398504263078018
          ],
          [
           "starter pack",
           4377.1941255,
           0.07483470474652132
          ],
          [
           "starter pack",
           5180.329991600001,
           0.06891263834135394
          ],
          [
           "starter pack",
           5288.3225718,
           0.06246840655326307
          ],
          [
           "starter pack",
           4534.9774892000005,
           0.057527655103316096
          ],
          [
           "starter pack",
           4506.390143700003,
           0.08821886969901584
          ],
          [
           "starter pack",
           5543.421649400002,
           0.11564824809409695
          ],
          [
           "starter pack",
           6808.006463100001,
           0.09500950937779665
          ],
          [
           "starter pack",
           4583.070183400003,
           0.08431273079770656
          ],
          [
           "starter pack",
           4481.1542855,
           0.04606221644005924
          ],
          [
           "starter pack",
           7702.697868200002,
           0.06471840907301392
          ],
          [
           "starter pack",
           3682.873265800001,
           0.07797072485947282
          ],
          [
           "starter pack",
           5215.3800431,
           0.0696188871183741
          ],
          [
           "starter pack",
           5621.6286162000015,
           0.0634731941864203
          ],
          [
           "starter pack",
           4789.433413800002,
           0.1214107215322237
          ],
          [
           "starter pack",
           5098.683891400001,
           0.16458991041109117
          ],
          [
           "starter pack",
           4754.1374734,
           0.16137376110651866
          ],
          [
           "starter pack",
           4299.096015800002,
           0.07604476824860217
          ],
          [
           "starter pack",
           4072.915108500001,
           0.07109045297696755
          ],
          [
           "starter pack",
           4147.724719500002,
           0.054391868978034726
          ],
          [
           "starter pack",
           3863.496913100002,
           0.10821798259559737
          ],
          [
           "starter pack",
           4154.5861975000025,
           0.055453119841064484
          ],
          [
           "starter pack",
           4502.426978700001,
           0.05454794862012671
          ],
          [
           "starter pack",
           3767.787029600001,
           0.06216204670274712
          ],
          [
           "starter pack",
           3207.6987793000003,
           0.06637099813544826
          ],
          [
           "starter pack",
           4750.360035900002,
           0.15991666359159973
          ],
          [
           "starter pack",
           4444.781536500001,
           0.0655332150991084
          ],
          [
           "starter pack",
           4351.921064400002,
           0.12609097779572304
          ],
          [
           "starter pack",
           4633.604957300001,
           0.07363409629093891
          ],
          [
           "starter pack",
           4197.171749000001,
           0.08642776931547479
          ],
          [
           "starter pack",
           4224.485961700002,
           0.059180536582820804
          ],
          [
           "starter pack",
           4524.093835000001,
           0.14566720137448252
          ],
          [
           "starter pack",
           3668.542990100001,
           0.10004096574318616
          ],
          [
           "starter pack",
           4474.3313803,
           0.0972161022795847
          ],
          [
           "starter pack",
           4404.936297900002,
           0.05547392270269497
          ],
          [
           "starter pack",
           3570.4279914,
           0.09146002529292183
          ],
          [
           "starter pack",
           4138.931362899999,
           0.0992240431627381
          ],
          [
           "starter pack",
           4397.392009700001,
           0.11554659745576419
          ],
          [
           "starter pack",
           4158.709560900001,
           0.060886091897507384
          ],
          [
           "starter pack",
           3766.150772900001,
           0.06205200234722658
          ],
          [
           "starter pack",
           3521.1765459000007,
           0.09195310365139395
          ],
          [
           "starter pack",
           3941.114517700001,
           0.06266093220354331
          ],
          [
           "starter pack",
           4076.5258258000017,
           0.09183035224032599
          ],
          [
           "starter pack",
           4713.423948700001,
           0.05090602260935551
          ],
          [
           "starter pack",
           4704.674218500001,
           0.0827952059822312
          ]
         ],
         "hovertemplate": "<b>%{hovertext}</b><br><br>platform=Android<br>pay_dt=%{x}<br>offer_revenue=%{y:.0f}<br>total_revenue=%{customdata[1]:.0f}<br>revenue_share=%{customdata[2]:.1%}<extra></extra>",
         "hovertext": [
          "starter pack",
          "starter pack",
          "starter pack",
          "starter pack",
          "starter pack",
          "starter pack",
          "starter pack",
          "starter pack",
          "starter pack",
          "starter pack",
          "starter pack",
          "starter pack",
          "starter pack",
          "starter pack",
          "starter pack",
          "starter pack",
          "starter pack",
          "starter pack",
          "starter pack",
          "starter pack",
          "starter pack",
          "starter pack",
          "starter pack",
          "starter pack",
          "starter pack",
          "starter pack",
          "starter pack",
          "starter pack",
          "starter pack",
          "starter pack",
          "starter pack",
          "starter pack",
          "starter pack",
          "starter pack",
          "starter pack",
          "starter pack",
          "starter pack",
          "starter pack",
          "starter pack",
          "starter pack",
          "starter pack",
          "starter pack",
          "starter pack",
          "starter pack",
          "starter pack",
          "starter pack",
          "starter pack",
          "starter pack",
          "starter pack",
          "starter pack",
          "starter pack",
          "starter pack",
          "starter pack",
          "starter pack",
          "starter pack",
          "starter pack",
          "starter pack",
          "starter pack",
          "starter pack",
          "starter pack",
          "starter pack",
          "starter pack"
         ],
         "legendgroup": "starter pack",
         "line": {
          "color": "#FF7F0E"
         },
         "marker": {
          "symbol": "circle"
         },
         "mode": "lines",
         "name": "starter pack",
         "orientation": "v",
         "showlegend": false,
         "stackgroup": "1",
         "type": "scatter",
         "x": [
          "2024-06-01T00:00:00",
          "2024-06-02T00:00:00",
          "2024-06-03T00:00:00",
          "2024-06-04T00:00:00",
          "2024-06-05T00:00:00",
          "2024-06-06T00:00:00",
          "2024-06-07T00:00:00",
          "2024-06-08T00:00:00",
          "2024-06-09T00:00:00",
          "2024-06-10T00:00:00",
          "2024-06-11T00:00:00",
          "2024-06-12T00:00:00",
          "2024-06-13T00:00:00",
          "2024-06-14T00:00:00",
          "2024-06-15T00:00:00",
          "2024-06-16T00:00:00",
          "2024-06-17T00:00:00",
          "2024-06-18T00:00:00",
          "2024-06-19T00:00:00",
          "2024-06-20T00:00:00",
          "2024-06-21T00:00:00",
          "2024-06-22T00:00:00",
          "2024-06-23T00:00:00",
          "2024-06-24T00:00:00",
          "2024-06-25T00:00:00",
          "2024-06-26T00:00:00",
          "2024-06-27T00:00:00",
          "2024-06-28T00:00:00",
          "2024-06-29T00:00:00",
          "2024-06-30T00:00:00",
          "2024-07-01T00:00:00",
          "2024-07-02T00:00:00",
          "2024-07-03T00:00:00",
          "2024-07-04T00:00:00",
          "2024-07-05T00:00:00",
          "2024-07-06T00:00:00",
          "2024-07-07T00:00:00",
          "2024-07-08T00:00:00",
          "2024-07-09T00:00:00",
          "2024-07-10T00:00:00",
          "2024-07-11T00:00:00",
          "2024-07-12T00:00:00",
          "2024-07-13T00:00:00",
          "2024-07-14T00:00:00",
          "2024-07-15T00:00:00",
          "2024-07-16T00:00:00",
          "2024-07-17T00:00:00",
          "2024-07-18T00:00:00",
          "2024-07-19T00:00:00",
          "2024-07-20T00:00:00",
          "2024-07-21T00:00:00",
          "2024-07-22T00:00:00",
          "2024-07-23T00:00:00",
          "2024-07-24T00:00:00",
          "2024-07-25T00:00:00",
          "2024-07-26T00:00:00",
          "2024-07-27T00:00:00",
          "2024-07-28T00:00:00",
          "2024-07-29T00:00:00",
          "2024-07-30T00:00:00",
          "2024-07-31T00:00:00",
          "2024-08-01T00:00:00"
         ],
         "xaxis": "x2",
         "y": [
          383.62051790000004,
          359.30932650000005,
          363.20343780000013,
          197.95745770000013,
          417.4014388,
          323.39801250000016,
          324.55076370000006,
          334.2371444,
          219.8430102,
          192.95864650000004,
          178.5475272,
          281.7258672000001,
          217.0179287,
          332.4884838,
          423.15104809999997,
          199.27441699999997,
          363.315687,
          300.9285559,
          327.56603000000007,
          356.9902072,
          330.35308440000017,
          260.8866209,
          397.54864489999983,
          641.0870021999996,
          646.8253538999998,
          386.41116260000007,
          206.41189860000003,
          498.50635159999996,
          287.15629809999996,
          363.0889545,
          356.82272479999995,
          581.4885664999996,
          839.1919248999999,
          767.1930448999998,
          326.92376020000006,
          289.54538,
          225.60249949999994,
          418.0998417000002,
          230.38476630000005,
          245.59815550000002,
          234.2133533000001,
          212.89816969999998,
          759.6617278000002,
          291.28082450000005,
          548.7379823,
          341.1913136000001,
          362.7521916999999,
          250.0073459999999,
          659.0120876999999,
          367.00458359999993,
          434.9770571000002,
          244.3590957,
          326.55143440000006,
          410.6815041999999,
          508.1036843999999,
          253.20757250000003,
          233.69719660000007,
          323.7831119000001,
          246.9539096000001,
          374.3488024999999,
          239.9416661,
          389.5244710000002
         ],
         "yaxis": "y2"
        },
        {
         "customdata": [
          [
           "buff",
           5931.7149785,
           0.225697383497436
          ],
          [
           "buff",
           4691.571438499999,
           0.24527899195070524
          ],
          [
           "buff",
           5058.2777566,
           0.23343793850768865
          ],
          [
           "buff",
           6091.080800299999,
           0.3239322650756529
          ],
          [
           "buff",
           5184.9107055,
           0.28977762465730095
          ],
          [
           "buff",
           6707.845672199999,
           0.27035283323762355
          ],
          [
           "buff",
           5330.168017000002,
           0.2232887660584227
          ],
          [
           "buff",
           4470.0339325,
           0.2868085256755487
          ],
          [
           "buff",
           4706.584747,
           0.16047510458223999
          ],
          [
           "buff",
           4322.2931997000005,
           0.1668189852437696
          ],
          [
           "buff",
           3622.1349448,
           0.1795181772378455
          ],
          [
           "buff",
           4123.4881909000005,
           0.24579436799085053
          ],
          [
           "buff",
           5200.735075900001,
           0.23677377809653255
          ],
          [
           "buff",
           3341.436702000001,
           0.2226733549238426
          ],
          [
           "buff",
           5236.254813900002,
           0.2450613564094796
          ],
          [
           "buff",
           4907.119055799998,
           0.18154489397338755
          ],
          [
           "buff",
           4399.540952600001,
           0.20262226159599261
          ],
          [
           "buff",
           5574.295049800001,
           0.22048412639085158
          ],
          [
           "buff",
           4377.1941255,
           0.17795256307281632
          ],
          [
           "buff",
           5180.329991600001,
           0.24829509278090006
          ],
          [
           "buff",
           5288.3225718,
           0.2736325735151708
          ],
          [
           "buff",
           4534.9774892000005,
           0.2483027810351144
          ],
          [
           "buff",
           4506.390143700003,
           0.20811103768081415
          ],
          [
           "buff",
           5543.421649400002,
           0.16786173554030812
          ],
          [
           "buff",
           6808.006463100001,
           0.21209858599965178
          ],
          [
           "buff",
           4583.070183400003,
           0.22855168277674623
          ],
          [
           "buff",
           4481.1542855,
           0.18321635707938852
          ],
          [
           "buff",
           7702.697868200002,
           0.1445652642040104
          ],
          [
           "buff",
           3682.873265800001,
           0.1440510932392236
          ],
          [
           "buff",
           5215.3800431,
           0.23699089335497964
          ],
          [
           "buff",
           5621.6286162000015,
           0.2039031451485018
          ],
          [
           "buff",
           4789.433413800002,
           0.2325547617158105
          ],
          [
           "buff",
           5098.683891400001,
           0.19840113847933394
          ],
          [
           "buff",
           4754.1374734,
           0.16502247318038185
          ],
          [
           "buff",
           4299.096015800002,
           0.2534585899443405
          ],
          [
           "buff",
           4072.915108500001,
           0.1856641480255394
          ],
          [
           "buff",
           4147.724719500002,
           0.1923898575882815
          ],
          [
           "buff",
           3863.496913100002,
           0.26828993290648245
          ],
          [
           "buff",
           4154.5861975000025,
           0.2070761854255645
          ],
          [
           "buff",
           4502.426978700001,
           0.25481045972038263
          ],
          [
           "buff",
           3767.787029600001,
           0.1716245471466177
          ],
          [
           "buff",
           3207.6987793000003,
           0.2775620287807366
          ],
          [
           "buff",
           4750.360035900002,
           0.27443991666896983
          ],
          [
           "buff",
           4444.781536500001,
           0.21943228401457351
          ],
          [
           "buff",
           4351.921064400002,
           0.19501615891946544
          ],
          [
           "buff",
           4633.604957300001,
           0.27045035268397516
          ],
          [
           "buff",
           4197.171749000001,
           0.21924444488583172
          ],
          [
           "buff",
           4224.485961700002,
           0.2319214316919481
          ],
          [
           "buff",
           4524.093835000001,
           0.25970419632111813
          ],
          [
           "buff",
           3668.542990100001,
           0.15413432578708486
          ],
          [
           "buff",
           4474.3313803,
           0.19828324535955927
          ],
          [
           "buff",
           4404.936297900002,
           0.18859871031416667
          ],
          [
           "buff",
           3570.4279914,
           0.20170073042633155
          ],
          [
           "buff",
           4138.931362899999,
           0.18965812125717188
          ],
          [
           "buff",
           4397.392009700001,
           0.1552176100957997
          ],
          [
           "buff",
           4158.709560900001,
           0.2487494736170338
          ],
          [
           "buff",
           3766.150772900001,
           0.20644209931651716
          ],
          [
           "buff",
           3521.1765459000007,
           0.21267484323442037
          ],
          [
           "buff",
           3941.114517700001,
           0.12942047202872625
          ],
          [
           "buff",
           4076.5258258000017,
           0.2384454364174781
          ],
          [
           "buff",
           4713.423948700001,
           0.211656972926264
          ],
          [
           "buff",
           4704.674218500001,
           0.1783724980573807
          ]
         ],
         "hovertemplate": "<b>%{hovertext}</b><br><br>platform=iOS<br>pay_dt=%{x}<br>offer_revenue=%{y:.0f}<br>total_revenue=%{customdata[1]:.0f}<br>revenue_share=%{customdata[2]:.1%}<extra></extra>",
         "hovertext": [
          "buff",
          "buff",
          "buff",
          "buff",
          "buff",
          "buff",
          "buff",
          "buff",
          "buff",
          "buff",
          "buff",
          "buff",
          "buff",
          "buff",
          "buff",
          "buff",
          "buff",
          "buff",
          "buff",
          "buff",
          "buff",
          "buff",
          "buff",
          "buff",
          "buff",
          "buff",
          "buff",
          "buff",
          "buff",
          "buff",
          "buff",
          "buff",
          "buff",
          "buff",
          "buff",
          "buff",
          "buff",
          "buff",
          "buff",
          "buff",
          "buff",
          "buff",
          "buff",
          "buff",
          "buff",
          "buff",
          "buff",
          "buff",
          "buff",
          "buff",
          "buff",
          "buff",
          "buff",
          "buff",
          "buff",
          "buff",
          "buff",
          "buff",
          "buff",
          "buff",
          "buff",
          "buff"
         ],
         "legendgroup": "buff",
         "line": {
          "color": "#2CA02C"
         },
         "marker": {
          "symbol": "circle"
         },
         "mode": "lines",
         "name": "buff",
         "orientation": "v",
         "showlegend": true,
         "stackgroup": "1",
         "type": "scatter",
         "x": [
          "2024-06-01T00:00:00",
          "2024-06-02T00:00:00",
          "2024-06-03T00:00:00",
          "2024-06-04T00:00:00",
          "2024-06-05T00:00:00",
          "2024-06-06T00:00:00",
          "2024-06-07T00:00:00",
          "2024-06-08T00:00:00",
          "2024-06-09T00:00:00",
          "2024-06-10T00:00:00",
          "2024-06-11T00:00:00",
          "2024-06-12T00:00:00",
          "2024-06-13T00:00:00",
          "2024-06-14T00:00:00",
          "2024-06-15T00:00:00",
          "2024-06-16T00:00:00",
          "2024-06-17T00:00:00",
          "2024-06-18T00:00:00",
          "2024-06-19T00:00:00",
          "2024-06-20T00:00:00",
          "2024-06-21T00:00:00",
          "2024-06-22T00:00:00",
          "2024-06-23T00:00:00",
          "2024-06-24T00:00:00",
          "2024-06-25T00:00:00",
          "2024-06-26T00:00:00",
          "2024-06-27T00:00:00",
          "2024-06-28T00:00:00",
          "2024-06-29T00:00:00",
          "2024-06-30T00:00:00",
          "2024-07-01T00:00:00",
          "2024-07-02T00:00:00",
          "2024-07-03T00:00:00",
          "2024-07-04T00:00:00",
          "2024-07-05T00:00:00",
          "2024-07-06T00:00:00",
          "2024-07-07T00:00:00",
          "2024-07-08T00:00:00",
          "2024-07-09T00:00:00",
          "2024-07-10T00:00:00",
          "2024-07-11T00:00:00",
          "2024-07-12T00:00:00",
          "2024-07-13T00:00:00",
          "2024-07-14T00:00:00",
          "2024-07-15T00:00:00",
          "2024-07-16T00:00:00",
          "2024-07-17T00:00:00",
          "2024-07-18T00:00:00",
          "2024-07-19T00:00:00",
          "2024-07-20T00:00:00",
          "2024-07-21T00:00:00",
          "2024-07-22T00:00:00",
          "2024-07-23T00:00:00",
          "2024-07-24T00:00:00",
          "2024-07-25T00:00:00",
          "2024-07-26T00:00:00",
          "2024-07-27T00:00:00",
          "2024-07-28T00:00:00",
          "2024-07-29T00:00:00",
          "2024-07-30T00:00:00",
          "2024-07-31T00:00:00",
          "2024-08-01T00:00:00"
         ],
         "xaxis": "x",
         "y": [
          1338.7725503,
          1150.7439130999999,
          1180.7939319000002,
          1973.0976003999995,
          1502.4711083000004,
          1813.4850824000011,
          1190.1666394000003,
          1282.0438419000004,
          755.2896795000005,
          721.0405655000001,
          650.2390630000001,
          1013.5301738000012,
          1231.3976928000002,
          744.0489207000003,
          1283.2037072000016,
          890.8624087000003,
          891.4449378,
          1229.0435743000016,
          778.9329136999999,
          1286.2505159000016,
          1447.0573149000006,
          1126.0475225000007,
          937.8295290000009,
          930.5283789000017,
          1443.9685443000008,
          1047.4684027000017,
          821.0207637000001,
          1113.542552400001,
          530.5219201999998,
          1235.9975756000013,
          1146.2677557000002,
          1113.8055463000003,
          1011.5846888000009,
          784.5395236999998,
          1089.6428142000007,
          756.1943136000001,
          797.9801681000002,
          1036.5373276000016,
          860.3158618000015,
          1147.2654883000007,
          646.6447427,
          890.3353809000004,
          1303.688412400001,
          975.3285645000005,
          848.6949299,
          1253.1600949000008,
          920.2065902000006,
          979.7488324000007,
          1174.9261535000003,
          565.4484004,
          887.1849469000005,
          830.7653048000002,
          720.1579337999998,
          784.9819462999997,
          682.5526783999999,
          1034.476814200001,
          777.4920718999998,
          748.8656699000005,
          510.0609012,
          972.0289796000017,
          997.6290451000006,
          839.1844929000006
         ],
         "yaxis": "y"
        },
        {
         "customdata": [
          [
           "buff",
           5931.7149785,
           0.20925558233984498
          ],
          [
           "buff",
           4691.571438499999,
           0.12697584905377962
          ],
          [
           "buff",
           5058.2777566,
           0.08974822638153107
          ],
          [
           "buff",
           6091.080800299999,
           0.10685127584712792
          ],
          [
           "buff",
           5184.9107055,
           0.13927559429981776
          ],
          [
           "buff",
           6707.845672199999,
           0.10429802851599354
          ],
          [
           "buff",
           5330.168017000002,
           0.14436782027240916
          ],
          [
           "buff",
           4470.0339325,
           0.1931201450896367
          ],
          [
           "buff",
           4706.584747,
           0.08422345027414416
          ],
          [
           "buff",
           4322.2931997000005,
           0.12268920690914872
          ],
          [
           "buff",
           3622.1349448,
           0.1343896360070256
          ],
          [
           "buff",
           4123.4881909000005,
           0.15390405640072552
          ],
          [
           "buff",
           5200.735075900001,
           0.11762438325973343
          ],
          [
           "buff",
           3341.436702000001,
           0.1467408094866851
          ],
          [
           "buff",
           5236.254813900002,
           0.1370656633429655
          ],
          [
           "buff",
           4907.119055799998,
           0.13663626351341737
          ],
          [
           "buff",
           4399.540952600001,
           0.16147108267742674
          ],
          [
           "buff",
           5574.295049800001,
           0.1438574905052381
          ],
          [
           "buff",
           4377.1941255,
           0.22695953937992625
          ],
          [
           "buff",
           5180.329991600001,
           0.1439551750002843
          ],
          [
           "buff",
           5288.3225718,
           0.09608070298311149
          ],
          [
           "buff",
           4534.9774892000005,
           0.1412387238801907
          ],
          [
           "buff",
           4506.390143700003,
           0.14051632839319345
          ],
          [
           "buff",
           5543.421649400002,
           0.13003187610273503
          ],
          [
           "buff",
           6808.006463100001,
           0.16214099400213577
          ],
          [
           "buff",
           4583.070183400003,
           0.15342112810028305
          ],
          [
           "buff",
           4481.1542855,
           0.19358420249152564
          ],
          [
           "buff",
           7702.697868200002,
           0.06624106640693589
          ],
          [
           "buff",
           3682.873265800001,
           0.12264453512273768
          ],
          [
           "buff",
           5215.3800431,
           0.1306044034127811
          ],
          [
           "buff",
           5621.6286162000015,
           0.1985274262130827
          ],
          [
           "buff",
           4789.433413800002,
           0.23388016471268885
          ],
          [
           "buff",
           5098.683891400001,
           0.14050666433907713
          ],
          [
           "buff",
           4754.1374734,
           0.16772150775222458
          ],
          [
           "buff",
           4299.096015800002,
           0.12930962512977323
          ],
          [
           "buff",
           4072.915108500001,
           0.12854811405406924
          ],
          [
           "buff",
           4147.724719500002,
           0.1666647136320398
          ],
          [
           "buff",
           3863.496913100002,
           0.13979716636207393
          ],
          [
           "buff",
           4154.5861975000025,
           0.16016510387975855
          ],
          [
           "buff",
           4502.426978700001,
           0.18023800897584114
          ],
          [
           "buff",
           3767.787029600001,
           0.1330970320403801
          ],
          [
           "buff",
           3207.6987793000003,
           0.18579820971533312
          ],
          [
           "buff",
           4750.360035900002,
           0.1168225342934158
          ],
          [
           "buff",
           4444.781536500001,
           0.1493767775643747
          ],
          [
           "buff",
           4351.921064400002,
           0.13442221123572995
          ],
          [
           "buff",
           4633.604957300001,
           0.1048354731740134
          ],
          [
           "buff",
           4197.171749000001,
           0.11591603510528617
          ],
          [
           "buff",
           4224.485961700002,
           0.13259833006394517
          ],
          [
           "buff",
           4524.093835000001,
           0.12381282637564907
          ],
          [
           "buff",
           3668.542990100001,
           0.1376621137227653
          ],
          [
           "buff",
           4474.3313803,
           0.10401018133100294
          ],
          [
           "buff",
           4404.936297900002,
           0.13704556796605552
          ],
          [
           "buff",
           3570.4279914,
           0.15426854868007675
          ],
          [
           "buff",
           4138.931362899999,
           0.09885893676992727
          ],
          [
           "buff",
           4397.392009700001,
           0.1408500118556077
          ],
          [
           "buff",
           4158.709560900001,
           0.09830019974069305
          ],
          [
           "buff",
           3766.150772900001,
           0.14034790486972215
          ],
          [
           "buff",
           3521.1765459000007,
           0.17265991474011871
          ],
          [
           "buff",
           3941.114517700001,
           0.10920879679263422
          ],
          [
           "buff",
           4076.5258258000017,
           0.2498998433795227
          ],
          [
           "buff",
           4713.423948700001,
           0.2038967406199617
          ],
          [
           "buff",
           4704.674218500001,
           0.1618375267528632
          ]
         ],
         "hovertemplate": "<b>%{hovertext}</b><br><br>platform=Android<br>pay_dt=%{x}<br>offer_revenue=%{y:.0f}<br>total_revenue=%{customdata[1]:.0f}<br>revenue_share=%{customdata[2]:.1%}<extra></extra>",
         "hovertext": [
          "buff",
          "buff",
          "buff",
          "buff",
          "buff",
          "buff",
          "buff",
          "buff",
          "buff",
          "buff",
          "buff",
          "buff",
          "buff",
          "buff",
          "buff",
          "buff",
          "buff",
          "buff",
          "buff",
          "buff",
          "buff",
          "buff",
          "buff",
          "buff",
          "buff",
          "buff",
          "buff",
          "buff",
          "buff",
          "buff",
          "buff",
          "buff",
          "buff",
          "buff",
          "buff",
          "buff",
          "buff",
          "buff",
          "buff",
          "buff",
          "buff",
          "buff",
          "buff",
          "buff",
          "buff",
          "buff",
          "buff",
          "buff",
          "buff",
          "buff",
          "buff",
          "buff",
          "buff",
          "buff",
          "buff",
          "buff",
          "buff",
          "buff",
          "buff",
          "buff",
          "buff",
          "buff"
         ],
         "legendgroup": "buff",
         "line": {
          "color": "#2CA02C"
         },
         "marker": {
          "symbol": "circle"
         },
         "mode": "lines",
         "name": "buff",
         "orientation": "v",
         "showlegend": false,
         "stackgroup": "1",
         "type": "scatter",
         "x": [
          "2024-06-01T00:00:00",
          "2024-06-02T00:00:00",
          "2024-06-03T00:00:00",
          "2024-06-04T00:00:00",
          "2024-06-05T00:00:00",
          "2024-06-06T00:00:00",
          "2024-06-07T00:00:00",
          "2024-06-08T00:00:00",
          "2024-06-09T00:00:00",
          "2024-06-10T00:00:00",
          "2024-06-11T00:00:00",
          "2024-06-12T00:00:00",
          "2024-06-13T00:00:00",
          "2024-06-14T00:00:00",
          "2024-06-15T00:00:00",
          "2024-06-16T00:00:00",
          "2024-06-17T00:00:00",
          "2024-06-18T00:00:00",
          "2024-06-19T00:00:00",
          "2024-06-20T00:00:00",
          "2024-06-21T00:00:00",
          "2024-06-22T00:00:00",
          "2024-06-23T00:00:00",
          "2024-06-24T00:00:00",
          "2024-06-25T00:00:00",
          "2024-06-26T00:00:00",
          "2024-06-27T00:00:00",
          "2024-06-28T00:00:00",
          "2024-06-29T00:00:00",
          "2024-06-30T00:00:00",
          "2024-07-01T00:00:00",
          "2024-07-02T00:00:00",
          "2024-07-03T00:00:00",
          "2024-07-04T00:00:00",
          "2024-07-05T00:00:00",
          "2024-07-06T00:00:00",
          "2024-07-07T00:00:00",
          "2024-07-08T00:00:00",
          "2024-07-09T00:00:00",
          "2024-07-10T00:00:00",
          "2024-07-11T00:00:00",
          "2024-07-12T00:00:00",
          "2024-07-13T00:00:00",
          "2024-07-14T00:00:00",
          "2024-07-15T00:00:00",
          "2024-07-16T00:00:00",
          "2024-07-17T00:00:00",
          "2024-07-18T00:00:00",
          "2024-07-19T00:00:00",
          "2024-07-20T00:00:00",
          "2024-07-21T00:00:00",
          "2024-07-22T00:00:00",
          "2024-07-23T00:00:00",
          "2024-07-24T00:00:00",
          "2024-07-25T00:00:00",
          "2024-07-26T00:00:00",
          "2024-07-27T00:00:00",
          "2024-07-28T00:00:00",
          "2024-07-29T00:00:00",
          "2024-07-30T00:00:00",
          "2024-07-31T00:00:00",
          "2024-08-01T00:00:00"
         ],
         "xaxis": "x2",
         "y": [
          1241.2444720999986,
          595.7162667999996,
          453.9714572,
          650.8397547999999,
          722.1315199,
          699.6150791999994,
          769.5047382999998,
          863.2536015999995,
          396.40480639999987,
          530.2987246999999,
          486.7773967999998,
          634.6215590999993,
          611.7332558000005,
          490.32512649999956,
          717.7107395,
          670.4904124000004,
          710.3986408999996,
          801.9040971999993,
          993.4459624999992,
          745.7353104999995,
          508.10575030000007,
          640.5144333999995,
          633.2213972999998,
          720.8215171000002,
          1103.856935099999,
          703.1397976999996,
          867.4806785999998,
          510.2349209999998,
          451.6842795999998,
          681.1515991,
          1116.0474603,
          1120.1534757000002,
          716.3990660999995,
          797.3711050999995,
          555.9144941999998,
          523.5655558999999,
          691.2793526000004,
          540.1059207000001,
          665.419729899999,
          811.5084742000001,
          501.4812709999999,
          595.9846904999995,
          554.9490981999999,
          663.9471429000002,
          584.9948525999998,
          485.76616819999975,
          486.5195077999995,
          560.1597838999996,
          560.1408444999994,
          505.0193822999998,
          465.3760181999997,
          603.6769967999996,
          550.8047443999995,
          409.1703538999999,
          619.3727166999997,
          408.80198049999996,
          528.5713703999999,
          607.9660421999998,
          430.4043745000001,
          1018.7231653999999,
          961.0517802999999,
          761.3928396999997
         ],
         "yaxis": "y2"
        },
        {
         "customdata": [
          [
           "battle pass",
           5931.7149785,
           0.01732014491127492
          ],
          [
           "battle pass",
           4691.571438499999,
           0.04136915435354721
          ],
          [
           "battle pass",
           5058.2777566,
           0.02322171609630109
          ],
          [
           "battle pass",
           6091.080800299999,
           0.03764791561929463
          ],
          [
           "battle pass",
           5184.9107055,
           0.02856714057638075
          ],
          [
           "battle pass",
           6707.845672199999,
           0.020520815135994956
          ],
          [
           "battle pass",
           5330.168017000002,
           0.014342446571323527
          ],
          [
           "battle pass",
           4470.0339325,
           0.014124464143539251
          ],
          [
           "battle pass",
           4706.584747,
           0.006978911836430171
          ],
          [
           "battle pass",
           4322.2931997000005,
           0.027496702446805084
          ],
          [
           "battle pass",
           3622.1349448,
           0.018243037878769207
          ],
          [
           "battle pass",
           4123.4881909000005,
           0.026159465725657007
          ],
          [
           "battle pass",
           5200.735075900001,
           0.04143279264474174
          ],
          [
           "battle pass",
           3341.436702000001,
           0.019291537068895217
          ],
          [
           "battle pass",
           5236.254813900002,
           0.03116131544378964
          ],
          [
           "battle pass",
           4907.119055799998,
           0.042992880058746755
          ],
          [
           "battle pass",
           4399.540952600001,
           0.02453134114735731
          ],
          [
           "battle pass",
           5574.295049800001,
           0.032963425214923396
          ],
          [
           "battle pass",
           4377.1941255,
           0.019143407077114337
          ],
          [
           "battle pass",
           5180.329991600001,
           0.01935888971602478
          ],
          [
           "battle pass",
           5288.3225718,
           0.027795378970229552
          ],
          [
           "battle pass",
           4534.9774892000005,
           0.016168564270632103
          ],
          [
           "battle pass",
           4506.390143700003,
           0.013811209419364317
          ],
          [
           "battle pass",
           5543.421649400002,
           0.02792708759882196
          ],
          [
           "battle pass",
           6808.006463100001,
           0.04166099041434382
          ],
          [
           "battle pass",
           4583.070183400003,
           0.01598063897543585
          ],
          [
           "battle pass",
           4481.1542855,
           0.02583186153053511
          ],
          [
           "battle pass",
           7702.697868200002,
           0.0173310195056626
          ],
          [
           "battle pass",
           3682.873265800001,
           0.022961345367291892
          ],
          [
           "battle pass",
           5215.3800431,
           0.01771772032648939
          ],
          [
           "battle pass",
           5621.6286162000015,
           0.024524389534147605
          ],
          [
           "battle pass",
           4789.433413800002,
           0.017416183876710054
          ],
          [
           "battle pass",
           5098.683891400001,
           0.01976114682652632
          ],
          [
           "battle pass",
           4754.1374734,
           0.0215386339946894
          ],
          [
           "battle pass",
           4299.096015800002,
           0.03441684192588717
          ],
          [
           "battle pass",
           4072.915108500001,
           0.04299473947653479
          ],
          [
           "battle pass",
           4147.724719500002,
           0.02271654590697095
          ],
          [
           "battle pass",
           3863.496913100002,
           0.023947887647142316
          ],
          [
           "battle pass",
           4154.5861975000025,
           0.037722324811627614
          ],
          [
           "battle pass",
           4502.426978700001,
           0.009913908701055286
          ],
          [
           "battle pass",
           3767.787029600001,
           0.025002129170236254
          ],
          [
           "battle pass",
           3207.6987793000003,
           0.050239153077574004
          ],
          [
           "battle pass",
           4750.360035900002,
           0.026420511087897253
          ],
          [
           "battle pass",
           4444.781536500001,
           0.028556541633753246
          ],
          [
           "battle pass",
           4351.921064400002,
           0.02433379591056535
          ],
          [
           "battle pass",
           4633.604957300001,
           0.04438283537227428
          ],
          [
           "battle pass",
           4197.171749000001,
           0.03690321560867819
          ],
          [
           "battle pass",
           4224.485961700002,
           0.03012968705635832
          ],
          [
           "battle pass",
           4524.093835000001,
           0.01880323952210863
          ],
          [
           "battle pass",
           3668.542990100001,
           0.05808671496424012
          ],
          [
           "battle pass",
           4474.3313803,
           0.05624322823025391
          ],
          [
           "battle pass",
           4404.936297900002,
           0.02338085661967456
          ],
          [
           "battle pass",
           3570.4279914,
           0.04731275085420841
          ],
          [
           "battle pass",
           4138.931362899999,
           0.038420675062506966
          ],
          [
           "battle pass",
           4397.392009700001,
           0.02875253325632566
          ],
          [
           "battle pass",
           4158.709560900001,
           0.031160336662691992
          ],
          [
           "battle pass",
           3766.150772900001,
           0.06440347442947161
          ],
          [
           "battle pass",
           3521.1765459000007,
           0.04475496952389261
          ],
          [
           "battle pass",
           3941.114517700001,
           0.048346040223970904
          ],
          [
           "battle pass",
           4076.5258258000017,
           0.05202845463597109
          ],
          [
           "battle pass",
           4713.423948700001,
           0.04246647960771836
          ],
          [
           "battle pass",
           4704.674218500001,
           0.026874445312881117
          ]
         ],
         "hovertemplate": "<b>%{hovertext}</b><br><br>platform=iOS<br>pay_dt=%{x}<br>offer_revenue=%{y:.0f}<br>total_revenue=%{customdata[1]:.0f}<br>revenue_share=%{customdata[2]:.1%}<extra></extra>",
         "hovertext": [
          "battle pass",
          "battle pass",
          "battle pass",
          "battle pass",
          "battle pass",
          "battle pass",
          "battle pass",
          "battle pass",
          "battle pass",
          "battle pass",
          "battle pass",
          "battle pass",
          "battle pass",
          "battle pass",
          "battle pass",
          "battle pass",
          "battle pass",
          "battle pass",
          "battle pass",
          "battle pass",
          "battle pass",
          "battle pass",
          "battle pass",
          "battle pass",
          "battle pass",
          "battle pass",
          "battle pass",
          "battle pass",
          "battle pass",
          "battle pass",
          "battle pass",
          "battle pass",
          "battle pass",
          "battle pass",
          "battle pass",
          "battle pass",
          "battle pass",
          "battle pass",
          "battle pass",
          "battle pass",
          "battle pass",
          "battle pass",
          "battle pass",
          "battle pass",
          "battle pass",
          "battle pass",
          "battle pass",
          "battle pass",
          "battle pass",
          "battle pass",
          "battle pass",
          "battle pass",
          "battle pass",
          "battle pass",
          "battle pass",
          "battle pass",
          "battle pass",
          "battle pass",
          "battle pass",
          "battle pass",
          "battle pass",
          "battle pass"
         ],
         "legendgroup": "battle pass",
         "line": {
          "color": "#D62728"
         },
         "marker": {
          "symbol": "circle"
         },
         "mode": "lines",
         "name": "battle pass",
         "orientation": "v",
         "showlegend": true,
         "stackgroup": "1",
         "type": "scatter",
         "x": [
          "2024-06-01T00:00:00",
          "2024-06-02T00:00:00",
          "2024-06-03T00:00:00",
          "2024-06-04T00:00:00",
          "2024-06-05T00:00:00",
          "2024-06-06T00:00:00",
          "2024-06-07T00:00:00",
          "2024-06-08T00:00:00",
          "2024-06-09T00:00:00",
          "2024-06-10T00:00:00",
          "2024-06-11T00:00:00",
          "2024-06-12T00:00:00",
          "2024-06-13T00:00:00",
          "2024-06-14T00:00:00",
          "2024-06-15T00:00:00",
          "2024-06-16T00:00:00",
          "2024-06-17T00:00:00",
          "2024-06-18T00:00:00",
          "2024-06-19T00:00:00",
          "2024-06-20T00:00:00",
          "2024-06-21T00:00:00",
          "2024-06-22T00:00:00",
          "2024-06-23T00:00:00",
          "2024-06-24T00:00:00",
          "2024-06-25T00:00:00",
          "2024-06-26T00:00:00",
          "2024-06-27T00:00:00",
          "2024-06-28T00:00:00",
          "2024-06-29T00:00:00",
          "2024-06-30T00:00:00",
          "2024-07-01T00:00:00",
          "2024-07-02T00:00:00",
          "2024-07-03T00:00:00",
          "2024-07-04T00:00:00",
          "2024-07-05T00:00:00",
          "2024-07-06T00:00:00",
          "2024-07-07T00:00:00",
          "2024-07-08T00:00:00",
          "2024-07-09T00:00:00",
          "2024-07-10T00:00:00",
          "2024-07-11T00:00:00",
          "2024-07-12T00:00:00",
          "2024-07-13T00:00:00",
          "2024-07-14T00:00:00",
          "2024-07-15T00:00:00",
          "2024-07-16T00:00:00",
          "2024-07-17T00:00:00",
          "2024-07-18T00:00:00",
          "2024-07-19T00:00:00",
          "2024-07-20T00:00:00",
          "2024-07-21T00:00:00",
          "2024-07-22T00:00:00",
          "2024-07-23T00:00:00",
          "2024-07-24T00:00:00",
          "2024-07-25T00:00:00",
          "2024-07-26T00:00:00",
          "2024-07-27T00:00:00",
          "2024-07-28T00:00:00",
          "2024-07-29T00:00:00",
          "2024-07-30T00:00:00",
          "2024-07-31T00:00:00",
          "2024-08-01T00:00:00"
         ],
         "xaxis": "x",
         "y": [
          102.73816299999999,
          194.086343,
          117.46188999999998,
          229.31649599999997,
          148.118073,
          137.650461,
          76.44765,
          63.13683400000001,
          32.84684,
          118.84880999999999,
          66.07874500000001,
          107.86824799999998,
          215.48097799999996,
          64.46145,
          163.16858799999997,
          210.97118099999994,
          107.92663999999998,
          183.747858,
          83.794409,
          100.285437,
          146.99093,
          73.32407500000001,
          62.238698,
          154.81162199999997,
          283.62829199999993,
          73.24039,
          115.75655699999999,
          133.49560699999998,
          84.563725,
          92.40464499999999,
          137.86701,
          83.413653,
          100.755841,
          102.397627,
          147.96130799999997,
          175.11392399999997,
          94.221979,
          92.52259000000001,
          156.72064999999998,
          44.63665,
          94.202698,
          161.15206999999998,
          125.50693999999999,
          126.92758899999998,
          105.89875899999998,
          205.65252599999994,
          154.88913399999996,
          127.28243999999998,
          85.06762,
          213.09361099999995,
          251.65084099999993,
          102.991184,
          168.92676999999998,
          159.02053699999996,
          126.43616,
          129.58679,
          242.55319499999996,
          157.59014899999997,
          190.53728099999995,
          212.09533899999997,
          200.16252199999997,
          126.43551
         ],
         "yaxis": "y"
        },
        {
         "customdata": [
          [
           "battle pass",
           5931.7149785,
           0.020222183033874172
          ],
          [
           "battle pass",
           4691.571438499999,
           0.04726470712569969
          ],
          [
           "battle pass",
           5058.2777566,
           0.018248578753817815
          ],
          [
           "battle pass",
           6091.080800299999,
           0.030952530459079485
          ],
          [
           "battle pass",
           5184.9107055,
           0.02238717435902426
          ],
          [
           "battle pass",
           6707.845672199999,
           0.020982460968550967
          ],
          [
           "battle pass",
           5330.168017000002,
           0.013802281047306802
          ],
          [
           "battle pass",
           4470.0339325,
           0.022732024305500056
          ],
          [
           "battle pass",
           4706.584747,
           0.027236350111768216
          ],
          [
           "battle pass",
           4322.2931997000005,
           0.021236089214487074
          ],
          [
           "battle pass",
           3622.1349448,
           0.019603739529897815
          ],
          [
           "battle pass",
           4123.4881909000005,
           0.010790155795326495
          ],
          [
           "battle pass",
           5200.735075900001,
           0.015168365403874848
          ],
          [
           "battle pass",
           3341.436702000001,
           0.02773270250624068
          ],
          [
           "battle pass",
           5236.254813900002,
           0.03151249487744108
          ],
          [
           "battle pass",
           4907.119055799998,
           0.0257171261925754
          ],
          [
           "battle pass",
           4399.540952600001,
           0.011056227575573264
          ],
          [
           "battle pass",
           5574.295049800001,
           0.012085491241160097
          ],
          [
           "battle pass",
           4377.1941255,
           0.03161794428849807
          ],
          [
           "battle pass",
           5180.329991600001,
           0.021744529437826166
          ],
          [
           "battle pass",
           5288.3225718,
           0.030464537254043456
          ],
          [
           "battle pass",
           4534.9774892000005,
           0.009825045461881671
          ],
          [
           "battle pass",
           4506.390143700003,
           0.012034188179604324
          ],
          [
           "battle pass",
           5543.421649400002,
           0.03359392768185986
          ],
          [
           "battle pass",
           6808.006463100001,
           0.022519180002392433
          ],
          [
           "battle pass",
           4583.070183400003,
           0.04007271952002983
          ],
          [
           "battle pass",
           4481.1542855,
           0.019717459022980565
          ],
          [
           "battle pass",
           7702.697868200002,
           0.01901155445867446
          ],
          [
           "battle pass",
           3682.873265800001,
           0.017313876530081707
          ],
          [
           "battle pass",
           5215.3800431,
           0.02276854112618369
          ],
          [
           "battle pass",
           5621.6286162000015,
           0.021692701408374475
          ],
          [
           "battle pass",
           4789.433413800002,
           0.02336554271274666
          ],
          [
           "battle pass",
           5098.683891400001,
           0.02522663215441714
          ],
          [
           "battle pass",
           4754.1374734,
           0.021275135934944796
          ],
          [
           "battle pass",
           4299.096015800002,
           0.02703845170538002
          ],
          [
           "battle pass",
           4072.915108500001,
           0.05414015247698353
          ],
          [
           "battle pass",
           4147.724719500002,
           0.02425539417479173
          ],
          [
           "battle pass",
           3863.496913100002,
           0.009209410748940087
          ],
          [
           "battle pass",
           4154.5861975000025,
           0.06126329745021493
          ],
          [
           "battle pass",
           4502.426978700001,
           0.02825313338823521
          ],
          [
           "battle pass",
           3767.787029600001,
           0.039226044051563706
          ],
          [
           "battle pass",
           3207.6987793000003,
           0.02087777706316129
          ],
          [
           "battle pass",
           4750.360035900002,
           0.014175959188584244
          ],
          [
           "battle pass",
           4444.781536500001,
           0.04731284479857585
          ],
          [
           "battle pass",
           4351.921064400002,
           0.025155869874467374
          ],
          [
           "battle pass",
           4633.604957300001,
           0.06377730918438043
          ],
          [
           "battle pass",
           4197.171749000001,
           0.07462930962370777
          ],
          [
           "battle pass",
           4224.485961700002,
           0.0442271032958561
          ],
          [
           "battle pass",
           4524.093835000001,
           0.028670081508156867
          ],
          [
           "battle pass",
           3668.542990100001,
           0.038281086082126534
          ],
          [
           "battle pass",
           4474.3313803,
           0.027897853196477067
          ],
          [
           "battle pass",
           4404.936297900002,
           0.03829218485643334
          ],
          [
           "battle pass",
           3570.4279914,
           0.05436054906232551
          ],
          [
           "battle pass",
           4138.931362899999,
           0.05132829258882612
          ],
          [
           "battle pass",
           4397.392009700001,
           0.02021959147691858
          ],
          [
           "battle pass",
           4158.709560900001,
           0.008294515280488819
          ],
          [
           "battle pass",
           3766.150772900001,
           0.07581477142513258
          ],
          [
           "battle pass",
           3521.1765459000007,
           0.07039564383348575
          ],
          [
           "battle pass",
           3941.114517700001,
           0.062397316773102486
          ],
          [
           "battle pass",
           4076.5258258000017,
           0.03794037315332049
          ],
          [
           "battle pass",
           4713.423948700001,
           0.029283262338001274
          ],
          [
           "battle pass",
           4704.674218500001,
           0.04296825467852529
          ]
         ],
         "hovertemplate": "<b>%{hovertext}</b><br><br>platform=Android<br>pay_dt=%{x}<br>offer_revenue=%{y:.0f}<br>total_revenue=%{customdata[1]:.0f}<br>revenue_share=%{customdata[2]:.1%}<extra></extra>",
         "hovertext": [
          "battle pass",
          "battle pass",
          "battle pass",
          "battle pass",
          "battle pass",
          "battle pass",
          "battle pass",
          "battle pass",
          "battle pass",
          "battle pass",
          "battle pass",
          "battle pass",
          "battle pass",
          "battle pass",
          "battle pass",
          "battle pass",
          "battle pass",
          "battle pass",
          "battle pass",
          "battle pass",
          "battle pass",
          "battle pass",
          "battle pass",
          "battle pass",
          "battle pass",
          "battle pass",
          "battle pass",
          "battle pass",
          "battle pass",
          "battle pass",
          "battle pass",
          "battle pass",
          "battle pass",
          "battle pass",
          "battle pass",
          "battle pass",
          "battle pass",
          "battle pass",
          "battle pass",
          "battle pass",
          "battle pass",
          "battle pass",
          "battle pass",
          "battle pass",
          "battle pass",
          "battle pass",
          "battle pass",
          "battle pass",
          "battle pass",
          "battle pass",
          "battle pass",
          "battle pass",
          "battle pass",
          "battle pass",
          "battle pass",
          "battle pass",
          "battle pass",
          "battle pass",
          "battle pass",
          "battle pass",
          "battle pass",
          "battle pass"
         ],
         "legendgroup": "battle pass",
         "line": {
          "color": "#D62728"
         },
         "marker": {
          "symbol": "circle"
         },
         "mode": "lines",
         "name": "battle pass",
         "orientation": "v",
         "showlegend": false,
         "stackgroup": "1",
         "type": "scatter",
         "x": [
          "2024-06-01T00:00:00",
          "2024-06-02T00:00:00",
          "2024-06-03T00:00:00",
          "2024-06-04T00:00:00",
          "2024-06-05T00:00:00",
          "2024-06-06T00:00:00",
          "2024-06-07T00:00:00",
          "2024-06-08T00:00:00",
          "2024-06-09T00:00:00",
          "2024-06-10T00:00:00",
          "2024-06-11T00:00:00",
          "2024-06-12T00:00:00",
          "2024-06-13T00:00:00",
          "2024-06-14T00:00:00",
          "2024-06-15T00:00:00",
          "2024-06-16T00:00:00",
          "2024-06-17T00:00:00",
          "2024-06-18T00:00:00",
          "2024-06-19T00:00:00",
          "2024-06-20T00:00:00",
          "2024-06-21T00:00:00",
          "2024-06-22T00:00:00",
          "2024-06-23T00:00:00",
          "2024-06-24T00:00:00",
          "2024-06-25T00:00:00",
          "2024-06-26T00:00:00",
          "2024-06-27T00:00:00",
          "2024-06-28T00:00:00",
          "2024-06-29T00:00:00",
          "2024-06-30T00:00:00",
          "2024-07-01T00:00:00",
          "2024-07-02T00:00:00",
          "2024-07-03T00:00:00",
          "2024-07-04T00:00:00",
          "2024-07-05T00:00:00",
          "2024-07-06T00:00:00",
          "2024-07-07T00:00:00",
          "2024-07-08T00:00:00",
          "2024-07-09T00:00:00",
          "2024-07-10T00:00:00",
          "2024-07-11T00:00:00",
          "2024-07-12T00:00:00",
          "2024-07-13T00:00:00",
          "2024-07-14T00:00:00",
          "2024-07-15T00:00:00",
          "2024-07-16T00:00:00",
          "2024-07-17T00:00:00",
          "2024-07-18T00:00:00",
          "2024-07-19T00:00:00",
          "2024-07-20T00:00:00",
          "2024-07-21T00:00:00",
          "2024-07-22T00:00:00",
          "2024-07-23T00:00:00",
          "2024-07-24T00:00:00",
          "2024-07-25T00:00:00",
          "2024-07-26T00:00:00",
          "2024-07-27T00:00:00",
          "2024-07-28T00:00:00",
          "2024-07-29T00:00:00",
          "2024-07-30T00:00:00",
          "2024-07-31T00:00:00",
          "2024-08-01T00:00:00"
         ],
         "xaxis": "x2",
         "y": [
          119.952226,
          221.74575000000004,
          92.30638,
          188.53436399999998,
          116.0755,
          140.74711,
          73.568477,
          101.61292,
          128.19019000000003,
          91.788604,
          71.00739,
          44.493080000000006,
          78.88665,
          92.66707000000001,
          165.007453,
          126.197,
          48.642326000000004,
          67.368094,
          138.39788000000001,
          112.64383800000002,
          161.1063,
          44.55636,
          54.23074700000001,
          186.225306,
          153.310723,
          183.656086,
          88.356976,
          146.44026,
          63.764813000000004,
          118.746595,
          121.94831100000002,
          111.907711,
          128.62262299999998,
          101.144921,
          116.2409,
          220.508245,
          100.604698,
          35.58053,
          254.52365000000003,
          127.20767,
          147.79538,
          66.96962,
          67.34091000000001,
          210.29525900000004,
          109.47636000000001,
          295.518856,
          313.2320300000001,
          186.83677699999998,
          129.706139,
          140.43581,
          124.82424,
          168.674635,
          194.090426,
          212.44428,
          88.91347,
          34.49448,
          285.52986,
          247.87549,
          245.914971,
          154.66491100000002,
          138.02443,
          202.15164
         ],
         "yaxis": "y2"
        }
       ],
       "layout": {
        "annotations": [
         {
          "showarrow": false,
          "text": "iOS",
          "x": 0.245,
          "xanchor": "center",
          "xref": "paper",
          "y": 1,
          "yanchor": "bottom",
          "yref": "paper"
         },
         {
          "showarrow": false,
          "text": "Android",
          "x": 0.755,
          "xanchor": "center",
          "xref": "paper",
          "y": 1,
          "yanchor": "bottom",
          "yref": "paper"
         },
         {
          "showarrow": false,
          "text": "v 0.7",
          "textangle": -90,
          "x": "2024-06-12",
          "xref": "x",
          "xshift": 6,
          "y": 0,
          "yanchor": "bottom"
         },
         {
          "showarrow": false,
          "text": "v 0.7",
          "textangle": -90,
          "x": "2024-06-12",
          "xref": "x2",
          "xshift": 6,
          "y": 0,
          "yanchor": "bottom"
         },
         {
          "showarrow": false,
          "text": "v 0.8",
          "textangle": -90,
          "x": "2024-06-24",
          "xref": "x",
          "xshift": 6,
          "y": 0,
          "yanchor": "bottom"
         },
         {
          "showarrow": false,
          "text": "v 0.8",
          "textangle": -90,
          "x": "2024-06-24",
          "xref": "x2",
          "xshift": 6,
          "y": 0,
          "yanchor": "bottom"
         },
         {
          "showarrow": false,
          "text": "v 0.9",
          "textangle": -90,
          "x": "2024-07-21",
          "xref": "x",
          "xshift": 6,
          "y": 0,
          "yanchor": "bottom"
         },
         {
          "showarrow": false,
          "text": "v 0.9",
          "textangle": -90,
          "x": "2024-07-21",
          "xref": "x2",
          "xshift": 6,
          "y": 0,
          "yanchor": "bottom"
         }
        ],
        "autosize": true,
        "legend": {
         "title": {
          "text": "offer_type"
         },
         "tracegroupgap": 0
        },
        "margin": {
         "t": 60
        },
        "shapes": [
         {
          "line": {
           "color": "red",
           "width": 2
          },
          "opacity": 0.3,
          "type": "line",
          "x0": "2024-06-12",
          "x1": "2024-06-12",
          "xref": "x",
          "y0": 0,
          "y1": 1,
          "yref": "y domain"
         },
         {
          "line": {
           "color": "red",
           "width": 2
          },
          "opacity": 0.3,
          "type": "line",
          "x0": "2024-06-12",
          "x1": "2024-06-12",
          "xref": "x2",
          "y0": 0,
          "y1": 1,
          "yref": "y2 domain"
         },
         {
          "line": {
           "color": "red",
           "width": 2
          },
          "opacity": 0.3,
          "type": "line",
          "x0": "2024-06-24",
          "x1": "2024-06-24",
          "xref": "x",
          "y0": 0,
          "y1": 1,
          "yref": "y domain"
         },
         {
          "line": {
           "color": "red",
           "width": 2
          },
          "opacity": 0.3,
          "type": "line",
          "x0": "2024-06-24",
          "x1": "2024-06-24",
          "xref": "x2",
          "y0": 0,
          "y1": 1,
          "yref": "y2 domain"
         },
         {
          "line": {
           "color": "red",
           "width": 2
          },
          "opacity": 0.3,
          "type": "line",
          "x0": "2024-07-21",
          "x1": "2024-07-21",
          "xref": "x",
          "y0": 0,
          "y1": 1,
          "yref": "y domain"
         },
         {
          "line": {
           "color": "red",
           "width": 2
          },
          "opacity": 0.3,
          "type": "line",
          "x0": "2024-07-21",
          "x1": "2024-07-21",
          "xref": "x2",
          "y0": 0,
          "y1": 1,
          "yref": "y2 domain"
         }
        ],
        "template": {
         "data": {
          "scatter": [
           {
            "type": "scatter"
           }
          ]
         }
        },
        "title": {
         "text": "My precious project: Revenue structure"
        },
        "xaxis": {
         "anchor": "y",
         "autorange": true,
         "domain": [
          0,
          0.49
         ],
         "range": [
          "2024-06-01",
          "2024-08-01"
         ],
         "title": {
          "text": ""
         },
         "type": "date"
        },
        "xaxis2": {
         "anchor": "y2",
         "autorange": true,
         "domain": [
          0.51,
          1
         ],
         "matches": "x",
         "range": [
          "2024-06-01",
          "2024-08-01"
         ],
         "title": {
          "text": ""
         },
         "type": "date"
        },
        "yaxis": {
         "anchor": "x",
         "autorange": true,
         "domain": [
          0,
          1
         ],
         "range": [
          0,
          6534.860411789475
         ],
         "title": {
          "text": ""
         },
         "type": "linear"
        },
        "yaxis2": {
         "anchor": "x2",
         "autorange": true,
         "domain": [
          0,
          1
         ],
         "matches": "y",
         "range": [
          0,
          6534.860411789475
         ],
         "showticklabels": false,
         "type": "linear"
        }
       }
      },
      "image/png": "[encoded data removed]",
      "text/html": [
       "<div>                            <div id=\"b2167167-f163-42ce-a8f9-e0c4653092e5\" class=\"plotly-graph-div\" style=\"height:500px; width:100%;\"></div>            <script type=\"text/javascript\">                require([\"plotly\"], function(Plotly) {                    window.PLOTLYENV=window.PLOTLYENV || {};                                    if (document.getElementById(\"b2167167-f163-42ce-a8f9-e0c4653092e5\")) {                    Plotly.newPlot(                        \"b2167167-f163-42ce-a8f9-e0c4653092e5\",                        [{\"customdata\":[[\"in-app\",5931.7149785,0.17453974487186338],[\"in-app\",4691.571438499999,0.24739708202569669],[\"in-app\",5058.2777566,0.27663105375623864],[\"in-app\",6091.080800299999,0.2207913168601806],[\"in-app\",5184.9107055,0.24744106501951402],[\"in-app\",6707.845672199999,0.27659259047793444],[\"in-app\",5330.168017000002,0.27907554250742483],[\"in-app\",4470.0339325,0.14498860585551052],[\"in-app\",4706.584747,0.3783276651153434],[\"in-app\",4322.2931997000005,0.3311798315994283],[\"in-app\",3622.1349448,0.2779356499252645],[\"in-app\",4123.4881909000005,0.2622172958773539],[\"in-app\",5200.735075900001,0.296825693958821],[\"in-app\",3341.436702000001,0.26074512304198694],[\"in-app\",5236.254813900002,0.26524121960473473],[\"in-app\",4907.119055799998,0.4094623835598848],[\"in-app\",4399.540952600001,0.30361352750009196],[\"in-app\",5574.295049800001,0.26899647733103016],[\"in-app\",4377.1941255,0.2479002895207556],[\"in-app\",5180.329991600001,0.26152545343574896],[\"in-app\",5288.3225718,0.2745583183110924],[\"in-app\",4534.9774892000005,0.25730250828782875],[\"in-app\",4506.390143700003,0.24364649331016616],[\"in-app\",5543.421649400002,0.22526927031342836],[\"in-app\",6808.006463100001,0.1635947725720661],[\"in-app\",4583.070183400003,0.22462373317536233],[\"in-app\",4481.1542855,0.33081265797894605],[\"in-app\",7702.697868200002,0.5427335395380007],[\"in-app\",3682.873265800001,0.24534910456760478],[\"in-app\",5215.3800431,0.29293570005914615],[\"in-app\",5621.6286162000015,0.20932294702089882],[\"in-app\",4789.433413800002,0.1915626721850724],[\"in-app\",5098.683891400001,0.217194582874195],[\"in-app\",4754.1374734,0.18142021067454997],[\"in-app\",4299.096015800002,0.22153487512252565],[\"in-app\",4072.915108500001,0.27066730723145416],[\"in-app\",4147.724719500002,0.345673562726901],[\"in-app\",3863.496913100002,0.21053786460704915],[\"in-app\",4154.5861975000025,0.2659361044584515],[\"in-app\",4502.426978700001,0.26380821535121285],[\"in-app\",3767.787029600001,0.2833206918580345],[\"in-app\",3207.6987793000003,0.2570648594940531],[\"in-app\",4750.360035900002,0.1609056600391311],[\"in-app\",4444.781536500001,0.26143470077384756],[\"in-app\",4351.921064400002,0.18616404457044064],[\"in-app\",4633.604957300001,0.2733953152402892],[\"in-app\",4197.171749000001,0.22516850358224427],[\"in-app\",4224.485961700002,0.25013508497369263],[\"in-app\",4524.093835000001,0.23375035632964514],[\"in-app\",3668.542990100001,0.275006506594734],[\"in-app\",4474.3313803,0.2979402685436807],[\"in-app\",4404.936297900002,0.21810743153267076],[\"in-app\",3570.4279914,0.21846893058166506],[\"in-app\",4138.931362899999,0.2990922002467403],[\"in-app\",4397.392009700001,0.24817349842650313],[\"in-app\",4158.709560900001,0.3146167915407021],[\"in-app\",3766.150772900001,0.22148391907254888],[\"in-app\",3521.1765459000007,0.1938647219477948],[\"in-app\",3941.114517700001,0.33427326155668996],[\"in-app\",4076.5258258000017,0.15199274639169155],[\"in-app\",4713.423948700001,0.16697533843037152],[\"in-app\",4704.674218500001,0.17618744625090796]],\"hovertemplate\":\"<b>%{hovertext}</b><br><br>platform=iOS<br>pay_dt=%{x}<br>offer_revenue=%{y:.0f}<br>total_revenue=%{customdata[1]:.0f}<br>revenue_share=%{customdata[2]:.1%}<extra></extra>\",\"hovertext\":[\"in-app\",\"in-app\",\"in-app\",\"in-app\",\"in-app\",\"in-app\",\"in-app\",\"in-app\",\"in-app\",\"in-app\",\"in-app\",\"in-app\",\"in-app\",\"in-app\",\"in-app\",\"in-app\",\"in-app\",\"in-app\",\"in-app\",\"in-app\",\"in-app\",\"in-app\",\"in-app\",\"in-app\",\"in-app\",\"in-app\",\"in-app\",\"in-app\",\"in-app\",\"in-app\",\"in-app\",\"in-app\",\"in-app\",\"in-app\",\"in-app\",\"in-app\",\"in-app\",\"in-app\",\"in-app\",\"in-app\",\"in-app\",\"in-app\",\"in-app\",\"in-app\",\"in-app\",\"in-app\",\"in-app\",\"in-app\",\"in-app\",\"in-app\",\"in-app\",\"in-app\",\"in-app\",\"in-app\",\"in-app\",\"in-app\",\"in-app\",\"in-app\",\"in-app\",\"in-app\",\"in-app\",\"in-app\"],\"legendgroup\":\"in-app\",\"line\":{\"color\":\"#1F77B4\"},\"marker\":{\"symbol\":\"circle\"},\"mode\":\"lines\",\"name\":\"in-app\",\"orientation\":\"v\",\"showlegend\":true,\"stackgroup\":\"1\",\"x\":[\"2024-06-01T00:00:00\",\"2024-06-02T00:00:00\",\"2024-06-03T00:00:00\",\"2024-06-04T00:00:00\",\"2024-06-05T00:00:00\",\"2024-06-06T00:00:00\",\"2024-06-07T00:00:00\",\"2024-06-08T00:00:00\",\"2024-06-09T00:00:00\",\"2024-06-10T00:00:00\",\"2024-06-11T00:00:00\",\"2024-06-12T00:00:00\",\"2024-06-13T00:00:00\",\"2024-06-14T00:00:00\",\"2024-06-15T00:00:00\",\"2024-06-16T00:00:00\",\"2024-06-17T00:00:00\",\"2024-06-18T00:00:00\",\"2024-06-19T00:00:00\",\"2024-06-20T00:00:00\",\"2024-06-21T00:00:00\",\"2024-06-22T00:00:00\",\"2024-06-23T00:00:00\",\"2024-06-24T00:00:00\",\"2024-06-25T00:00:00\",\"2024-06-26T00:00:00\",\"2024-06-27T00:00:00\",\"2024-06-28T00:00:00\",\"2024-06-29T00:00:00\",\"2024-06-30T00:00:00\",\"2024-07-01T00:00:00\",\"2024-07-02T00:00:00\",\"2024-07-03T00:00:00\",\"2024-07-04T00:00:00\",\"2024-07-05T00:00:00\",\"2024-07-06T00:00:00\",\"2024-07-07T00:00:00\",\"2024-07-08T00:00:00\",\"2024-07-09T00:00:00\",\"2024-07-10T00:00:00\",\"2024-07-11T00:00:00\",\"2024-07-12T00:00:00\",\"2024-07-13T00:00:00\",\"2024-07-14T00:00:00\",\"2024-07-15T00:00:00\",\"2024-07-16T00:00:00\",\"2024-07-17T00:00:00\",\"2024-07-18T00:00:00\",\"2024-07-19T00:00:00\",\"2024-07-20T00:00:00\",\"2024-07-21T00:00:00\",\"2024-07-22T00:00:00\",\"2024-07-23T00:00:00\",\"2024-07-24T00:00:00\",\"2024-07-25T00:00:00\",\"2024-07-26T00:00:00\",\"2024-07-27T00:00:00\",\"2024-07-28T00:00:00\",\"2024-07-29T00:00:00\",\"2024-07-30T00:00:00\",\"2024-07-31T00:00:00\",\"2024-08-01T00:00:00\"],\"xaxis\":\"x\",\"y\":[1035.3200190000007,1160.681084,1399.2767060000008,1344.8577509999996,1282.959827,1855.3404109999992,1487.5195310000004,648.1039880000003,1780.631217999999,1431.4563340000004,1006.72043,1081.249923,1543.7117979999996,871.2633240000013,1388.8706129999998,2009.2806649999984,1335.7601480000012,1499.4657319999997,1085.1076910000006,1354.78815,1451.9529519999992,1166.861083,1097.9661560000015,1248.76255,1113.7542690000007,1029.466334000001,1482.4225599999997,4180.512478,903.5896580000006,1527.7710039999984,1176.7358690000017,917.476663000002,1107.4065210000006,862.4966220000007,952.399699000001,1102.4049650000013,1433.7587810000016,813.4123900000005,1104.8544690000015,1187.7772260000006,1067.492028000001,824.5866360000002,764.3598170000004,1162.020131,810.1712270000015,1266.8058880000006,945.0708820000012,1056.6921550000015,1057.508546000001,1008.8731920000013,1333.0834929999996,960.7493420000008,780.0275850000004,1237.9220880000003,1091.3161590000007,1308.3998590000003,834.1418330000013,682.6319120000002,1317.4092040000005,619.6023560000007,787.0255590000008,828.9045360000014],\"yaxis\":\"y\",\"type\":\"scatter\"},{\"customdata\":[[\"in-app\",5931.7149785,0.11262077473738145],[\"in-app\",4691.571438499999,0.08294488829619472],[\"in-app\",5058.2777566,0.08147107460880156],[\"in-app\",6091.080800299999,0.06113682958887345],[\"in-app\",5184.9107055,0.10019011371766816],[\"in-app\",6707.845672199999,0.06121135888705309],[\"in-app\",5330.168017000002,0.10765566172958403],[\"in-app\",4470.0339325,0.1378638586207198],[\"in-app\",4706.584747,0.07373718589072716],[\"in-app\",4322.2931997000005,0.06571968498567285],[\"in-app\",3622.1349448,0.12075607241743752],[\"in-app\",4123.4881909000005,0.08336176590940458],[\"in-app\",5200.735075900001,0.12434485955585603],[\"in-app\",3341.436702000001,0.11681668743458952],[\"in-app\",5236.254813900002,0.056867404945523836],[\"in-app\",4907.119055799998,0.07243865907020448],[\"in-app\",4399.540952600001,0.07033895543513888],[\"in-app\",5574.295049800001,0.17833634006073423],[\"in-app\",4377.1941255,0.06880754711000993],[\"in-app\",5180.329991600001,0.12587771089049782],[\"in-app\",5288.3225718,0.11436660687552196],[\"in-app\",4534.9774892000005,0.1000141866371229],[\"in-app\",4506.390143700003,0.08593594197373171],[\"in-app\",5543.421649400002,0.1860496881220699],[\"in-app\",6808.006463100001,0.1811396700758223],[\"in-app\",4583.070183400003,0.09101241700613832],[\"in-app\",4481.1542855,0.07121335753437319],[\"in-app\",7702.697868200002,0.04406234675271149],[\"in-app\",3682.873265800001,0.18623645439263056],[\"in-app\",5215.3800431,0.08867648416377014],[\"in-app\",5621.6286162000015,0.16859430608218626],[\"in-app\",4789.433413800002,0.08852487389810171],[\"in-app\",5098.683891400001,0.13365207196888743],[\"in-app\",4754.1374734,0.1462765484361687],[\"in-app\",4299.096015800002,0.06475455090485953],[\"in-app\",4072.915108500001,0.1326401541177616],[\"in-app\",4147.724719500002,0.08205811186067064],[\"in-app\",3863.496913100002,0.1194438887566559],[\"in-app\",4154.5861975000025,0.07032194040788095],[\"in-app\",4502.426978700001,0.09999439602904846],[\"in-app\",3767.787029600001,0.09508003270504167],[\"in-app\",3207.6987793000003,0.06456346688051376],[\"in-app\",4750.360035900002,0.06265464464813153],[\"in-app\",4444.781536500001,0.07620513717457482],[\"in-app\",4351.921064400002,0.17022632477414562],[\"in-app\",4633.604957300001,0.05882636252159724],[\"in-app\",4197.171749000001,0.11302004942090342],[\"in-app\",4224.485961700002,0.12368339675810833],[\"in-app\",4524.093835000001,0.08459554906645742],[\"in-app\",3668.542990100001,0.10050825621916701],[\"in-app\",4474.3313803,0.11211929927871461],[\"in-app\",4404.936297900002,0.12664337163421663],[\"in-app\",3570.4279914,0.10981675265386226],[\"in-app\",4138.931362899999,0.12573508417287896],[\"in-app\",4397.392009700001,0.19805067710108826],[\"in-app\",4158.709560900001,0.10918978874344117],[\"in-app\",3766.150772900001,0.10301664627761346],[\"in-app\",3521.1765459000007,0.10528074732056564],[\"in-app\",3941.114517700001,0.19883933478221552],[\"in-app\",4076.5258258000017,0.11326054297948457],[\"in-app\",4713.423948700001,0.16188986129933353],[\"in-app\",4704.674218500001,0.18670319291099702]],\"hovertemplate\":\"<b>%{hovertext}</b><br><br>platform=Android<br>pay_dt=%{x}<br>offer_revenue=%{y:.0f}<br>total_revenue=%{customdata[1]:.0f}<br>revenue_share=%{customdata[2]:.1%}<extra></extra>\",\"hovertext\":[\"in-app\",\"in-app\",\"in-app\",\"in-app\",\"in-app\",\"in-app\",\"in-app\",\"in-app\",\"in-app\",\"in-app\",\"in-app\",\"in-app\",\"in-app\",\"in-app\",\"in-app\",\"in-app\",\"in-app\",\"in-app\",\"in-app\",\"in-app\",\"in-app\",\"in-app\",\"in-app\",\"in-app\",\"in-app\",\"in-app\",\"in-app\",\"in-app\",\"in-app\",\"in-app\",\"in-app\",\"in-app\",\"in-app\",\"in-app\",\"in-app\",\"in-app\",\"in-app\",\"in-app\",\"in-app\",\"in-app\",\"in-app\",\"in-app\",\"in-app\",\"in-app\",\"in-app\",\"in-app\",\"in-app\",\"in-app\",\"in-app\",\"in-app\",\"in-app\",\"in-app\",\"in-app\",\"in-app\",\"in-app\",\"in-app\",\"in-app\",\"in-app\",\"in-app\",\"in-app\",\"in-app\",\"in-app\"],\"legendgroup\":\"in-app\",\"line\":{\"color\":\"#1F77B4\"},\"marker\":{\"symbol\":\"circle\"},\"mode\":\"lines\",\"name\":\"in-app\",\"orientation\":\"v\",\"showlegend\":false,\"stackgroup\":\"1\",\"x\":[\"2024-06-01T00:00:00\",\"2024-06-02T00:00:00\",\"2024-06-03T00:00:00\",\"2024-06-04T00:00:00\",\"2024-06-05T00:00:00\",\"2024-06-06T00:00:00\",\"2024-06-07T00:00:00\",\"2024-06-08T00:00:00\",\"2024-06-09T00:00:00\",\"2024-06-10T00:00:00\",\"2024-06-11T00:00:00\",\"2024-06-12T00:00:00\",\"2024-06-13T00:00:00\",\"2024-06-14T00:00:00\",\"2024-06-15T00:00:00\",\"2024-06-16T00:00:00\",\"2024-06-17T00:00:00\",\"2024-06-18T00:00:00\",\"2024-06-19T00:00:00\",\"2024-06-20T00:00:00\",\"2024-06-21T00:00:00\",\"2024-06-22T00:00:00\",\"2024-06-23T00:00:00\",\"2024-06-24T00:00:00\",\"2024-06-25T00:00:00\",\"2024-06-26T00:00:00\",\"2024-06-27T00:00:00\",\"2024-06-28T00:00:00\",\"2024-06-29T00:00:00\",\"2024-06-30T00:00:00\",\"2024-07-01T00:00:00\",\"2024-07-02T00:00:00\",\"2024-07-03T00:00:00\",\"2024-07-04T00:00:00\",\"2024-07-05T00:00:00\",\"2024-07-06T00:00:00\",\"2024-07-07T00:00:00\",\"2024-07-08T00:00:00\",\"2024-07-09T00:00:00\",\"2024-07-10T00:00:00\",\"2024-07-11T00:00:00\",\"2024-07-12T00:00:00\",\"2024-07-13T00:00:00\",\"2024-07-14T00:00:00\",\"2024-07-15T00:00:00\",\"2024-07-16T00:00:00\",\"2024-07-17T00:00:00\",\"2024-07-18T00:00:00\",\"2024-07-19T00:00:00\",\"2024-07-20T00:00:00\",\"2024-07-21T00:00:00\",\"2024-07-22T00:00:00\",\"2024-07-23T00:00:00\",\"2024-07-24T00:00:00\",\"2024-07-25T00:00:00\",\"2024-07-26T00:00:00\",\"2024-07-27T00:00:00\",\"2024-07-28T00:00:00\",\"2024-07-29T00:00:00\",\"2024-07-30T00:00:00\",\"2024-07-31T00:00:00\",\"2024-08-01T00:00:00\"],\"xaxis\":\"x2\",\"y\":[668.0343364,389.14186889999996,412.1033245,372.38936889999997,519.4767932000001,410.59634880000004,573.8227649999999,616.2561261000002,347.05031440000005,284.05974749999996,437.3947896999999,343.74125730000003,646.6846725999999,390.33556679999975,297.7722229,355.4651242999998,309.45911499999994,994.0993776000004,301.183991,652.088081,604.8075085999999,453.56208499999985,387.26088189999996,1031.3518690000008,1233.2000446000002,417.1162946999999,319.1180423000001,339.39894440000006,685.8852590000002,462.48156579999994,947.7745756000003,423.98398899999995,681.4496664,695.4188203999997,278.3860318,540.2320876999999,340.3544589999999,461.4710955000001,292.1585629999999,450.21746640000003,358.24131399999993,207.10015389999998,297.63212,338.71518669999995,740.8115285000002,272.57812499999994,474.36455849999976,522.4987733000002,382.7182020000001,368.71885879999996,501.6588990999999,557.8559846000003,392.0928076,520.4088833,870.9064650000005,454.08861840000003,387.97622199999995,370.71209820000007,783.6485890000004,461.7095284999999,763.0555493000002,878.3776981999998],\"yaxis\":\"y2\",\"type\":\"scatter\"},{\"customdata\":[[\"starter pack\",5931.7149785,0.1756714032243517],[\"starter pack\",4691.571438499999,0.13218319156582528],[\"starter pack\",5058.2777566,0.2054376369198215],[\"starter pack\",6091.080800299999,0.18618830461814656],[\"starter pack\",5184.9107055,0.09185817699710429],[\"starter pack\",6707.845672199999,0.1978300086419212],[\"starter pack\",5330.168017000002,0.1565780759514846],[\"starter pack\",4470.0339325,0.1255895335420924],[\"starter pack\",4706.584747,0.22231166434789795],[\"starter pack\",4322.2931997000005,0.2202168440507611],[\"starter pack\",3622.1349448,0.20026023716795907],[\"starter pack\",4123.4881909000005,0.14945067233610632],[\"starter pack\",5200.735075900001,0.12610180876912064],[\"starter pack\",3341.436702000001,0.10649513725249066],[\"starter pack\",5236.254813900002,0.1522787699489576],[\"starter pack\",4907.119055799998,0.09059854516358808],[\"starter pack\",4399.540952600001,0.1437862415000719],[\"starter pack\",5574.295049800001,0.08929160662528225],[\"starter pack\",4377.1941255,0.15278400480435808],[\"starter pack\",5180.329991600001,0.11033051039736394],[\"starter pack\",5288.3225718,0.12063347553756726],[\"starter pack\",4534.9774892000005,0.16962053532391327],[\"starter pack\",4506.390143700003,0.20772593134411],[\"starter pack\",5543.421649400002,0.11361816654667983],[\"starter pack\",6808.006463100001,0.12183629755579102],[\"starter pack\",4583.070183400003,0.16202494964829775],[\"starter pack\",4481.1542855,0.1295618879221917],[\"starter pack\",7702.697868200002,0.10133680006099044],[\"starter pack\",3682.873265800001,0.18347286592095682],[\"starter pack\",5215.3800431,0.14068737043827578],[\"starter pack\",5621.6286162000015,0.10996189040638817],[\"starter pack\",4789.433413800002,0.09128507936664605],[\"starter pack\",5098.683891400001,0.10066785294647183],[\"starter pack\",4754.1374734,0.135371728920522],[\"starter pack\",4299.096015800002,0.19344229701863178],[\"starter pack\",4072.915108500001,0.11425493164068971],[\"starter pack\",4147.724719500002,0.11184994513230966],[\"starter pack\",3863.496913100002,0.12055586637605892],[\"starter pack\",4154.5861975000025,0.14206192372543733],[\"starter pack\",4502.426978700001,0.1084339292140977],[\"starter pack\",3767.787029600001,0.1904874763253789],[\"starter pack\",3207.6987793000003,0.0775235068531798],[\"starter pack\",4750.360035900002,0.1846641104822704],[\"starter pack\",4444.781536500001,0.152148498941192],[\"starter pack\",4351.921064400002,0.13859061691946245],[\"starter pack\",4633.604957300001,0.11069825553253142],[\"starter pack\",4197.171749000001,0.12869067245787372],[\"starter pack\",4224.485961700002,0.12812442957727052],[\"starter pack\",4524.093835000001,0.10499654950238223],[\"starter pack\",3668.542990100001,0.13628003088669594],[\"starter pack\",4474.3313803,0.10628982178072668],[\"starter pack\",4404.936297900002,0.21245795437408752],[\"starter pack\",3570.4279914,0.1226117124486086],[\"starter pack\",4138.931362899999,0.09768264673921054],[\"starter pack\",4397.392009700001,0.09318948033199266],[\"starter pack\",4158.709560900001,0.1288028025174418],[\"starter pack\",3766.150772900001,0.12643918226176756],[\"starter pack\",3521.1765459000007,0.10841605574832812],[\"starter pack\",3941.114517700001,0.05485384563911727],[\"starter pack\",4076.5258258000017,0.06460225080220558],[\"starter pack\",4713.423948700001,0.13292532216899416],[\"starter pack\",4704.674218500001,0.14426143005421363]],\"hovertemplate\":\"<b>%{hovertext}</b><br><br>platform=iOS<br>pay_dt=%{x}<br>offer_revenue=%{y:.0f}<br>total_revenue=%{customdata[1]:.0f}<br>revenue_share=%{customdata[2]:.1%}<extra></extra>\",\"hovertext\":[\"starter pack\",\"starter pack\",\"starter pack\",\"starter pack\",\"starter pack\",\"starter pack\",\"starter pack\",\"starter pack\",\"starter pack\",\"starter pack\",\"starter pack\",\"starter pack\",\"starter pack\",\"starter pack\",\"starter pack\",\"starter pack\",\"starter pack\",\"starter pack\",\"starter pack\",\"starter pack\",\"starter pack\",\"starter pack\",\"starter pack\",\"starter pack\",\"starter pack\",\"starter pack\",\"starter pack\",\"starter pack\",\"starter pack\",\"starter pack\",\"starter pack\",\"starter pack\",\"starter pack\",\"starter pack\",\"starter pack\",\"starter pack\",\"starter pack\",\"starter pack\",\"starter pack\",\"starter pack\",\"starter pack\",\"starter pack\",\"starter pack\",\"starter pack\",\"starter pack\",\"starter pack\",\"starter pack\",\"starter pack\",\"starter pack\",\"starter pack\",\"starter pack\",\"starter pack\",\"starter pack\",\"starter pack\",\"starter pack\",\"starter pack\",\"starter pack\",\"starter pack\",\"starter pack\",\"starter pack\",\"starter pack\",\"starter pack\"],\"legendgroup\":\"starter pack\",\"line\":{\"color\":\"#FF7F0E\"},\"marker\":{\"symbol\":\"circle\"},\"mode\":\"lines\",\"name\":\"starter pack\",\"orientation\":\"v\",\"showlegend\":true,\"stackgroup\":\"1\",\"x\":[\"2024-06-01T00:00:00\",\"2024-06-02T00:00:00\",\"2024-06-03T00:00:00\",\"2024-06-04T00:00:00\",\"2024-06-05T00:00:00\",\"2024-06-06T00:00:00\",\"2024-06-07T00:00:00\",\"2024-06-08T00:00:00\",\"2024-06-09T00:00:00\",\"2024-06-10T00:00:00\",\"2024-06-11T00:00:00\",\"2024-06-12T00:00:00\",\"2024-06-13T00:00:00\",\"2024-06-14T00:00:00\",\"2024-06-15T00:00:00\",\"2024-06-16T00:00:00\",\"2024-06-17T00:00:00\",\"2024-06-18T00:00:00\",\"2024-06-19T00:00:00\",\"2024-06-20T00:00:00\",\"2024-06-21T00:00:00\",\"2024-06-22T00:00:00\",\"2024-06-23T00:00:00\",\"2024-06-24T00:00:00\",\"2024-06-25T00:00:00\",\"2024-06-26T00:00:00\",\"2024-06-27T00:00:00\",\"2024-06-28T00:00:00\",\"2024-06-29T00:00:00\",\"2024-06-30T00:00:00\",\"2024-07-01T00:00:00\",\"2024-07-02T00:00:00\",\"2024-07-03T00:00:00\",\"2024-07-04T00:00:00\",\"2024-07-05T00:00:00\",\"2024-07-06T00:00:00\",\"2024-07-07T00:00:00\",\"2024-07-08T00:00:00\",\"2024-07-09T00:00:00\",\"2024-07-10T00:00:00\",\"2024-07-11T00:00:00\",\"2024-07-12T00:00:00\",\"2024-07-13T00:00:00\",\"2024-07-14T00:00:00\",\"2024-07-15T00:00:00\",\"2024-07-16T00:00:00\",\"2024-07-17T00:00:00\",\"2024-07-18T00:00:00\",\"2024-07-19T00:00:00\",\"2024-07-20T00:00:00\",\"2024-07-21T00:00:00\",\"2024-07-22T00:00:00\",\"2024-07-23T00:00:00\",\"2024-07-24T00:00:00\",\"2024-07-25T00:00:00\",\"2024-07-26T00:00:00\",\"2024-07-27T00:00:00\",\"2024-07-28T00:00:00\",\"2024-07-29T00:00:00\",\"2024-07-30T00:00:00\",\"2024-07-31T00:00:00\",\"2024-08-01T00:00:00\"],\"xaxis\":\"x\",\"y\":[1042.0326938000003,620.1468861999999,1039.1606292000001,1134.0880075000002,476.2764452999999,1327.0131672999996,834.5874526000003,561.3894765,1046.3286885000002,951.8417675000003,725.3696031000004,616.2580824999998,655.8221,355.84676019999984,797.3704422000001,444.5778473999998,632.5934579000002,497.7377607999998,668.7652483,571.5484520000002,637.9487316000001,769.2253094000002,936.0940896000009,629.8334042,829.4623012000002,742.5717157000001,580.5868093,780.5667538000008,675.7073128999999,733.7381041000004,618.1649098000001,437.20380929999976,513.2735602,643.5758093000002,831.6270084000004,465.35063729999996,463.92278229999965,465.7672176,590.2085075000001,488.21584829999966,717.7162425999999,248.67205830000003,877.2210105,676.2668389000002,603.1354251,512.9319855999998,540.1368548,541.2598540999999,475.0142422999998,499.949152,475.57588499999986,935.8637550000005,437.7762902,404.3017701999998,409.7906761999999,535.6534462999999,476.18902399999996,381.7520726999999,216.1852874,263.3527437999999,626.5333969000003,678.7030307000001],\"yaxis\":\"y\",\"type\":\"scatter\"},{\"customdata\":[[\"starter pack\",5931.7149785,0.06467278338397325],[\"starter pack\",4691.571438499999,0.07658613562855164],[\"starter pack\",5058.2777566,0.07180377497579986],[\"starter pack\",6091.080800299999,0.03249956193164443],[\"starter pack\",5184.9107055,0.08050311037318982],[\"starter pack\",6707.845672199999,0.04821190413492832],[\"starter pack\",5330.168017000002,0.06088940586204413],[\"starter pack\",4470.0339325,0.07477284276745251],[\"starter pack\",4706.584747,0.04670966784144894],[\"starter pack\",4322.2931997000005,0.04464265554992725],[\"starter pack\",3622.1349448,0.04929344983580082],[\"starter pack\",4123.4881909000005,0.06832221996457569],[\"starter pack\",5200.735075900001,0.041728318311319575],[\"starter pack\",3341.436702000001,0.09950464828526921],[\"starter pack\",5236.254813900002,0.08081177542710796],[\"starter pack\",4907.119055799998,0.04060924846819569],[\"starter pack\",4399.540952600001,0.08258036256834726],[\"starter pack\",5574.295049800001,0.05398504263078018],[\"starter pack\",4377.1941255,0.07483470474652132],[\"starter pack\",5180.329991600001,0.06891263834135394],[\"starter pack\",5288.3225718,0.06246840655326307],[\"starter pack\",4534.9774892000005,0.057527655103316096],[\"starter pack\",4506.390143700003,0.08821886969901584],[\"starter pack\",5543.421649400002,0.11564824809409695],[\"starter pack\",6808.006463100001,0.09500950937779665],[\"starter pack\",4583.070183400003,0.08431273079770656],[\"starter pack\",4481.1542855,0.04606221644005924],[\"starter pack\",7702.697868200002,0.06471840907301392],[\"starter pack\",3682.873265800001,0.07797072485947282],[\"starter pack\",5215.3800431,0.0696188871183741],[\"starter pack\",5621.6286162000015,0.0634731941864203],[\"starter pack\",4789.433413800002,0.1214107215322237],[\"starter pack\",5098.683891400001,0.16458991041109117],[\"starter pack\",4754.1374734,0.16137376110651866],[\"starter pack\",4299.096015800002,0.07604476824860217],[\"starter pack\",4072.915108500001,0.07109045297696755],[\"starter pack\",4147.724719500002,0.054391868978034726],[\"starter pack\",3863.496913100002,0.10821798259559737],[\"starter pack\",4154.5861975000025,0.055453119841064484],[\"starter pack\",4502.426978700001,0.05454794862012671],[\"starter pack\",3767.787029600001,0.06216204670274712],[\"starter pack\",3207.6987793000003,0.06637099813544826],[\"starter pack\",4750.360035900002,0.15991666359159973],[\"starter pack\",4444.781536500001,0.0655332150991084],[\"starter pack\",4351.921064400002,0.12609097779572304],[\"starter pack\",4633.604957300001,0.07363409629093891],[\"starter pack\",4197.171749000001,0.08642776931547479],[\"starter pack\",4224.485961700002,0.059180536582820804],[\"starter pack\",4524.093835000001,0.14566720137448252],[\"starter pack\",3668.542990100001,0.10004096574318616],[\"starter pack\",4474.3313803,0.0972161022795847],[\"starter pack\",4404.936297900002,0.05547392270269497],[\"starter pack\",3570.4279914,0.09146002529292183],[\"starter pack\",4138.931362899999,0.0992240431627381],[\"starter pack\",4397.392009700001,0.11554659745576419],[\"starter pack\",4158.709560900001,0.060886091897507384],[\"starter pack\",3766.150772900001,0.06205200234722658],[\"starter pack\",3521.1765459000007,0.09195310365139395],[\"starter pack\",3941.114517700001,0.06266093220354331],[\"starter pack\",4076.5258258000017,0.09183035224032599],[\"starter pack\",4713.423948700001,0.05090602260935551],[\"starter pack\",4704.674218500001,0.0827952059822312]],\"hovertemplate\":\"<b>%{hovertext}</b><br><br>platform=Android<br>pay_dt=%{x}<br>offer_revenue=%{y:.0f}<br>total_revenue=%{customdata[1]:.0f}<br>revenue_share=%{customdata[2]:.1%}<extra></extra>\",\"hovertext\":[\"starter pack\",\"starter pack\",\"starter pack\",\"starter pack\",\"starter pack\",\"starter pack\",\"starter pack\",\"starter pack\",\"starter pack\",\"starter pack\",\"starter pack\",\"starter pack\",\"starter pack\",\"starter pack\",\"starter pack\",\"starter pack\",\"starter pack\",\"starter pack\",\"starter pack\",\"starter pack\",\"starter pack\",\"starter pack\",\"starter pack\",\"starter pack\",\"starter pack\",\"starter pack\",\"starter pack\",\"starter pack\",\"starter pack\",\"starter pack\",\"starter pack\",\"starter pack\",\"starter pack\",\"starter pack\",\"starter pack\",\"starter pack\",\"starter pack\",\"starter pack\",\"starter pack\",\"starter pack\",\"starter pack\",\"starter pack\",\"starter pack\",\"starter pack\",\"starter pack\",\"starter pack\",\"starter pack\",\"starter pack\",\"starter pack\",\"starter pack\",\"starter pack\",\"starter pack\",\"starter pack\",\"starter pack\",\"starter pack\",\"starter pack\",\"starter pack\",\"starter pack\",\"starter pack\",\"starter pack\",\"starter pack\",\"starter pack\"],\"legendgroup\":\"starter pack\",\"line\":{\"color\":\"#FF7F0E\"},\"marker\":{\"symbol\":\"circle\"},\"mode\":\"lines\",\"name\":\"starter pack\",\"orientation\":\"v\",\"showlegend\":false,\"stackgroup\":\"1\",\"x\":[\"2024-06-01T00:00:00\",\"2024-06-02T00:00:00\",\"2024-06-03T00:00:00\",\"2024-06-04T00:00:00\",\"2024-06-05T00:00:00\",\"2024-06-06T00:00:00\",\"2024-06-07T00:00:00\",\"2024-06-08T00:00:00\",\"2024-06-09T00:00:00\",\"2024-06-10T00:00:00\",\"2024-06-11T00:00:00\",\"2024-06-12T00:00:00\",\"2024-06-13T00:00:00\",\"2024-06-14T00:00:00\",\"2024-06-15T00:00:00\",\"2024-06-16T00:00:00\",\"2024-06-17T00:00:00\",\"2024-06-18T00:00:00\",\"2024-06-19T00:00:00\",\"2024-06-20T00:00:00\",\"2024-06-21T00:00:00\",\"2024-06-22T00:00:00\",\"2024-06-23T00:00:00\",\"2024-06-24T00:00:00\",\"2024-06-25T00:00:00\",\"2024-06-26T00:00:00\",\"2024-06-27T00:00:00\",\"2024-06-28T00:00:00\",\"2024-06-29T00:00:00\",\"2024-06-30T00:00:00\",\"2024-07-01T00:00:00\",\"2024-07-02T00:00:00\",\"2024-07-03T00:00:00\",\"2024-07-04T00:00:00\",\"2024-07-05T00:00:00\",\"2024-07-06T00:00:00\",\"2024-07-07T00:00:00\",\"2024-07-08T00:00:00\",\"2024-07-09T00:00:00\",\"2024-07-10T00:00:00\",\"2024-07-11T00:00:00\",\"2024-07-12T00:00:00\",\"2024-07-13T00:00:00\",\"2024-07-14T00:00:00\",\"2024-07-15T00:00:00\",\"2024-07-16T00:00:00\",\"2024-07-17T00:00:00\",\"2024-07-18T00:00:00\",\"2024-07-19T00:00:00\",\"2024-07-20T00:00:00\",\"2024-07-21T00:00:00\",\"2024-07-22T00:00:00\",\"2024-07-23T00:00:00\",\"2024-07-24T00:00:00\",\"2024-07-25T00:00:00\",\"2024-07-26T00:00:00\",\"2024-07-27T00:00:00\",\"2024-07-28T00:00:00\",\"2024-07-29T00:00:00\",\"2024-07-30T00:00:00\",\"2024-07-31T00:00:00\",\"2024-08-01T00:00:00\"],\"xaxis\":\"x2\",\"y\":[383.62051790000004,359.30932650000005,363.20343780000013,197.95745770000013,417.4014388,323.39801250000016,324.55076370000006,334.2371444,219.8430102,192.95864650000004,178.5475272,281.7258672000001,217.0179287,332.4884838,423.15104809999997,199.27441699999997,363.315687,300.9285559,327.56603000000007,356.9902072,330.35308440000017,260.8866209,397.54864489999983,641.0870021999996,646.8253538999998,386.41116260000007,206.41189860000003,498.50635159999996,287.15629809999996,363.0889545,356.82272479999995,581.4885664999996,839.1919248999999,767.1930448999998,326.92376020000006,289.54538,225.60249949999994,418.0998417000002,230.38476630000005,245.59815550000002,234.2133533000001,212.89816969999998,759.6617278000002,291.28082450000005,548.7379823,341.1913136000001,362.7521916999999,250.0073459999999,659.0120876999999,367.00458359999993,434.9770571000002,244.3590957,326.55143440000006,410.6815041999999,508.1036843999999,253.20757250000003,233.69719660000007,323.7831119000001,246.9539096000001,374.3488024999999,239.9416661,389.5244710000002],\"yaxis\":\"y2\",\"type\":\"scatter\"},{\"customdata\":[[\"buff\",5931.7149785,0.225697383497436],[\"buff\",4691.571438499999,0.24527899195070524],[\"buff\",5058.2777566,0.23343793850768865],[\"buff\",6091.080800299999,0.3239322650756529],[\"buff\",5184.9107055,0.28977762465730095],[\"buff\",6707.845672199999,0.27035283323762355],[\"buff\",5330.168017000002,0.2232887660584227],[\"buff\",4470.0339325,0.2868085256755487],[\"buff\",4706.584747,0.16047510458223999],[\"buff\",4322.2931997000005,0.1668189852437696],[\"buff\",3622.1349448,0.1795181772378455],[\"buff\",4123.4881909000005,0.24579436799085053],[\"buff\",5200.735075900001,0.23677377809653255],[\"buff\",3341.436702000001,0.2226733549238426],[\"buff\",5236.254813900002,0.2450613564094796],[\"buff\",4907.119055799998,0.18154489397338755],[\"buff\",4399.540952600001,0.20262226159599261],[\"buff\",5574.295049800001,0.22048412639085158],[\"buff\",4377.1941255,0.17795256307281632],[\"buff\",5180.329991600001,0.24829509278090006],[\"buff\",5288.3225718,0.2736325735151708],[\"buff\",4534.9774892000005,0.2483027810351144],[\"buff\",4506.390143700003,0.20811103768081415],[\"buff\",5543.421649400002,0.16786173554030812],[\"buff\",6808.006463100001,0.21209858599965178],[\"buff\",4583.070183400003,0.22855168277674623],[\"buff\",4481.1542855,0.18321635707938852],[\"buff\",7702.697868200002,0.1445652642040104],[\"buff\",3682.873265800001,0.1440510932392236],[\"buff\",5215.3800431,0.23699089335497964],[\"buff\",5621.6286162000015,0.2039031451485018],[\"buff\",4789.433413800002,0.2325547617158105],[\"buff\",5098.683891400001,0.19840113847933394],[\"buff\",4754.1374734,0.16502247318038185],[\"buff\",4299.096015800002,0.2534585899443405],[\"buff\",4072.915108500001,0.1856641480255394],[\"buff\",4147.724719500002,0.1923898575882815],[\"buff\",3863.496913100002,0.26828993290648245],[\"buff\",4154.5861975000025,0.2070761854255645],[\"buff\",4502.426978700001,0.25481045972038263],[\"buff\",3767.787029600001,0.1716245471466177],[\"buff\",3207.6987793000003,0.2775620287807366],[\"buff\",4750.360035900002,0.27443991666896983],[\"buff\",4444.781536500001,0.21943228401457351],[\"buff\",4351.921064400002,0.19501615891946544],[\"buff\",4633.604957300001,0.27045035268397516],[\"buff\",4197.171749000001,0.21924444488583172],[\"buff\",4224.485961700002,0.2319214316919481],[\"buff\",4524.093835000001,0.25970419632111813],[\"buff\",3668.542990100001,0.15413432578708486],[\"buff\",4474.3313803,0.19828324535955927],[\"buff\",4404.936297900002,0.18859871031416667],[\"buff\",3570.4279914,0.20170073042633155],[\"buff\",4138.931362899999,0.18965812125717188],[\"buff\",4397.392009700001,0.1552176100957997],[\"buff\",4158.709560900001,0.2487494736170338],[\"buff\",3766.150772900001,0.20644209931651716],[\"buff\",3521.1765459000007,0.21267484323442037],[\"buff\",3941.114517700001,0.12942047202872625],[\"buff\",4076.5258258000017,0.2384454364174781],[\"buff\",4713.423948700001,0.211656972926264],[\"buff\",4704.674218500001,0.1783724980573807]],\"hovertemplate\":\"<b>%{hovertext}</b><br><br>platform=iOS<br>pay_dt=%{x}<br>offer_revenue=%{y:.0f}<br>total_revenue=%{customdata[1]:.0f}<br>revenue_share=%{customdata[2]:.1%}<extra></extra>\",\"hovertext\":[\"buff\",\"buff\",\"buff\",\"buff\",\"buff\",\"buff\",\"buff\",\"buff\",\"buff\",\"buff\",\"buff\",\"buff\",\"buff\",\"buff\",\"buff\",\"buff\",\"buff\",\"buff\",\"buff\",\"buff\",\"buff\",\"buff\",\"buff\",\"buff\",\"buff\",\"buff\",\"buff\",\"buff\",\"buff\",\"buff\",\"buff\",\"buff\",\"buff\",\"buff\",\"buff\",\"buff\",\"buff\",\"buff\",\"buff\",\"buff\",\"buff\",\"buff\",\"buff\",\"buff\",\"buff\",\"buff\",\"buff\",\"buff\",\"buff\",\"buff\",\"buff\",\"buff\",\"buff\",\"buff\",\"buff\",\"buff\",\"buff\",\"buff\",\"buff\",\"buff\",\"buff\",\"buff\"],\"legendgroup\":\"buff\",\"line\":{\"color\":\"#2CA02C\"},\"marker\":{\"symbol\":\"circle\"},\"mode\":\"lines\",\"name\":\"buff\",\"orientation\":\"v\",\"showlegend\":true,\"stackgroup\":\"1\",\"x\":[\"2024-06-01T00:00:00\",\"2024-06-02T00:00:00\",\"2024-06-03T00:00:00\",\"2024-06-04T00:00:00\",\"2024-06-05T00:00:00\",\"2024-06-06T00:00:00\",\"2024-06-07T00:00:00\",\"2024-06-08T00:00:00\",\"2024-06-09T00:00:00\",\"2024-06-10T00:00:00\",\"2024-06-11T00:00:00\",\"2024-06-12T00:00:00\",\"2024-06-13T00:00:00\",\"2024-06-14T00:00:00\",\"2024-06-15T00:00:00\",\"2024-06-16T00:00:00\",\"2024-06-17T00:00:00\",\"2024-06-18T00:00:00\",\"2024-06-19T00:00:00\",\"2024-06-20T00:00:00\",\"2024-06-21T00:00:00\",\"2024-06-22T00:00:00\",\"2024-06-23T00:00:00\",\"2024-06-24T00:00:00\",\"2024-06-25T00:00:00\",\"2024-06-26T00:00:00\",\"2024-06-27T00:00:00\",\"2024-06-28T00:00:00\",\"2024-06-29T00:00:00\",\"2024-06-30T00:00:00\",\"2024-07-01T00:00:00\",\"2024-07-02T00:00:00\",\"2024-07-03T00:00:00\",\"2024-07-04T00:00:00\",\"2024-07-05T00:00:00\",\"2024-07-06T00:00:00\",\"2024-07-07T00:00:00\",\"2024-07-08T00:00:00\",\"2024-07-09T00:00:00\",\"2024-07-10T00:00:00\",\"2024-07-11T00:00:00\",\"2024-07-12T00:00:00\",\"2024-07-13T00:00:00\",\"2024-07-14T00:00:00\",\"2024-07-15T00:00:00\",\"2024-07-16T00:00:00\",\"2024-07-17T00:00:00\",\"2024-07-18T00:00:00\",\"2024-07-19T00:00:00\",\"2024-07-20T00:00:00\",\"2024-07-21T00:00:00\",\"2024-07-22T00:00:00\",\"2024-07-23T00:00:00\",\"2024-07-24T00:00:00\",\"2024-07-25T00:00:00\",\"2024-07-26T00:00:00\",\"2024-07-27T00:00:00\",\"2024-07-28T00:00:00\",\"2024-07-29T00:00:00\",\"2024-07-30T00:00:00\",\"2024-07-31T00:00:00\",\"2024-08-01T00:00:00\"],\"xaxis\":\"x\",\"y\":[1338.7725503,1150.7439130999999,1180.7939319000002,1973.0976003999995,1502.4711083000004,1813.4850824000011,1190.1666394000003,1282.0438419000004,755.2896795000005,721.0405655000001,650.2390630000001,1013.5301738000012,1231.3976928000002,744.0489207000003,1283.2037072000016,890.8624087000003,891.4449378,1229.0435743000016,778.9329136999999,1286.2505159000016,1447.0573149000006,1126.0475225000007,937.8295290000009,930.5283789000017,1443.9685443000008,1047.4684027000017,821.0207637000001,1113.542552400001,530.5219201999998,1235.9975756000013,1146.2677557000002,1113.8055463000003,1011.5846888000009,784.5395236999998,1089.6428142000007,756.1943136000001,797.9801681000002,1036.5373276000016,860.3158618000015,1147.2654883000007,646.6447427,890.3353809000004,1303.688412400001,975.3285645000005,848.6949299,1253.1600949000008,920.2065902000006,979.7488324000007,1174.9261535000003,565.4484004,887.1849469000005,830.7653048000002,720.1579337999998,784.9819462999997,682.5526783999999,1034.476814200001,777.4920718999998,748.8656699000005,510.0609012,972.0289796000017,997.6290451000006,839.1844929000006],\"yaxis\":\"y\",\"type\":\"scatter\"},{\"customdata\":[[\"buff\",5931.7149785,0.20925558233984498],[\"buff\",4691.571438499999,0.12697584905377962],[\"buff\",5058.2777566,0.08974822638153107],[\"buff\",6091.080800299999,0.10685127584712792],[\"buff\",5184.9107055,0.13927559429981776],[\"buff\",6707.845672199999,0.10429802851599354],[\"buff\",5330.168017000002,0.14436782027240916],[\"buff\",4470.0339325,0.1931201450896367],[\"buff\",4706.584747,0.08422345027414416],[\"buff\",4322.2931997000005,0.12268920690914872],[\"buff\",3622.1349448,0.1343896360070256],[\"buff\",4123.4881909000005,0.15390405640072552],[\"buff\",5200.735075900001,0.11762438325973343],[\"buff\",3341.436702000001,0.1467408094866851],[\"buff\",5236.254813900002,0.1370656633429655],[\"buff\",4907.119055799998,0.13663626351341737],[\"buff\",4399.540952600001,0.16147108267742674],[\"buff\",5574.295049800001,0.1438574905052381],[\"buff\",4377.1941255,0.22695953937992625],[\"buff\",5180.329991600001,0.1439551750002843],[\"buff\",5288.3225718,0.09608070298311149],[\"buff\",4534.9774892000005,0.1412387238801907],[\"buff\",4506.390143700003,0.14051632839319345],[\"buff\",5543.421649400002,0.13003187610273503],[\"buff\",6808.006463100001,0.16214099400213577],[\"buff\",4583.070183400003,0.15342112810028305],[\"buff\",4481.1542855,0.19358420249152564],[\"buff\",7702.697868200002,0.06624106640693589],[\"buff\",3682.873265800001,0.12264453512273768],[\"buff\",5215.3800431,0.1306044034127811],[\"buff\",5621.6286162000015,0.1985274262130827],[\"buff\",4789.433413800002,0.23388016471268885],[\"buff\",5098.683891400001,0.14050666433907713],[\"buff\",4754.1374734,0.16772150775222458],[\"buff\",4299.096015800002,0.12930962512977323],[\"buff\",4072.915108500001,0.12854811405406924],[\"buff\",4147.724719500002,0.1666647136320398],[\"buff\",3863.496913100002,0.13979716636207393],[\"buff\",4154.5861975000025,0.16016510387975855],[\"buff\",4502.426978700001,0.18023800897584114],[\"buff\",3767.787029600001,0.1330970320403801],[\"buff\",3207.6987793000003,0.18579820971533312],[\"buff\",4750.360035900002,0.1168225342934158],[\"buff\",4444.781536500001,0.1493767775643747],[\"buff\",4351.921064400002,0.13442221123572995],[\"buff\",4633.604957300001,0.1048354731740134],[\"buff\",4197.171749000001,0.11591603510528617],[\"buff\",4224.485961700002,0.13259833006394517],[\"buff\",4524.093835000001,0.12381282637564907],[\"buff\",3668.542990100001,0.1376621137227653],[\"buff\",4474.3313803,0.10401018133100294],[\"buff\",4404.936297900002,0.13704556796605552],[\"buff\",3570.4279914,0.15426854868007675],[\"buff\",4138.931362899999,0.09885893676992727],[\"buff\",4397.392009700001,0.1408500118556077],[\"buff\",4158.709560900001,0.09830019974069305],[\"buff\",3766.150772900001,0.14034790486972215],[\"buff\",3521.1765459000007,0.17265991474011871],[\"buff\",3941.114517700001,0.10920879679263422],[\"buff\",4076.5258258000017,0.2498998433795227],[\"buff\",4713.423948700001,0.2038967406199617],[\"buff\",4704.674218500001,0.1618375267528632]],\"hovertemplate\":\"<b>%{hovertext}</b><br><br>platform=Android<br>pay_dt=%{x}<br>offer_revenue=%{y:.0f}<br>total_revenue=%{customdata[1]:.0f}<br>revenue_share=%{customdata[2]:.1%}<extra></extra>\",\"hovertext\":[\"buff\",\"buff\",\"buff\",\"buff\",\"buff\",\"buff\",\"buff\",\"buff\",\"buff\",\"buff\",\"buff\",\"buff\",\"buff\",\"buff\",\"buff\",\"buff\",\"buff\",\"buff\",\"buff\",\"buff\",\"buff\",\"buff\",\"buff\",\"buff\",\"buff\",\"buff\",\"buff\",\"buff\",\"buff\",\"buff\",\"buff\",\"buff\",\"buff\",\"buff\",\"buff\",\"buff\",\"buff\",\"buff\",\"buff\",\"buff\",\"buff\",\"buff\",\"buff\",\"buff\",\"buff\",\"buff\",\"buff\",\"buff\",\"buff\",\"buff\",\"buff\",\"buff\",\"buff\",\"buff\",\"buff\",\"buff\",\"buff\",\"buff\",\"buff\",\"buff\",\"buff\",\"buff\"],\"legendgroup\":\"buff\",\"line\":{\"color\":\"#2CA02C\"},\"marker\":{\"symbol\":\"circle\"},\"mode\":\"lines\",\"name\":\"buff\",\"orientation\":\"v\",\"showlegend\":false,\"stackgroup\":\"1\",\"x\":[\"2024-06-01T00:00:00\",\"2024-06-02T00:00:00\",\"2024-06-03T00:00:00\",\"2024-06-04T00:00:00\",\"2024-06-05T00:00:00\",\"2024-06-06T00:00:00\",\"2024-06-07T00:00:00\",\"2024-06-08T00:00:00\",\"2024-06-09T00:00:00\",\"2024-06-10T00:00:00\",\"2024-06-11T00:00:00\",\"2024-06-12T00:00:00\",\"2024-06-13T00:00:00\",\"2024-06-14T00:00:00\",\"2024-06-15T00:00:00\",\"2024-06-16T00:00:00\",\"2024-06-17T00:00:00\",\"2024-06-18T00:00:00\",\"2024-06-19T00:00:00\",\"2024-06-20T00:00:00\",\"2024-06-21T00:00:00\",\"2024-06-22T00:00:00\",\"2024-06-23T00:00:00\",\"2024-06-24T00:00:00\",\"2024-06-25T00:00:00\",\"2024-06-26T00:00:00\",\"2024-06-27T00:00:00\",\"2024-06-28T00:00:00\",\"2024-06-29T00:00:00\",\"2024-06-30T00:00:00\",\"2024-07-01T00:00:00\",\"2024-07-02T00:00:00\",\"2024-07-03T00:00:00\",\"2024-07-04T00:00:00\",\"2024-07-05T00:00:00\",\"2024-07-06T00:00:00\",\"2024-07-07T00:00:00\",\"2024-07-08T00:00:00\",\"2024-07-09T00:00:00\",\"2024-07-10T00:00:00\",\"2024-07-11T00:00:00\",\"2024-07-12T00:00:00\",\"2024-07-13T00:00:00\",\"2024-07-14T00:00:00\",\"2024-07-15T00:00:00\",\"2024-07-16T00:00:00\",\"2024-07-17T00:00:00\",\"2024-07-18T00:00:00\",\"2024-07-19T00:00:00\",\"2024-07-20T00:00:00\",\"2024-07-21T00:00:00\",\"2024-07-22T00:00:00\",\"2024-07-23T00:00:00\",\"2024-07-24T00:00:00\",\"2024-07-25T00:00:00\",\"2024-07-26T00:00:00\",\"2024-07-27T00:00:00\",\"2024-07-28T00:00:00\",\"2024-07-29T00:00:00\",\"2024-07-30T00:00:00\",\"2024-07-31T00:00:00\",\"2024-08-01T00:00:00\"],\"xaxis\":\"x2\",\"y\":[1241.2444720999986,595.7162667999996,453.9714572,650.8397547999999,722.1315199,699.6150791999994,769.5047382999998,863.2536015999995,396.40480639999987,530.2987246999999,486.7773967999998,634.6215590999993,611.7332558000005,490.32512649999956,717.7107395,670.4904124000004,710.3986408999996,801.9040971999993,993.4459624999992,745.7353104999995,508.10575030000007,640.5144333999995,633.2213972999998,720.8215171000002,1103.856935099999,703.1397976999996,867.4806785999998,510.2349209999998,451.6842795999998,681.1515991,1116.0474603,1120.1534757000002,716.3990660999995,797.3711050999995,555.9144941999998,523.5655558999999,691.2793526000004,540.1059207000001,665.419729899999,811.5084742000001,501.4812709999999,595.9846904999995,554.9490981999999,663.9471429000002,584.9948525999998,485.76616819999975,486.5195077999995,560.1597838999996,560.1408444999994,505.0193822999998,465.3760181999997,603.6769967999996,550.8047443999995,409.1703538999999,619.3727166999997,408.80198049999996,528.5713703999999,607.9660421999998,430.4043745000001,1018.7231653999999,961.0517802999999,761.3928396999997],\"yaxis\":\"y2\",\"type\":\"scatter\"},{\"customdata\":[[\"battle pass\",5931.7149785,0.01732014491127492],[\"battle pass\",4691.571438499999,0.04136915435354721],[\"battle pass\",5058.2777566,0.02322171609630109],[\"battle pass\",6091.080800299999,0.03764791561929463],[\"battle pass\",5184.9107055,0.02856714057638075],[\"battle pass\",6707.845672199999,0.020520815135994956],[\"battle pass\",5330.168017000002,0.014342446571323527],[\"battle pass\",4470.0339325,0.014124464143539251],[\"battle pass\",4706.584747,0.006978911836430171],[\"battle pass\",4322.2931997000005,0.027496702446805084],[\"battle pass\",3622.1349448,0.018243037878769207],[\"battle pass\",4123.4881909000005,0.026159465725657007],[\"battle pass\",5200.735075900001,0.04143279264474174],[\"battle pass\",3341.436702000001,0.019291537068895217],[\"battle pass\",5236.254813900002,0.03116131544378964],[\"battle pass\",4907.119055799998,0.042992880058746755],[\"battle pass\",4399.540952600001,0.02453134114735731],[\"battle pass\",5574.295049800001,0.032963425214923396],[\"battle pass\",4377.1941255,0.019143407077114337],[\"battle pass\",5180.329991600001,0.01935888971602478],[\"battle pass\",5288.3225718,0.027795378970229552],[\"battle pass\",4534.9774892000005,0.016168564270632103],[\"battle pass\",4506.390143700003,0.013811209419364317],[\"battle pass\",5543.421649400002,0.02792708759882196],[\"battle pass\",6808.006463100001,0.04166099041434382],[\"battle pass\",4583.070183400003,0.01598063897543585],[\"battle pass\",4481.1542855,0.02583186153053511],[\"battle pass\",7702.697868200002,0.0173310195056626],[\"battle pass\",3682.873265800001,0.022961345367291892],[\"battle pass\",5215.3800431,0.01771772032648939],[\"battle pass\",5621.6286162000015,0.024524389534147605],[\"battle pass\",4789.433413800002,0.017416183876710054],[\"battle pass\",5098.683891400001,0.01976114682652632],[\"battle pass\",4754.1374734,0.0215386339946894],[\"battle pass\",4299.096015800002,0.03441684192588717],[\"battle pass\",4072.915108500001,0.04299473947653479],[\"battle pass\",4147.724719500002,0.02271654590697095],[\"battle pass\",3863.496913100002,0.023947887647142316],[\"battle pass\",4154.5861975000025,0.037722324811627614],[\"battle pass\",4502.426978700001,0.009913908701055286],[\"battle pass\",3767.787029600001,0.025002129170236254],[\"battle pass\",3207.6987793000003,0.050239153077574004],[\"battle pass\",4750.360035900002,0.026420511087897253],[\"battle pass\",4444.781536500001,0.028556541633753246],[\"battle pass\",4351.921064400002,0.02433379591056535],[\"battle pass\",4633.604957300001,0.04438283537227428],[\"battle pass\",4197.171749000001,0.03690321560867819],[\"battle pass\",4224.485961700002,0.03012968705635832],[\"battle pass\",4524.093835000001,0.01880323952210863],[\"battle pass\",3668.542990100001,0.05808671496424012],[\"battle pass\",4474.3313803,0.05624322823025391],[\"battle pass\",4404.936297900002,0.02338085661967456],[\"battle pass\",3570.4279914,0.04731275085420841],[\"battle pass\",4138.931362899999,0.038420675062506966],[\"battle pass\",4397.392009700001,0.02875253325632566],[\"battle pass\",4158.709560900001,0.031160336662691992],[\"battle pass\",3766.150772900001,0.06440347442947161],[\"battle pass\",3521.1765459000007,0.04475496952389261],[\"battle pass\",3941.114517700001,0.048346040223970904],[\"battle pass\",4076.5258258000017,0.05202845463597109],[\"battle pass\",4713.423948700001,0.04246647960771836],[\"battle pass\",4704.674218500001,0.026874445312881117]],\"hovertemplate\":\"<b>%{hovertext}</b><br><br>platform=iOS<br>pay_dt=%{x}<br>offer_revenue=%{y:.0f}<br>total_revenue=%{customdata[1]:.0f}<br>revenue_share=%{customdata[2]:.1%}<extra></extra>\",\"hovertext\":[\"battle pass\",\"battle pass\",\"battle pass\",\"battle pass\",\"battle pass\",\"battle pass\",\"battle pass\",\"battle pass\",\"battle pass\",\"battle pass\",\"battle pass\",\"battle pass\",\"battle pass\",\"battle pass\",\"battle pass\",\"battle pass\",\"battle pass\",\"battle pass\",\"battle pass\",\"battle pass\",\"battle pass\",\"battle pass\",\"battle pass\",\"battle pass\",\"battle pass\",\"battle pass\",\"battle pass\",\"battle pass\",\"battle pass\",\"battle pass\",\"battle pass\",\"battle pass\",\"battle pass\",\"battle pass\",\"battle pass\",\"battle pass\",\"battle pass\",\"battle pass\",\"battle pass\",\"battle pass\",\"battle pass\",\"battle pass\",\"battle pass\",\"battle pass\",\"battle pass\",\"battle pass\",\"battle pass\",\"battle pass\",\"battle pass\",\"battle pass\",\"battle pass\",\"battle pass\",\"battle pass\",\"battle pass\",\"battle pass\",\"battle pass\",\"battle pass\",\"battle pass\",\"battle pass\",\"battle pass\",\"battle pass\",\"battle pass\"],\"legendgroup\":\"battle pass\",\"line\":{\"color\":\"#D62728\"},\"marker\":{\"symbol\":\"circle\"},\"mode\":\"lines\",\"name\":\"battle pass\",\"orientation\":\"v\",\"showlegend\":true,\"stackgroup\":\"1\",\"x\":[\"2024-06-01T00:00:00\",\"2024-06-02T00:00:00\",\"2024-06-03T00:00:00\",\"2024-06-04T00:00:00\",\"2024-06-05T00:00:00\",\"2024-06-06T00:00:00\",\"2024-06-07T00:00:00\",\"2024-06-08T00:00:00\",\"2024-06-09T00:00:00\",\"2024-06-10T00:00:00\",\"2024-06-11T00:00:00\",\"2024-06-12T00:00:00\",\"2024-06-13T00:00:00\",\"2024-06-14T00:00:00\",\"2024-06-15T00:00:00\",\"2024-06-16T00:00:00\",\"2024-06-17T00:00:00\",\"2024-06-18T00:00:00\",\"2024-06-19T00:00:00\",\"2024-06-20T00:00:00\",\"2024-06-21T00:00:00\",\"2024-06-22T00:00:00\",\"2024-06-23T00:00:00\",\"2024-06-24T00:00:00\",\"2024-06-25T00:00:00\",\"2024-06-26T00:00:00\",\"2024-06-27T00:00:00\",\"2024-06-28T00:00:00\",\"2024-06-29T00:00:00\",\"2024-06-30T00:00:00\",\"2024-07-01T00:00:00\",\"2024-07-02T00:00:00\",\"2024-07-03T00:00:00\",\"2024-07-04T00:00:00\",\"2024-07-05T00:00:00\",\"2024-07-06T00:00:00\",\"2024-07-07T00:00:00\",\"2024-07-08T00:00:00\",\"2024-07-09T00:00:00\",\"2024-07-10T00:00:00\",\"2024-07-11T00:00:00\",\"2024-07-12T00:00:00\",\"2024-07-13T00:00:00\",\"2024-07-14T00:00:00\",\"2024-07-15T00:00:00\",\"2024-07-16T00:00:00\",\"2024-07-17T00:00:00\",\"2024-07-18T00:00:00\",\"2024-07-19T00:00:00\",\"2024-07-20T00:00:00\",\"2024-07-21T00:00:00\",\"2024-07-22T00:00:00\",\"2024-07-23T00:00:00\",\"2024-07-24T00:00:00\",\"2024-07-25T00:00:00\",\"2024-07-26T00:00:00\",\"2024-07-27T00:00:00\",\"2024-07-28T00:00:00\",\"2024-07-29T00:00:00\",\"2024-07-30T00:00:00\",\"2024-07-31T00:00:00\",\"2024-08-01T00:00:00\"],\"xaxis\":\"x\",\"y\":[102.73816299999999,194.086343,117.46188999999998,229.31649599999997,148.118073,137.650461,76.44765,63.13683400000001,32.84684,118.84880999999999,66.07874500000001,107.86824799999998,215.48097799999996,64.46145,163.16858799999997,210.97118099999994,107.92663999999998,183.747858,83.794409,100.285437,146.99093,73.32407500000001,62.238698,154.81162199999997,283.62829199999993,73.24039,115.75655699999999,133.49560699999998,84.563725,92.40464499999999,137.86701,83.413653,100.755841,102.397627,147.96130799999997,175.11392399999997,94.221979,92.52259000000001,156.72064999999998,44.63665,94.202698,161.15206999999998,125.50693999999999,126.92758899999998,105.89875899999998,205.65252599999994,154.88913399999996,127.28243999999998,85.06762,213.09361099999995,251.65084099999993,102.991184,168.92676999999998,159.02053699999996,126.43616,129.58679,242.55319499999996,157.59014899999997,190.53728099999995,212.09533899999997,200.16252199999997,126.43551],\"yaxis\":\"y\",\"type\":\"scatter\"},{\"customdata\":[[\"battle pass\",5931.7149785,0.020222183033874172],[\"battle pass\",4691.571438499999,0.04726470712569969],[\"battle pass\",5058.2777566,0.018248578753817815],[\"battle pass\",6091.080800299999,0.030952530459079485],[\"battle pass\",5184.9107055,0.02238717435902426],[\"battle pass\",6707.845672199999,0.020982460968550967],[\"battle pass\",5330.168017000002,0.013802281047306802],[\"battle pass\",4470.0339325,0.022732024305500056],[\"battle pass\",4706.584747,0.027236350111768216],[\"battle pass\",4322.2931997000005,0.021236089214487074],[\"battle pass\",3622.1349448,0.019603739529897815],[\"battle pass\",4123.4881909000005,0.010790155795326495],[\"battle pass\",5200.735075900001,0.015168365403874848],[\"battle pass\",3341.436702000001,0.02773270250624068],[\"battle pass\",5236.254813900002,0.03151249487744108],[\"battle pass\",4907.119055799998,0.0257171261925754],[\"battle pass\",4399.540952600001,0.011056227575573264],[\"battle pass\",5574.295049800001,0.012085491241160097],[\"battle pass\",4377.1941255,0.03161794428849807],[\"battle pass\",5180.329991600001,0.021744529437826166],[\"battle pass\",5288.3225718,0.030464537254043456],[\"battle pass\",4534.9774892000005,0.009825045461881671],[\"battle pass\",4506.390143700003,0.012034188179604324],[\"battle pass\",5543.421649400002,0.03359392768185986],[\"battle pass\",6808.006463100001,0.022519180002392433],[\"battle pass\",4583.070183400003,0.04007271952002983],[\"battle pass\",4481.1542855,0.019717459022980565],[\"battle pass\",7702.697868200002,0.01901155445867446],[\"battle pass\",3682.873265800001,0.017313876530081707],[\"battle pass\",5215.3800431,0.02276854112618369],[\"battle pass\",5621.6286162000015,0.021692701408374475],[\"battle pass\",4789.433413800002,0.02336554271274666],[\"battle pass\",5098.683891400001,0.02522663215441714],[\"battle pass\",4754.1374734,0.021275135934944796],[\"battle pass\",4299.096015800002,0.02703845170538002],[\"battle pass\",4072.915108500001,0.05414015247698353],[\"battle pass\",4147.724719500002,0.02425539417479173],[\"battle pass\",3863.496913100002,0.009209410748940087],[\"battle pass\",4154.5861975000025,0.06126329745021493],[\"battle pass\",4502.426978700001,0.02825313338823521],[\"battle pass\",3767.787029600001,0.039226044051563706],[\"battle pass\",3207.6987793000003,0.02087777706316129],[\"battle pass\",4750.360035900002,0.014175959188584244],[\"battle pass\",4444.781536500001,0.04731284479857585],[\"battle pass\",4351.921064400002,0.025155869874467374],[\"battle pass\",4633.604957300001,0.06377730918438043],[\"battle pass\",4197.171749000001,0.07462930962370777],[\"battle pass\",4224.485961700002,0.0442271032958561],[\"battle pass\",4524.093835000001,0.028670081508156867],[\"battle pass\",3668.542990100001,0.038281086082126534],[\"battle pass\",4474.3313803,0.027897853196477067],[\"battle pass\",4404.936297900002,0.03829218485643334],[\"battle pass\",3570.4279914,0.05436054906232551],[\"battle pass\",4138.931362899999,0.05132829258882612],[\"battle pass\",4397.392009700001,0.02021959147691858],[\"battle pass\",4158.709560900001,0.008294515280488819],[\"battle pass\",3766.150772900001,0.07581477142513258],[\"battle pass\",3521.1765459000007,0.07039564383348575],[\"battle pass\",3941.114517700001,0.062397316773102486],[\"battle pass\",4076.5258258000017,0.03794037315332049],[\"battle pass\",4713.423948700001,0.029283262338001274],[\"battle pass\",4704.674218500001,0.04296825467852529]],\"hovertemplate\":\"<b>%{hovertext}</b><br><br>platform=Android<br>pay_dt=%{x}<br>offer_revenue=%{y:.0f}<br>total_revenue=%{customdata[1]:.0f}<br>revenue_share=%{customdata[2]:.1%}<extra></extra>\",\"hovertext\":[\"battle pass\",\"battle pass\",\"battle pass\",\"battle pass\",\"battle pass\",\"battle pass\",\"battle pass\",\"battle pass\",\"battle pass\",\"battle pass\",\"battle pass\",\"battle pass\",\"battle pass\",\"battle pass\",\"battle pass\",\"battle pass\",\"battle pass\",\"battle pass\",\"battle pass\",\"battle pass\",\"battle pass\",\"battle pass\",\"battle pass\",\"battle pass\",\"battle pass\",\"battle pass\",\"battle pass\",\"battle pass\",\"battle pass\",\"battle pass\",\"battle pass\",\"battle pass\",\"battle pass\",\"battle pass\",\"battle pass\",\"battle pass\",\"battle pass\",\"battle pass\",\"battle pass\",\"battle pass\",\"battle pass\",\"battle pass\",\"battle pass\",\"battle pass\",\"battle pass\",\"battle pass\",\"battle pass\",\"battle pass\",\"battle pass\",\"battle pass\",\"battle pass\",\"battle pass\",\"battle pass\",\"battle pass\",\"battle pass\",\"battle pass\",\"battle pass\",\"battle pass\",\"battle pass\",\"battle pass\",\"battle pass\",\"battle pass\"],\"legendgroup\":\"battle pass\",\"line\":{\"color\":\"#D62728\"},\"marker\":{\"symbol\":\"circle\"},\"mode\":\"lines\",\"name\":\"battle pass\",\"orientation\":\"v\",\"showlegend\":false,\"stackgroup\":\"1\",\"x\":[\"2024-06-01T00:00:00\",\"2024-06-02T00:00:00\",\"2024-06-03T00:00:00\",\"2024-06-04T00:00:00\",\"2024-06-05T00:00:00\",\"2024-06-06T00:00:00\",\"2024-06-07T00:00:00\",\"2024-06-08T00:00:00\",\"2024-06-09T00:00:00\",\"2024-06-10T00:00:00\",\"2024-06-11T00:00:00\",\"2024-06-12T00:00:00\",\"2024-06-13T00:00:00\",\"2024-06-14T00:00:00\",\"2024-06-15T00:00:00\",\"2024-06-16T00:00:00\",\"2024-06-17T00:00:00\",\"2024-06-18T00:00:00\",\"2024-06-19T00:00:00\",\"2024-06-20T00:00:00\",\"2024-06-21T00:00:00\",\"2024-06-22T00:00:00\",\"2024-06-23T00:00:00\",\"2024-06-24T00:00:00\",\"2024-06-25T00:00:00\",\"2024-06-26T00:00:00\",\"2024-06-27T00:00:00\",\"2024-06-28T00:00:00\",\"2024-06-29T00:00:00\",\"2024-06-30T00:00:00\",\"2024-07-01T00:00:00\",\"2024-07-02T00:00:00\",\"2024-07-03T00:00:00\",\"2024-07-04T00:00:00\",\"2024-07-05T00:00:00\",\"2024-07-06T00:00:00\",\"2024-07-07T00:00:00\",\"2024-07-08T00:00:00\",\"2024-07-09T00:00:00\",\"2024-07-10T00:00:00\",\"2024-07-11T00:00:00\",\"2024-07-12T00:00:00\",\"2024-07-13T00:00:00\",\"2024-07-14T00:00:00\",\"2024-07-15T00:00:00\",\"2024-07-16T00:00:00\",\"2024-07-17T00:00:00\",\"2024-07-18T00:00:00\",\"2024-07-19T00:00:00\",\"2024-07-20T00:00:00\",\"2024-07-21T00:00:00\",\"2024-07-22T00:00:00\",\"2024-07-23T00:00:00\",\"2024-07-24T00:00:00\",\"2024-07-25T00:00:00\",\"2024-07-26T00:00:00\",\"2024-07-27T00:00:00\",\"2024-07-28T00:00:00\",\"2024-07-29T00:00:00\",\"2024-07-30T00:00:00\",\"2024-07-31T00:00:00\",\"2024-08-01T00:00:00\"],\"xaxis\":\"x2\",\"y\":[119.952226,221.74575000000004,92.30638,188.53436399999998,116.0755,140.74711,73.568477,101.61292,128.19019000000003,91.788604,71.00739,44.493080000000006,78.88665,92.66707000000001,165.007453,126.197,48.642326000000004,67.368094,138.39788000000001,112.64383800000002,161.1063,44.55636,54.23074700000001,186.225306,153.310723,183.656086,88.356976,146.44026,63.764813000000004,118.746595,121.94831100000002,111.907711,128.62262299999998,101.144921,116.2409,220.508245,100.604698,35.58053,254.52365000000003,127.20767,147.79538,66.96962,67.34091000000001,210.29525900000004,109.47636000000001,295.518856,313.2320300000001,186.83677699999998,129.706139,140.43581,124.82424,168.674635,194.090426,212.44428,88.91347,34.49448,285.52986,247.87549,245.914971,154.66491100000002,138.02443,202.15164],\"yaxis\":\"y2\",\"type\":\"scatter\"}],                        {\"template\":{\"data\":{\"scatter\":[{\"type\":\"scatter\"}]}},\"xaxis\":{\"anchor\":\"y\",\"domain\":[0.0,0.49],\"title\":{\"text\":\"\"}},\"yaxis\":{\"anchor\":\"x\",\"domain\":[0.0,1.0],\"title\":{\"text\":\"\"}},\"xaxis2\":{\"anchor\":\"y2\",\"domain\":[0.51,1.0],\"matches\":\"x\",\"title\":{\"text\":\"\"}},\"yaxis2\":{\"anchor\":\"x2\",\"domain\":[0.0,1.0],\"matches\":\"y\",\"showticklabels\":false},\"annotations\":[{\"showarrow\":false,\"text\":\"iOS\",\"x\":0.245,\"xanchor\":\"center\",\"xref\":\"paper\",\"y\":1.0,\"yanchor\":\"bottom\",\"yref\":\"paper\"},{\"showarrow\":false,\"text\":\"Android\",\"x\":0.755,\"xanchor\":\"center\",\"xref\":\"paper\",\"y\":1.0,\"yanchor\":\"bottom\",\"yref\":\"paper\"},{\"showarrow\":false,\"text\":\"v 0.7\",\"textangle\":-90,\"x\":\"2024-06-12\",\"xref\":\"x\",\"xshift\":6,\"y\":0,\"yanchor\":\"bottom\"},{\"showarrow\":false,\"text\":\"v 0.7\",\"textangle\":-90,\"x\":\"2024-06-12\",\"xref\":\"x2\",\"xshift\":6,\"y\":0,\"yanchor\":\"bottom\"},{\"showarrow\":false,\"text\":\"v 0.8\",\"textangle\":-90,\"x\":\"2024-06-24\",\"xref\":\"x\",\"xshift\":6,\"y\":0,\"yanchor\":\"bottom\"},{\"showarrow\":false,\"text\":\"v 0.8\",\"textangle\":-90,\"x\":\"2024-06-24\",\"xref\":\"x2\",\"xshift\":6,\"y\":0,\"yanchor\":\"bottom\"},{\"showarrow\":false,\"text\":\"v 0.9\",\"textangle\":-90,\"x\":\"2024-07-21\",\"xref\":\"x\",\"xshift\":6,\"y\":0,\"yanchor\":\"bottom\"},{\"showarrow\":false,\"text\":\"v 0.9\",\"textangle\":-90,\"x\":\"2024-07-21\",\"xref\":\"x2\",\"xshift\":6,\"y\":0,\"yanchor\":\"bottom\"}],\"legend\":{\"title\":{\"text\":\"offer_type\"},\"tracegroupgap\":0},\"margin\":{\"t\":60},\"shapes\":[{\"line\":{\"color\":\"red\",\"width\":2},\"opacity\":0.3,\"type\":\"line\",\"x0\":\"2024-06-12\",\"x1\":\"2024-06-12\",\"xref\":\"x\",\"y0\":0,\"y1\":1,\"yref\":\"y domain\"},{\"line\":{\"color\":\"red\",\"width\":2},\"opacity\":0.3,\"type\":\"line\",\"x0\":\"2024-06-12\",\"x1\":\"2024-06-12\",\"xref\":\"x2\",\"y0\":0,\"y1\":1,\"yref\":\"y2 domain\"},{\"line\":{\"color\":\"red\",\"width\":2},\"opacity\":0.3,\"type\":\"line\",\"x0\":\"2024-06-24\",\"x1\":\"2024-06-24\",\"xref\":\"x\",\"y0\":0,\"y1\":1,\"yref\":\"y domain\"},{\"line\":{\"color\":\"red\",\"width\":2},\"opacity\":0.3,\"type\":\"line\",\"x0\":\"2024-06-24\",\"x1\":\"2024-06-24\",\"xref\":\"x2\",\"y0\":0,\"y1\":1,\"yref\":\"y2 domain\"},{\"line\":{\"color\":\"red\",\"width\":2},\"opacity\":0.3,\"type\":\"line\",\"x0\":\"2024-07-21\",\"x1\":\"2024-07-21\",\"xref\":\"x\",\"y0\":0,\"y1\":1,\"yref\":\"y domain\"},{\"line\":{\"color\":\"red\",\"width\":2},\"opacity\":0.3,\"type\":\"line\",\"x0\":\"2024-07-21\",\"x1\":\"2024-07-21\",\"xref\":\"x2\",\"y0\":0,\"y1\":1,\"yref\":\"y2 domain\"}],\"title\":{\"text\":\"My precious project: Revenue structure\"},\"height\":500},                        {\"responsive\": true}                    ).then(function(){\n",
       "                            \n",
       "var gd = document.getElementById('b2167167-f163-42ce-a8f9-e0c4653092e5');\n",
       "var x = new MutationObserver(function (mutations, observer) {{\n",
       "        var display = window.getComputedStyle(gd).display;\n",
       "        if (!display || display === 'none') {{\n",
       "            console.log([gd, 'removed!']);\n",
       "            Plotly.purge(gd);\n",
       "            observer.disconnect();\n",
       "        }}\n",
       "}});\n",
       "\n",
       "// Listen for the removal of the full notebook cells\n",
       "var notebookContainer = gd.closest('#notebook-container');\n",
       "if (notebookContainer) {{\n",
       "    x.observe(notebookContainer, {childList: true});\n",
       "}}\n",
       "\n",
       "// Listen for the clearing of the current output cell\n",
       "var outputEl = gd.closest('.output');\n",
       "if (outputEl) {{\n",
       "    x.observe(outputEl, {childList: true});\n",
       "}}\n",
       "\n",
       "                        })                };                });            </script>        </div>"
      ]
     },
     "metadata": {},
     "output_type": "display_data"
    }
   ],
   "source": [
    "fig = px.area(\n",
    "    payments_sample_stat_platform, \n",
    "    x='pay_dt', y='offer_revenue', color='offer_type', facet_col='platform',\n",
    "    # сортируем фасеты и категории в легенде\n",
    "    category_orders={\n",
    "        'platform': ['iOS', 'Android'],\n",
    "        'offer_type': ['in-app', 'starter pack', 'buff', 'battle pass'],         \n",
    "    },    \n",
    "    # https://plotly.com/python/hover-text-and-formatting/\n",
    "    hover_name='offer_type',\n",
    "    hover_data={\n",
    "        # https://github.com/d3/d3-3.x-api-reference/blob/master/Formatting.md\n",
    "        'offer_type': False,\n",
    "        'offer_revenue': ':.0f',\n",
    "        'total_revenue': ':.0f',\n",
    "        'revenue_share': ':.1%'\n",
    "    }\n",
    ")\n",
    "\n",
    "# приводим заголовки фасет в приличный вид\n",
    "fig.for_each_annotation(lambda a: a.update(text=a.text.split(\"=\")[1]))     \n",
    "\n",
    "# если надо, чтобы для каждой фасеты была своя ось y\n",
    "# fig.update_yaxes(matches=None)\n",
    "\n",
    "# убираем названия оси OX для всех фасет\n",
    "for axis in fig.layout:\n",
    "    if type(fig.layout[axis]) == go.layout.XAxis:\n",
    "        fig.layout[axis].title.text = ''    \n",
    "\n",
    "# вертикальные линии и подписи\n",
    "for i in versions_dict.keys():\n",
    "    fig.add_vline(i, line_width=2, line_color='red', opacity=0.3)\n",
    "    fig.add_annotation(x=i, xref='x', y=0, yanchor='bottom', text=versions_dict[i], showarrow=False, textangle=-90, xshift=6)\n",
    "    fig.add_annotation(x=i, xref='x2', y=0, yanchor='bottom', text=versions_dict[i], showarrow=False, textangle=-90, xshift=6)\n",
    "        \n",
    "fig.update_layout(\n",
    "    title=f'My precious project: Revenue structure',\n",
    "    yaxis=dict(title=''),\n",
    "    height=500\n",
    ")"
   ]
  },
  {
   "cell_type": "code",
   "execution_count": null,
   "id": "0dd95444-ee57-4c85-867a-8b1e5f868f54",
   "metadata": {},
   "outputs": [],
   "source": []
  },
  {
   "cell_type": "code",
   "execution_count": null,
   "id": "e6f05c96-de8b-4525-a580-eb2c506e3ddd",
   "metadata": {},
   "outputs": [],
   "source": []
  },
  {
   "cell_type": "markdown",
   "id": "6f8125ee-ed91-4b3b-9703-bb1fe1b51850",
   "metadata": {},
   "source": [
    "### subplots"
   ]
  },
  {
   "cell_type": "code",
   "execution_count": null,
   "id": "dd0e3930-b06d-4595-9171-7c59c8758483",
   "metadata": {},
   "outputs": [],
   "source": []
  },
  {
   "cell_type": "code",
   "execution_count": null,
   "id": "ffc75ca1-79fa-4f8e-b00e-50a2e6e388d9",
   "metadata": {},
   "outputs": [],
   "source": []
  },
  {
   "cell_type": "code",
   "execution_count": null,
   "id": "80845071-d7ae-4f99-b9e4-a544d060dfba",
   "metadata": {},
   "outputs": [],
   "source": []
  },
  {
   "cell_type": "code",
   "execution_count": null,
   "id": "b18dce0f-1ef5-4911-9038-b8bd54b505ce",
   "metadata": {},
   "outputs": [],
   "source": []
  },
  {
   "cell_type": "code",
   "execution_count": null,
   "id": "57568520-e403-4e6b-8cff-7de6c041b0c4",
   "metadata": {},
   "outputs": [],
   "source": []
  },
  {
   "cell_type": "code",
   "execution_count": null,
   "id": "2d7df0bf-982c-470d-b836-463c2912d58e",
   "metadata": {},
   "outputs": [],
   "source": []
  },
  {
   "cell_type": "code",
   "execution_count": null,
   "id": "f0c8c276-6db5-4731-a977-5346f2353e7c",
   "metadata": {},
   "outputs": [],
   "source": []
  },
  {
   "cell_type": "code",
   "execution_count": 24,
   "id": "f2548ce5-e3b8-45b4-86c5-72d5bda2f238",
   "metadata": {},
   "outputs": [
    {
     "data": {
      "application/vnd.jupyter.widget-view+json": {
       "model_id": "6d695ae7c7eb47f8b27919143b86b77f",
       "version_major": 2,
       "version_minor": 0
      },
      "text/plain": [
       "HBox(children=(Dropdown(description='Platform:', options=('Android', 'iOS', 'All platforms'), value='Android')…"
      ]
     },
     "metadata": {},
     "output_type": "display_data"
    },
    {
     "data": {
      "application/vnd.jupyter.widget-view+json": {
       "model_id": "6162ff814f4f4e868c519f275381d027",
       "version_major": 2,
       "version_minor": 0
      },
      "text/plain": [
       "Output()"
      ]
     },
     "metadata": {},
     "output_type": "display_data"
    }
   ],
   "source": [
    "wg_platform = widgets.Dropdown(\n",
    "    options=['Android', 'iOS', 'All platforms'],\n",
    "    value='Android',\n",
    "    description='Platform:',\n",
    ")\n",
    "\n",
    "wg_metric = widgets.Dropdown(\n",
    "    options=['n_payers', 'revenue'],\n",
    "    value='revenue',\n",
    "    description='Metric:',\n",
    ")\n",
    "\n",
    "wg_trendline = widgets.Dropdown(\n",
    "    options=['yes', 'no'],\n",
    "    value='no',\n",
    "    description='Add trendline:',\n",
    ")\n",
    "\n",
    "def response(wg_1, wg_2):\n",
    "    if wg_1 == 'All platforms':\n",
    "        tmp = payments_sample_stat.groupby(['pay_dt'])['n_payers', 'revenue'].sum().reset_index()\n",
    "        tmp['platform'] = wg_1\n",
    "    else:\n",
    "        tmp = payments_sample_stat[payments_sample_stat['platform'] == wg_1]\n",
    "    tmp['revenue_share'] = tmp['revenue'] / tmp.groupby(['pay_dt'])['revenue'].transform('sum')\n",
    "\n",
    "    fig = px.area(\n",
    "        tmp, x='pay_dt', y=wg_2, color='offer_type',\n",
    "        category_orders={\n",
    "            'offer_type': ['in-app', 'starter pack', 'buff', 'battle pass', 'premium'],         \n",
    "        },\n",
    "        # text='build',\n",
    "        # hover_name=\"robot\",         \n",
    "        hover_data={                \n",
    "            'revenue': ':.2f',\n",
    "            'revenue_share': ':.2f',            \n",
    "            'n_payers': True\n",
    "        }             \n",
    "    )\n",
    "    fig.update_layout(\n",
    "        # showlegend=False,\n",
    "        title=f'My precious project: {wg_2}, {wg_1}',\n",
    "        yaxis=dict(title='', rangemode='tozero'),\n",
    "        height=500\n",
    "    )    \n",
    "    fig.show()\n",
    "    \n",
    "ui = widgets.HBox([wg_platform, wg_metric])\n",
    "out = widgets.interactive_output(response, {'wg_1': wg_platform, 'wg_2': wg_metric})\n",
    "display(ui, out)"
   ]
  },
  {
   "cell_type": "code",
   "execution_count": null,
   "id": "771189ec-78d1-45e8-9159-985e183865cd",
   "metadata": {},
   "outputs": [],
   "source": []
  },
  {
   "cell_type": "code",
   "execution_count": null,
   "id": "c70b78c5-f87b-4c93-be42-71b3ba20208d",
   "metadata": {},
   "outputs": [],
   "source": []
  },
  {
   "cell_type": "code",
   "execution_count": null,
   "id": "1237ce41-e18d-4dbc-aed1-f6177ff19e60",
   "metadata": {},
   "outputs": [],
   "source": []
  },
  {
   "cell_type": "markdown",
   "id": "e195c257-1c45-4f9d-9286-1d3b3cbbc9c1",
   "metadata": {},
   "source": [
    "# End"
   ]
  },
  {
   "cell_type": "code",
   "execution_count": null,
   "id": "744def1e-65a7-403c-8e70-d4c371cc8985",
   "metadata": {},
   "outputs": [],
   "source": []
  }
 ],
 "metadata": {
  "kernelspec": {
   "display_name": "Python 3 (ipykernel)",
   "language": "python",
   "name": "python3"
  },
  "language_info": {
   "codemirror_mode": {
    "name": "ipython",
    "version": 3
   },
   "file_extension": ".py",
   "mimetype": "text/x-python",
   "name": "python",
   "nbconvert_exporter": "python",
   "pygments_lexer": "ipython3",
   "version": "3.11.6"
  }
 },
 "nbformat": 4,
 "nbformat_minor": 5
}
